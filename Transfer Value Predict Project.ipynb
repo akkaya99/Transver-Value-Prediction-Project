{
 "cells": [
  {
   "cell_type": "code",
   "execution_count": 145,
   "metadata": {},
   "outputs": [],
   "source": [
    "import numpy as np\n",
    "import pandas as pd\n",
    "import seaborn as sns\n",
    "from sklearn.model_selection import train_test_split, GridSearchCV\n",
    "from sklearn.metrics import mean_squared_error\n",
    "from sklearn.linear_model import LinearRegression\n",
    "from sklearn.tree import DecisionTreeRegressor\n",
    "from sklearn.neighbors import KNeighborsRegressor\n",
    "from sklearn.ensemble import RandomForestRegressor\n",
    "from sklearn.ensemble import GradientBoostingRegressor\n",
    "from sklearn import neighbors\n",
    "from warnings import filterwarnings\n",
    "import missingno as msno\n",
    "from xgboost import XGBRegressor\n",
    "from lightgbm import LGBMRegressor\n",
    "from catboost import CatBoostRegressor\n",
    "filterwarnings(\"ignore\")"
   ]
  },
  {
   "cell_type": "code",
   "execution_count": 146,
   "metadata": {},
   "outputs": [],
   "source": [
    "data=pd.read_csv(\"C:/Users/User/Desktop/top250-00-19.csv\")"
   ]
  },
  {
   "cell_type": "markdown",
   "metadata": {},
   "source": [
    "<b>Examining the Data Set Structure</b>"
   ]
  },
  {
   "cell_type": "code",
   "execution_count": 147,
   "metadata": {},
   "outputs": [],
   "source": [
    "df=data.copy()"
   ]
  },
  {
   "cell_type": "code",
   "execution_count": 148,
   "metadata": {},
   "outputs": [
    {
     "data": {
      "text/html": [
       "<div>\n",
       "<style scoped>\n",
       "    .dataframe tbody tr th:only-of-type {\n",
       "        vertical-align: middle;\n",
       "    }\n",
       "\n",
       "    .dataframe tbody tr th {\n",
       "        vertical-align: top;\n",
       "    }\n",
       "\n",
       "    .dataframe thead th {\n",
       "        text-align: right;\n",
       "    }\n",
       "</style>\n",
       "<table border=\"1\" class=\"dataframe\">\n",
       "  <thead>\n",
       "    <tr style=\"text-align: right;\">\n",
       "      <th></th>\n",
       "      <th>Name</th>\n",
       "      <th>Position</th>\n",
       "      <th>Age</th>\n",
       "      <th>Team_from</th>\n",
       "      <th>League_from</th>\n",
       "      <th>Team_to</th>\n",
       "      <th>League_to</th>\n",
       "      <th>Season</th>\n",
       "      <th>Market_value</th>\n",
       "      <th>Transfer_fee</th>\n",
       "    </tr>\n",
       "  </thead>\n",
       "  <tbody>\n",
       "    <tr>\n",
       "      <th>0</th>\n",
       "      <td>Luís Figo</td>\n",
       "      <td>Right Winger</td>\n",
       "      <td>27</td>\n",
       "      <td>FC Barcelona</td>\n",
       "      <td>LaLiga</td>\n",
       "      <td>Real Madrid</td>\n",
       "      <td>LaLiga</td>\n",
       "      <td>2000-2001</td>\n",
       "      <td>NaN</td>\n",
       "      <td>60000000</td>\n",
       "    </tr>\n",
       "    <tr>\n",
       "      <th>1</th>\n",
       "      <td>Hernán Crespo</td>\n",
       "      <td>Centre-Forward</td>\n",
       "      <td>25</td>\n",
       "      <td>Parma</td>\n",
       "      <td>Serie A</td>\n",
       "      <td>Lazio</td>\n",
       "      <td>Serie A</td>\n",
       "      <td>2000-2001</td>\n",
       "      <td>NaN</td>\n",
       "      <td>56810000</td>\n",
       "    </tr>\n",
       "    <tr>\n",
       "      <th>2</th>\n",
       "      <td>Marc Overmars</td>\n",
       "      <td>Left Winger</td>\n",
       "      <td>27</td>\n",
       "      <td>Arsenal</td>\n",
       "      <td>Premier League</td>\n",
       "      <td>FC Barcelona</td>\n",
       "      <td>LaLiga</td>\n",
       "      <td>2000-2001</td>\n",
       "      <td>NaN</td>\n",
       "      <td>40000000</td>\n",
       "    </tr>\n",
       "    <tr>\n",
       "      <th>3</th>\n",
       "      <td>Gabriel Batistuta</td>\n",
       "      <td>Centre-Forward</td>\n",
       "      <td>31</td>\n",
       "      <td>Fiorentina</td>\n",
       "      <td>Serie A</td>\n",
       "      <td>AS Roma</td>\n",
       "      <td>Serie A</td>\n",
       "      <td>2000-2001</td>\n",
       "      <td>NaN</td>\n",
       "      <td>36150000</td>\n",
       "    </tr>\n",
       "    <tr>\n",
       "      <th>4</th>\n",
       "      <td>Nicolas Anelka</td>\n",
       "      <td>Centre-Forward</td>\n",
       "      <td>21</td>\n",
       "      <td>Real Madrid</td>\n",
       "      <td>LaLiga</td>\n",
       "      <td>Paris SG</td>\n",
       "      <td>Ligue 1</td>\n",
       "      <td>2000-2001</td>\n",
       "      <td>NaN</td>\n",
       "      <td>34500000</td>\n",
       "    </tr>\n",
       "    <tr>\n",
       "      <th>5</th>\n",
       "      <td>Rio Ferdinand</td>\n",
       "      <td>Centre-Back</td>\n",
       "      <td>22</td>\n",
       "      <td>West Ham</td>\n",
       "      <td>Premier League</td>\n",
       "      <td>Leeds</td>\n",
       "      <td>Premier League</td>\n",
       "      <td>2000-2001</td>\n",
       "      <td>NaN</td>\n",
       "      <td>26000000</td>\n",
       "    </tr>\n",
       "    <tr>\n",
       "      <th>6</th>\n",
       "      <td>Flávio Conceicao</td>\n",
       "      <td>Central Midfield</td>\n",
       "      <td>26</td>\n",
       "      <td>Dep. La Coruña</td>\n",
       "      <td>LaLiga</td>\n",
       "      <td>Real Madrid</td>\n",
       "      <td>LaLiga</td>\n",
       "      <td>2000-2001</td>\n",
       "      <td>NaN</td>\n",
       "      <td>25000000</td>\n",
       "    </tr>\n",
       "    <tr>\n",
       "      <th>7</th>\n",
       "      <td>Savo Milosevic</td>\n",
       "      <td>Centre-Forward</td>\n",
       "      <td>26</td>\n",
       "      <td>Real Zaragoza</td>\n",
       "      <td>LaLiga</td>\n",
       "      <td>Parma</td>\n",
       "      <td>Serie A</td>\n",
       "      <td>2000-2001</td>\n",
       "      <td>NaN</td>\n",
       "      <td>25000000</td>\n",
       "    </tr>\n",
       "    <tr>\n",
       "      <th>8</th>\n",
       "      <td>David Trézéguet</td>\n",
       "      <td>Centre-Forward</td>\n",
       "      <td>22</td>\n",
       "      <td>Monaco</td>\n",
       "      <td>Ligue 1</td>\n",
       "      <td>Juventus</td>\n",
       "      <td>Serie A</td>\n",
       "      <td>2000-2001</td>\n",
       "      <td>NaN</td>\n",
       "      <td>23240000</td>\n",
       "    </tr>\n",
       "    <tr>\n",
       "      <th>9</th>\n",
       "      <td>Claudio López</td>\n",
       "      <td>Centre-Forward</td>\n",
       "      <td>25</td>\n",
       "      <td>Valencia CF</td>\n",
       "      <td>LaLiga</td>\n",
       "      <td>Lazio</td>\n",
       "      <td>Serie A</td>\n",
       "      <td>2000-2001</td>\n",
       "      <td>NaN</td>\n",
       "      <td>23000000</td>\n",
       "    </tr>\n",
       "  </tbody>\n",
       "</table>\n",
       "</div>"
      ],
      "text/plain": [
       "                Name          Position  Age       Team_from     League_from  \\\n",
       "0          Luís Figo      Right Winger   27    FC Barcelona          LaLiga   \n",
       "1      Hernán Crespo    Centre-Forward   25           Parma         Serie A   \n",
       "2      Marc Overmars       Left Winger   27         Arsenal  Premier League   \n",
       "3  Gabriel Batistuta    Centre-Forward   31      Fiorentina         Serie A   \n",
       "4     Nicolas Anelka    Centre-Forward   21     Real Madrid          LaLiga   \n",
       "5      Rio Ferdinand       Centre-Back   22        West Ham  Premier League   \n",
       "6   Flávio Conceicao  Central Midfield   26  Dep. La Coruña          LaLiga   \n",
       "7     Savo Milosevic    Centre-Forward   26   Real Zaragoza          LaLiga   \n",
       "8    David Trézéguet    Centre-Forward   22          Monaco         Ligue 1   \n",
       "9      Claudio López    Centre-Forward   25     Valencia CF          LaLiga   \n",
       "\n",
       "        Team_to       League_to     Season  Market_value  Transfer_fee  \n",
       "0   Real Madrid          LaLiga  2000-2001           NaN      60000000  \n",
       "1         Lazio         Serie A  2000-2001           NaN      56810000  \n",
       "2  FC Barcelona          LaLiga  2000-2001           NaN      40000000  \n",
       "3       AS Roma         Serie A  2000-2001           NaN      36150000  \n",
       "4      Paris SG         Ligue 1  2000-2001           NaN      34500000  \n",
       "5         Leeds  Premier League  2000-2001           NaN      26000000  \n",
       "6   Real Madrid          LaLiga  2000-2001           NaN      25000000  \n",
       "7         Parma         Serie A  2000-2001           NaN      25000000  \n",
       "8      Juventus         Serie A  2000-2001           NaN      23240000  \n",
       "9         Lazio         Serie A  2000-2001           NaN      23000000  "
      ]
     },
     "execution_count": 148,
     "metadata": {},
     "output_type": "execute_result"
    }
   ],
   "source": [
    "df.head(10)"
   ]
  },
  {
   "cell_type": "code",
   "execution_count": 149,
   "metadata": {},
   "outputs": [
    {
     "data": {
      "text/html": [
       "<div>\n",
       "<style scoped>\n",
       "    .dataframe tbody tr th:only-of-type {\n",
       "        vertical-align: middle;\n",
       "    }\n",
       "\n",
       "    .dataframe tbody tr th {\n",
       "        vertical-align: top;\n",
       "    }\n",
       "\n",
       "    .dataframe thead th {\n",
       "        text-align: right;\n",
       "    }\n",
       "</style>\n",
       "<table border=\"1\" class=\"dataframe\">\n",
       "  <thead>\n",
       "    <tr style=\"text-align: right;\">\n",
       "      <th></th>\n",
       "      <th>Name</th>\n",
       "      <th>Position</th>\n",
       "      <th>Age</th>\n",
       "      <th>Team_from</th>\n",
       "      <th>League_from</th>\n",
       "      <th>Team_to</th>\n",
       "      <th>League_to</th>\n",
       "      <th>Season</th>\n",
       "      <th>Market_value</th>\n",
       "      <th>Transfer_fee</th>\n",
       "    </tr>\n",
       "  </thead>\n",
       "  <tbody>\n",
       "    <tr>\n",
       "      <th>4690</th>\n",
       "      <td>Marco Carraro</td>\n",
       "      <td>Defensive Midfield</td>\n",
       "      <td>20</td>\n",
       "      <td>Inter</td>\n",
       "      <td>Serie A</td>\n",
       "      <td>Atalanta</td>\n",
       "      <td>Serie A</td>\n",
       "      <td>2018-2019</td>\n",
       "      <td>800000.0</td>\n",
       "      <td>5000000</td>\n",
       "    </tr>\n",
       "    <tr>\n",
       "      <th>4691</th>\n",
       "      <td>Jonathan Ikoné</td>\n",
       "      <td>Attacking Midfield</td>\n",
       "      <td>20</td>\n",
       "      <td>Paris SG</td>\n",
       "      <td>Ligue 1</td>\n",
       "      <td>LOSC Lille</td>\n",
       "      <td>Ligue 1</td>\n",
       "      <td>2018-2019</td>\n",
       "      <td>700000.0</td>\n",
       "      <td>5000000</td>\n",
       "    </tr>\n",
       "    <tr>\n",
       "      <th>4692</th>\n",
       "      <td>Giangiacomo Magnani</td>\n",
       "      <td>Centre-Back</td>\n",
       "      <td>22</td>\n",
       "      <td>Juventus</td>\n",
       "      <td>Serie A</td>\n",
       "      <td>Sassuolo</td>\n",
       "      <td>Serie A</td>\n",
       "      <td>2018-2019</td>\n",
       "      <td>600000.0</td>\n",
       "      <td>5000000</td>\n",
       "    </tr>\n",
       "    <tr>\n",
       "      <th>4693</th>\n",
       "      <td>Giangiacomo Magnani</td>\n",
       "      <td>Centre-Back</td>\n",
       "      <td>22</td>\n",
       "      <td>Perugia</td>\n",
       "      <td>Serie B</td>\n",
       "      <td>Juventus</td>\n",
       "      <td>Serie A</td>\n",
       "      <td>2018-2019</td>\n",
       "      <td>600000.0</td>\n",
       "      <td>5000000</td>\n",
       "    </tr>\n",
       "    <tr>\n",
       "      <th>4694</th>\n",
       "      <td>Evan N'Dicka</td>\n",
       "      <td>Centre-Back</td>\n",
       "      <td>18</td>\n",
       "      <td>AJ Auxerre</td>\n",
       "      <td>Ligue 2</td>\n",
       "      <td>E. Frankfurt</td>\n",
       "      <td>1.Bundesliga</td>\n",
       "      <td>2018-2019</td>\n",
       "      <td>400000.0</td>\n",
       "      <td>5000000</td>\n",
       "    </tr>\n",
       "    <tr>\n",
       "      <th>4695</th>\n",
       "      <td>Jasmin Kurtic</td>\n",
       "      <td>Attacking Midfield</td>\n",
       "      <td>29</td>\n",
       "      <td>Atalanta</td>\n",
       "      <td>Serie A</td>\n",
       "      <td>SPAL</td>\n",
       "      <td>Serie A</td>\n",
       "      <td>2018-2019</td>\n",
       "      <td>5000000.0</td>\n",
       "      <td>4800000</td>\n",
       "    </tr>\n",
       "    <tr>\n",
       "      <th>4696</th>\n",
       "      <td>Tchê Tchê</td>\n",
       "      <td>Central Midfield</td>\n",
       "      <td>25</td>\n",
       "      <td>Palmeiras</td>\n",
       "      <td>Série A</td>\n",
       "      <td>Dynamo Kyiv</td>\n",
       "      <td>Premier Liga</td>\n",
       "      <td>2018-2019</td>\n",
       "      <td>3000000.0</td>\n",
       "      <td>4800000</td>\n",
       "    </tr>\n",
       "    <tr>\n",
       "      <th>4697</th>\n",
       "      <td>Silvan Widmer</td>\n",
       "      <td>Right-Back</td>\n",
       "      <td>25</td>\n",
       "      <td>Udinese Calcio</td>\n",
       "      <td>Serie A</td>\n",
       "      <td>FC Basel</td>\n",
       "      <td>Super League</td>\n",
       "      <td>2018-2019</td>\n",
       "      <td>8500000.0</td>\n",
       "      <td>4500000</td>\n",
       "    </tr>\n",
       "    <tr>\n",
       "      <th>4698</th>\n",
       "      <td>Yuya Osako</td>\n",
       "      <td>Second Striker</td>\n",
       "      <td>28</td>\n",
       "      <td>1. FC Köln</td>\n",
       "      <td>2.Bundesliga</td>\n",
       "      <td>Werder Bremen</td>\n",
       "      <td>1.Bundesliga</td>\n",
       "      <td>2018-2019</td>\n",
       "      <td>4500000.0</td>\n",
       "      <td>4500000</td>\n",
       "    </tr>\n",
       "    <tr>\n",
       "      <th>4699</th>\n",
       "      <td>Kyle Bartley</td>\n",
       "      <td>Centre-Back</td>\n",
       "      <td>27</td>\n",
       "      <td>Swansea</td>\n",
       "      <td>Championship</td>\n",
       "      <td>West Brom</td>\n",
       "      <td>Championship</td>\n",
       "      <td>2018-2019</td>\n",
       "      <td>3500000.0</td>\n",
       "      <td>4500000</td>\n",
       "    </tr>\n",
       "  </tbody>\n",
       "</table>\n",
       "</div>"
      ],
      "text/plain": [
       "                     Name            Position  Age       Team_from  \\\n",
       "4690        Marco Carraro  Defensive Midfield   20           Inter   \n",
       "4691       Jonathan Ikoné  Attacking Midfield   20        Paris SG   \n",
       "4692  Giangiacomo Magnani         Centre-Back   22        Juventus   \n",
       "4693  Giangiacomo Magnani         Centre-Back   22         Perugia   \n",
       "4694         Evan N'Dicka         Centre-Back   18      AJ Auxerre   \n",
       "4695        Jasmin Kurtic  Attacking Midfield   29        Atalanta   \n",
       "4696            Tchê Tchê    Central Midfield   25       Palmeiras   \n",
       "4697        Silvan Widmer          Right-Back   25  Udinese Calcio   \n",
       "4698           Yuya Osako      Second Striker   28      1. FC Köln   \n",
       "4699         Kyle Bartley         Centre-Back   27         Swansea   \n",
       "\n",
       "       League_from        Team_to     League_to     Season  Market_value  \\\n",
       "4690       Serie A       Atalanta       Serie A  2018-2019      800000.0   \n",
       "4691       Ligue 1     LOSC Lille       Ligue 1  2018-2019      700000.0   \n",
       "4692       Serie A       Sassuolo       Serie A  2018-2019      600000.0   \n",
       "4693       Serie B       Juventus       Serie A  2018-2019      600000.0   \n",
       "4694       Ligue 2   E. Frankfurt  1.Bundesliga  2018-2019      400000.0   \n",
       "4695       Serie A           SPAL       Serie A  2018-2019     5000000.0   \n",
       "4696       Série A    Dynamo Kyiv  Premier Liga  2018-2019     3000000.0   \n",
       "4697       Serie A       FC Basel  Super League  2018-2019     8500000.0   \n",
       "4698  2.Bundesliga  Werder Bremen  1.Bundesliga  2018-2019     4500000.0   \n",
       "4699  Championship      West Brom  Championship  2018-2019     3500000.0   \n",
       "\n",
       "      Transfer_fee  \n",
       "4690       5000000  \n",
       "4691       5000000  \n",
       "4692       5000000  \n",
       "4693       5000000  \n",
       "4694       5000000  \n",
       "4695       4800000  \n",
       "4696       4800000  \n",
       "4697       4500000  \n",
       "4698       4500000  \n",
       "4699       4500000  "
      ]
     },
     "execution_count": 149,
     "metadata": {},
     "output_type": "execute_result"
    }
   ],
   "source": [
    "df.tail(10)"
   ]
  },
  {
   "cell_type": "code",
   "execution_count": 150,
   "metadata": {},
   "outputs": [
    {
     "data": {
      "text/plain": [
       "Name             object\n",
       "Position         object\n",
       "Age               int64\n",
       "Team_from        object\n",
       "League_from      object\n",
       "Team_to          object\n",
       "League_to        object\n",
       "Season           object\n",
       "Market_value    float64\n",
       "Transfer_fee      int64\n",
       "dtype: object"
      ]
     },
     "execution_count": 150,
     "metadata": {},
     "output_type": "execute_result"
    }
   ],
   "source": [
    "df.dtypes"
   ]
  },
  {
   "cell_type": "code",
   "execution_count": 151,
   "metadata": {},
   "outputs": [
    {
     "data": {
      "text/plain": [
       "Name               0\n",
       "Position           0\n",
       "Age                0\n",
       "Team_from          0\n",
       "League_from        0\n",
       "Team_to            0\n",
       "League_to          0\n",
       "Season             0\n",
       "Market_value    1260\n",
       "Transfer_fee       0\n",
       "dtype: int64"
      ]
     },
     "execution_count": 151,
     "metadata": {},
     "output_type": "execute_result"
    }
   ],
   "source": [
    "df.isnull().sum()\n",
    "#Missing Value Analysis"
   ]
  },
  {
   "cell_type": "code",
   "execution_count": 152,
   "metadata": {},
   "outputs": [
    {
     "name": "stdout",
     "output_type": "stream",
     "text": [
      "<class 'pandas.core.frame.DataFrame'>\n",
      "RangeIndex: 4700 entries, 0 to 4699\n",
      "Data columns (total 10 columns):\n",
      " #   Column        Non-Null Count  Dtype  \n",
      "---  ------        --------------  -----  \n",
      " 0   Name          4700 non-null   object \n",
      " 1   Position      4700 non-null   object \n",
      " 2   Age           4700 non-null   int64  \n",
      " 3   Team_from     4700 non-null   object \n",
      " 4   League_from   4700 non-null   object \n",
      " 5   Team_to       4700 non-null   object \n",
      " 6   League_to     4700 non-null   object \n",
      " 7   Season        4700 non-null   object \n",
      " 8   Market_value  3440 non-null   float64\n",
      " 9   Transfer_fee  4700 non-null   int64  \n",
      "dtypes: float64(1), int64(2), object(7)\n",
      "memory usage: 367.3+ KB\n"
     ]
    }
   ],
   "source": [
    "df.info()"
   ]
  },
  {
   "cell_type": "code",
   "execution_count": 153,
   "metadata": {},
   "outputs": [
    {
     "data": {
      "text/plain": [
       "(4700, 10)"
      ]
     },
     "execution_count": 153,
     "metadata": {},
     "output_type": "execute_result"
    }
   ],
   "source": [
    "df.shape"
   ]
  },
  {
   "cell_type": "code",
   "execution_count": 154,
   "metadata": {},
   "outputs": [
    {
     "data": {
      "text/plain": [
       "Index(['Name', 'Position', 'Age', 'Team_from', 'League_from', 'Team_to',\n",
       "       'League_to', 'Season', 'Market_value', 'Transfer_fee'],\n",
       "      dtype='object')"
      ]
     },
     "execution_count": 154,
     "metadata": {},
     "output_type": "execute_result"
    }
   ],
   "source": [
    "df.columns"
   ]
  },
  {
   "cell_type": "code",
   "execution_count": 155,
   "metadata": {},
   "outputs": [
    {
     "data": {
      "text/html": [
       "<div>\n",
       "<style scoped>\n",
       "    .dataframe tbody tr th:only-of-type {\n",
       "        vertical-align: middle;\n",
       "    }\n",
       "\n",
       "    .dataframe tbody tr th {\n",
       "        vertical-align: top;\n",
       "    }\n",
       "\n",
       "    .dataframe thead th {\n",
       "        text-align: right;\n",
       "    }\n",
       "</style>\n",
       "<table border=\"1\" class=\"dataframe\">\n",
       "  <thead>\n",
       "    <tr style=\"text-align: right;\">\n",
       "      <th></th>\n",
       "      <th>count</th>\n",
       "      <th>mean</th>\n",
       "      <th>std</th>\n",
       "      <th>min</th>\n",
       "      <th>25%</th>\n",
       "      <th>50%</th>\n",
       "      <th>75%</th>\n",
       "      <th>max</th>\n",
       "    </tr>\n",
       "  </thead>\n",
       "  <tbody>\n",
       "    <tr>\n",
       "      <th>Age</th>\n",
       "      <td>4700.0</td>\n",
       "      <td>2.433872e+01</td>\n",
       "      <td>3.230809e+00</td>\n",
       "      <td>0.0</td>\n",
       "      <td>22.0</td>\n",
       "      <td>24.0</td>\n",
       "      <td>27.0</td>\n",
       "      <td>35.0</td>\n",
       "    </tr>\n",
       "    <tr>\n",
       "      <th>Market_value</th>\n",
       "      <td>3440.0</td>\n",
       "      <td>8.622469e+06</td>\n",
       "      <td>8.795181e+06</td>\n",
       "      <td>50000.0</td>\n",
       "      <td>3500000.0</td>\n",
       "      <td>6000000.0</td>\n",
       "      <td>10000000.0</td>\n",
       "      <td>120000000.0</td>\n",
       "    </tr>\n",
       "    <tr>\n",
       "      <th>Transfer_fee</th>\n",
       "      <td>4700.0</td>\n",
       "      <td>9.447586e+06</td>\n",
       "      <td>1.043772e+07</td>\n",
       "      <td>825000.0</td>\n",
       "      <td>4000000.0</td>\n",
       "      <td>6500000.0</td>\n",
       "      <td>10820000.0</td>\n",
       "      <td>222000000.0</td>\n",
       "    </tr>\n",
       "  </tbody>\n",
       "</table>\n",
       "</div>"
      ],
      "text/plain": [
       "               count          mean           std       min        25%  \\\n",
       "Age           4700.0  2.433872e+01  3.230809e+00       0.0       22.0   \n",
       "Market_value  3440.0  8.622469e+06  8.795181e+06   50000.0  3500000.0   \n",
       "Transfer_fee  4700.0  9.447586e+06  1.043772e+07  825000.0  4000000.0   \n",
       "\n",
       "                    50%         75%          max  \n",
       "Age                24.0        27.0         35.0  \n",
       "Market_value  6000000.0  10000000.0  120000000.0  \n",
       "Transfer_fee  6500000.0  10820000.0  222000000.0  "
      ]
     },
     "execution_count": 155,
     "metadata": {},
     "output_type": "execute_result"
    }
   ],
   "source": [
    "df.describe().T"
   ]
  },
  {
   "cell_type": "code",
   "execution_count": 156,
   "metadata": {},
   "outputs": [
    {
     "data": {
      "image/png": "[encoded data removed]",
      "text/plain": [
       "<Figure size 432x288 with 1 Axes>"
      ]
     },
     "metadata": {
      "needs_background": "light"
     },
     "output_type": "display_data"
    }
   ],
   "source": [
    "df[\"Age\"].value_counts().plot.barh().set_title(\"Ages of Players\");"
   ]
  },
  {
   "cell_type": "code",
   "execution_count": 157,
   "metadata": {},
   "outputs": [
    {
     "data": {
      "text/plain": [
       "<matplotlib.axes._subplots.AxesSubplot at 0x290078fdeb0>"
      ]
     },
     "execution_count": 157,
     "metadata": {},
     "output_type": "execute_result"
    },
    {
     "data": {
      "image/png": "[encoded data removed]",
      "text/plain": [
       "<Figure size 432x288 with 1 Axes>"
      ]
     },
     "metadata": {
      "needs_background": "light"
     },
     "output_type": "display_data"
    }
   ],
   "source": [
    "sns.distplot(df.Market_value,kde=False)"
   ]
  },
  {
   "cell_type": "code",
   "execution_count": 158,
   "metadata": {},
   "outputs": [
    {
     "data": {
      "text/plain": [
       "<matplotlib.axes._subplots.AxesSubplot at 0x290042264f0>"
      ]
     },
     "execution_count": 158,
     "metadata": {},
     "output_type": "execute_result"
    },
    {
     "data": {
      "image/png": "[encoded data removed]",
      "text/plain": [
       "<Figure size 432x288 with 1 Axes>"
      ]
     },
     "metadata": {
      "needs_background": "light"
     },
     "output_type": "display_data"
    }
   ],
   "source": [
    "sns.distplot(df.Transfer_fee,kde=False)"
   ]
  },
  {
   "cell_type": "markdown",
   "metadata": {},
   "source": [
    "<b>Outliers</b>"
   ]
  },
  {
   "cell_type": "code",
   "execution_count": 159,
   "metadata": {},
   "outputs": [
    {
     "data": {
      "text/plain": [
       "0    27\n",
       "1    25\n",
       "2    27\n",
       "3    31\n",
       "4    21\n",
       "5    22\n",
       "6    26\n",
       "7    26\n",
       "8    22\n",
       "9    25\n",
       "Name: Age, dtype: int64"
      ]
     },
     "execution_count": 159,
     "metadata": {},
     "output_type": "execute_result"
    }
   ],
   "source": [
    "#Age Outliers\n",
    "df_age=df[\"Age\"]\n",
    "df_age.head(10)"
   ]
  },
  {
   "cell_type": "code",
   "execution_count": 160,
   "metadata": {},
   "outputs": [
    {
     "data": {
      "image/png": "[encoded data removed]",
      "text/plain": [
       "<Figure size 432x288 with 1 Axes>"
      ]
     },
     "metadata": {
      "needs_background": "light"
     },
     "output_type": "display_data"
    }
   ],
   "source": [
    "sns.boxplot(x=df_age);"
   ]
  },
  {
   "cell_type": "code",
   "execution_count": 161,
   "metadata": {},
   "outputs": [],
   "source": [
    "Q1=df_age.quantile(0.25)\n",
    "Q3=df_age.quantile(0.75)\n",
    "IQR=Q3-Q1"
   ]
  },
  {
   "cell_type": "code",
   "execution_count": 162,
   "metadata": {},
   "outputs": [],
   "source": [
    "low_limit=Q1-1.5*IQR\n",
    "up_limit=Q3+1.5*IQR"
   ]
  },
  {
   "cell_type": "code",
   "execution_count": 163,
   "metadata": {},
   "outputs": [],
   "source": [
    "outlier_age=(df_age<low_limit)|(df_age>up_limit)"
   ]
  },
  {
   "cell_type": "code",
   "execution_count": 164,
   "metadata": {},
   "outputs": [
    {
     "data": {
      "text/plain": [
       "112     35\n",
       "236      0\n",
       "487     35\n",
       "2414    35\n",
       "2954    35\n",
       "Name: Age, dtype: int64"
      ]
     },
     "execution_count": 164,
     "metadata": {},
     "output_type": "execute_result"
    }
   ],
   "source": [
    "df_age[outlier_age]"
   ]
  },
  {
   "cell_type": "code",
   "execution_count": 165,
   "metadata": {},
   "outputs": [
    {
     "data": {
      "text/plain": [
       "0"
      ]
     },
     "execution_count": 165,
     "metadata": {},
     "output_type": "execute_result"
    }
   ],
   "source": [
    "df_age[236]"
   ]
  },
  {
   "cell_type": "code",
   "execution_count": 166,
   "metadata": {},
   "outputs": [],
   "source": [
    "df_age[236]=df_age.mean()"
   ]
  },
  {
   "cell_type": "code",
   "execution_count": 167,
   "metadata": {},
   "outputs": [
    {
     "data": {
      "text/plain": [
       "24"
      ]
     },
     "execution_count": 167,
     "metadata": {},
     "output_type": "execute_result"
    }
   ],
   "source": [
    "df_age[236]"
   ]
  },
  {
   "cell_type": "code",
   "execution_count": 168,
   "metadata": {},
   "outputs": [],
   "source": [
    "df_mv=df[\"Market_value\"]"
   ]
  },
  {
   "cell_type": "code",
   "execution_count": 169,
   "metadata": {},
   "outputs": [
    {
     "data": {
      "image/png": "[encoded data removed]",
      "text/plain": [
       "<Figure size 432x288 with 1 Axes>"
      ]
     },
     "metadata": {
      "needs_background": "light"
     },
     "output_type": "display_data"
    }
   ],
   "source": [
    "sns.boxplot(x=df_mv);"
   ]
  },
  {
   "cell_type": "code",
   "execution_count": 170,
   "metadata": {},
   "outputs": [],
   "source": [
    "df_tf=df[\"Transfer_fee\"]"
   ]
  },
  {
   "cell_type": "code",
   "execution_count": 171,
   "metadata": {},
   "outputs": [
    {
     "data": {
      "text/plain": [
       "<matplotlib.axes._subplots.AxesSubplot at 0x29004ee8d30>"
      ]
     },
     "execution_count": 171,
     "metadata": {},
     "output_type": "execute_result"
    },
    {
     "data": {
      "image/png": "[encoded data removed]",
      "text/plain": [
       "<Figure size 432x288 with 1 Axes>"
      ]
     },
     "metadata": {
      "needs_background": "light"
     },
     "output_type": "display_data"
    }
   ],
   "source": [
    "sns.boxplot(x=df_tf)"
   ]
  },
  {
   "cell_type": "markdown",
   "metadata": {},
   "source": [
    "<b>Missing Values</b>"
   ]
  },
  {
   "cell_type": "code",
   "execution_count": 172,
   "metadata": {},
   "outputs": [
    {
     "data": {
      "text/plain": [
       "<matplotlib.axes._subplots.AxesSubplot at 0x29004fa7070>"
      ]
     },
     "execution_count": 172,
     "metadata": {},
     "output_type": "execute_result"
    },
    {
     "data": {
      "image/png": "[encoded data removed]",
      "text/plain": [
       "<Figure size 1800x720 with 3 Axes>"
      ]
     },
     "metadata": {
      "needs_background": "light"
     },
     "output_type": "display_data"
    }
   ],
   "source": [
    "msno.bar(df,color=\"blue\")"
   ]
  },
  {
   "cell_type": "code",
   "execution_count": 173,
   "metadata": {},
   "outputs": [],
   "source": [
    "df[\"Market_value\"].fillna(df[\"Market_value\"].mean(),inplace=True)"
   ]
  },
  {
   "cell_type": "code",
   "execution_count": 174,
   "metadata": {},
   "outputs": [
    {
     "data": {
      "text/html": [
       "<div>\n",
       "<style scoped>\n",
       "    .dataframe tbody tr th:only-of-type {\n",
       "        vertical-align: middle;\n",
       "    }\n",
       "\n",
       "    .dataframe tbody tr th {\n",
       "        vertical-align: top;\n",
       "    }\n",
       "\n",
       "    .dataframe thead th {\n",
       "        text-align: right;\n",
       "    }\n",
       "</style>\n",
       "<table border=\"1\" class=\"dataframe\">\n",
       "  <thead>\n",
       "    <tr style=\"text-align: right;\">\n",
       "      <th></th>\n",
       "      <th>Name</th>\n",
       "      <th>Position</th>\n",
       "      <th>Age</th>\n",
       "      <th>Team_from</th>\n",
       "      <th>League_from</th>\n",
       "      <th>Team_to</th>\n",
       "      <th>League_to</th>\n",
       "      <th>Season</th>\n",
       "      <th>Market_value</th>\n",
       "      <th>Transfer_fee</th>\n",
       "    </tr>\n",
       "  </thead>\n",
       "  <tbody>\n",
       "    <tr>\n",
       "      <th>0</th>\n",
       "      <td>Luís Figo</td>\n",
       "      <td>Right Winger</td>\n",
       "      <td>27</td>\n",
       "      <td>FC Barcelona</td>\n",
       "      <td>LaLiga</td>\n",
       "      <td>Real Madrid</td>\n",
       "      <td>LaLiga</td>\n",
       "      <td>2000-2001</td>\n",
       "      <td>8.622469e+06</td>\n",
       "      <td>60000000</td>\n",
       "    </tr>\n",
       "    <tr>\n",
       "      <th>1</th>\n",
       "      <td>Hernán Crespo</td>\n",
       "      <td>Centre-Forward</td>\n",
       "      <td>25</td>\n",
       "      <td>Parma</td>\n",
       "      <td>Serie A</td>\n",
       "      <td>Lazio</td>\n",
       "      <td>Serie A</td>\n",
       "      <td>2000-2001</td>\n",
       "      <td>8.622469e+06</td>\n",
       "      <td>56810000</td>\n",
       "    </tr>\n",
       "    <tr>\n",
       "      <th>2</th>\n",
       "      <td>Marc Overmars</td>\n",
       "      <td>Left Winger</td>\n",
       "      <td>27</td>\n",
       "      <td>Arsenal</td>\n",
       "      <td>Premier League</td>\n",
       "      <td>FC Barcelona</td>\n",
       "      <td>LaLiga</td>\n",
       "      <td>2000-2001</td>\n",
       "      <td>8.622469e+06</td>\n",
       "      <td>40000000</td>\n",
       "    </tr>\n",
       "    <tr>\n",
       "      <th>3</th>\n",
       "      <td>Gabriel Batistuta</td>\n",
       "      <td>Centre-Forward</td>\n",
       "      <td>31</td>\n",
       "      <td>Fiorentina</td>\n",
       "      <td>Serie A</td>\n",
       "      <td>AS Roma</td>\n",
       "      <td>Serie A</td>\n",
       "      <td>2000-2001</td>\n",
       "      <td>8.622469e+06</td>\n",
       "      <td>36150000</td>\n",
       "    </tr>\n",
       "    <tr>\n",
       "      <th>4</th>\n",
       "      <td>Nicolas Anelka</td>\n",
       "      <td>Centre-Forward</td>\n",
       "      <td>21</td>\n",
       "      <td>Real Madrid</td>\n",
       "      <td>LaLiga</td>\n",
       "      <td>Paris SG</td>\n",
       "      <td>Ligue 1</td>\n",
       "      <td>2000-2001</td>\n",
       "      <td>8.622469e+06</td>\n",
       "      <td>34500000</td>\n",
       "    </tr>\n",
       "    <tr>\n",
       "      <th>5</th>\n",
       "      <td>Rio Ferdinand</td>\n",
       "      <td>Centre-Back</td>\n",
       "      <td>22</td>\n",
       "      <td>West Ham</td>\n",
       "      <td>Premier League</td>\n",
       "      <td>Leeds</td>\n",
       "      <td>Premier League</td>\n",
       "      <td>2000-2001</td>\n",
       "      <td>8.622469e+06</td>\n",
       "      <td>26000000</td>\n",
       "    </tr>\n",
       "    <tr>\n",
       "      <th>6</th>\n",
       "      <td>Flávio Conceicao</td>\n",
       "      <td>Central Midfield</td>\n",
       "      <td>26</td>\n",
       "      <td>Dep. La Coruña</td>\n",
       "      <td>LaLiga</td>\n",
       "      <td>Real Madrid</td>\n",
       "      <td>LaLiga</td>\n",
       "      <td>2000-2001</td>\n",
       "      <td>8.622469e+06</td>\n",
       "      <td>25000000</td>\n",
       "    </tr>\n",
       "    <tr>\n",
       "      <th>7</th>\n",
       "      <td>Savo Milosevic</td>\n",
       "      <td>Centre-Forward</td>\n",
       "      <td>26</td>\n",
       "      <td>Real Zaragoza</td>\n",
       "      <td>LaLiga</td>\n",
       "      <td>Parma</td>\n",
       "      <td>Serie A</td>\n",
       "      <td>2000-2001</td>\n",
       "      <td>8.622469e+06</td>\n",
       "      <td>25000000</td>\n",
       "    </tr>\n",
       "    <tr>\n",
       "      <th>8</th>\n",
       "      <td>David Trézéguet</td>\n",
       "      <td>Centre-Forward</td>\n",
       "      <td>22</td>\n",
       "      <td>Monaco</td>\n",
       "      <td>Ligue 1</td>\n",
       "      <td>Juventus</td>\n",
       "      <td>Serie A</td>\n",
       "      <td>2000-2001</td>\n",
       "      <td>8.622469e+06</td>\n",
       "      <td>23240000</td>\n",
       "    </tr>\n",
       "    <tr>\n",
       "      <th>9</th>\n",
       "      <td>Claudio López</td>\n",
       "      <td>Centre-Forward</td>\n",
       "      <td>25</td>\n",
       "      <td>Valencia CF</td>\n",
       "      <td>LaLiga</td>\n",
       "      <td>Lazio</td>\n",
       "      <td>Serie A</td>\n",
       "      <td>2000-2001</td>\n",
       "      <td>8.622469e+06</td>\n",
       "      <td>23000000</td>\n",
       "    </tr>\n",
       "  </tbody>\n",
       "</table>\n",
       "</div>"
      ],
      "text/plain": [
       "                Name          Position  Age       Team_from     League_from  \\\n",
       "0          Luís Figo      Right Winger   27    FC Barcelona          LaLiga   \n",
       "1      Hernán Crespo    Centre-Forward   25           Parma         Serie A   \n",
       "2      Marc Overmars       Left Winger   27         Arsenal  Premier League   \n",
       "3  Gabriel Batistuta    Centre-Forward   31      Fiorentina         Serie A   \n",
       "4     Nicolas Anelka    Centre-Forward   21     Real Madrid          LaLiga   \n",
       "5      Rio Ferdinand       Centre-Back   22        West Ham  Premier League   \n",
       "6   Flávio Conceicao  Central Midfield   26  Dep. La Coruña          LaLiga   \n",
       "7     Savo Milosevic    Centre-Forward   26   Real Zaragoza          LaLiga   \n",
       "8    David Trézéguet    Centre-Forward   22          Monaco         Ligue 1   \n",
       "9      Claudio López    Centre-Forward   25     Valencia CF          LaLiga   \n",
       "\n",
       "        Team_to       League_to     Season  Market_value  Transfer_fee  \n",
       "0   Real Madrid          LaLiga  2000-2001  8.622469e+06      60000000  \n",
       "1         Lazio         Serie A  2000-2001  8.622469e+06      56810000  \n",
       "2  FC Barcelona          LaLiga  2000-2001  8.622469e+06      40000000  \n",
       "3       AS Roma         Serie A  2000-2001  8.622469e+06      36150000  \n",
       "4      Paris SG         Ligue 1  2000-2001  8.622469e+06      34500000  \n",
       "5         Leeds  Premier League  2000-2001  8.622469e+06      26000000  \n",
       "6   Real Madrid          LaLiga  2000-2001  8.622469e+06      25000000  \n",
       "7         Parma         Serie A  2000-2001  8.622469e+06      25000000  \n",
       "8      Juventus         Serie A  2000-2001  8.622469e+06      23240000  \n",
       "9         Lazio         Serie A  2000-2001  8.622469e+06      23000000  "
      ]
     },
     "execution_count": 174,
     "metadata": {},
     "output_type": "execute_result"
    }
   ],
   "source": [
    "df.head(10)"
   ]
  },
  {
   "cell_type": "markdown",
   "metadata": {},
   "source": [
    "<b>Variable Conversion</b>"
   ]
  },
  {
   "cell_type": "code",
   "execution_count": 175,
   "metadata": {},
   "outputs": [],
   "source": [
    "df_one_hot=pd.get_dummies(df,columns=[\"Position\",\"Season\"],prefix=[\"Position\",\"Season\"])"
   ]
  },
  {
   "cell_type": "code",
   "execution_count": 176,
   "metadata": {},
   "outputs": [
    {
     "data": {
      "text/html": [
       "<div>\n",
       "<style scoped>\n",
       "    .dataframe tbody tr th:only-of-type {\n",
       "        vertical-align: middle;\n",
       "    }\n",
       "\n",
       "    .dataframe tbody tr th {\n",
       "        vertical-align: top;\n",
       "    }\n",
       "\n",
       "    .dataframe thead th {\n",
       "        text-align: right;\n",
       "    }\n",
       "</style>\n",
       "<table border=\"1\" class=\"dataframe\">\n",
       "  <thead>\n",
       "    <tr style=\"text-align: right;\">\n",
       "      <th></th>\n",
       "      <th>Name</th>\n",
       "      <th>Age</th>\n",
       "      <th>Team_from</th>\n",
       "      <th>League_from</th>\n",
       "      <th>Team_to</th>\n",
       "      <th>League_to</th>\n",
       "      <th>Market_value</th>\n",
       "      <th>Transfer_fee</th>\n",
       "      <th>Position_Attacking Midfield</th>\n",
       "      <th>Position_Central Midfield</th>\n",
       "      <th>...</th>\n",
       "      <th>Season_2009-2010</th>\n",
       "      <th>Season_2010-2011</th>\n",
       "      <th>Season_2011-2012</th>\n",
       "      <th>Season_2012-2013</th>\n",
       "      <th>Season_2013-2014</th>\n",
       "      <th>Season_2014-2015</th>\n",
       "      <th>Season_2015-2016</th>\n",
       "      <th>Season_2016-2017</th>\n",
       "      <th>Season_2017-2018</th>\n",
       "      <th>Season_2018-2019</th>\n",
       "    </tr>\n",
       "  </thead>\n",
       "  <tbody>\n",
       "    <tr>\n",
       "      <th>0</th>\n",
       "      <td>Luís Figo</td>\n",
       "      <td>27</td>\n",
       "      <td>FC Barcelona</td>\n",
       "      <td>LaLiga</td>\n",
       "      <td>Real Madrid</td>\n",
       "      <td>LaLiga</td>\n",
       "      <td>8.622469e+06</td>\n",
       "      <td>60000000</td>\n",
       "      <td>0</td>\n",
       "      <td>0</td>\n",
       "      <td>...</td>\n",
       "      <td>0</td>\n",
       "      <td>0</td>\n",
       "      <td>0</td>\n",
       "      <td>0</td>\n",
       "      <td>0</td>\n",
       "      <td>0</td>\n",
       "      <td>0</td>\n",
       "      <td>0</td>\n",
       "      <td>0</td>\n",
       "      <td>0</td>\n",
       "    </tr>\n",
       "    <tr>\n",
       "      <th>1</th>\n",
       "      <td>Hernán Crespo</td>\n",
       "      <td>25</td>\n",
       "      <td>Parma</td>\n",
       "      <td>Serie A</td>\n",
       "      <td>Lazio</td>\n",
       "      <td>Serie A</td>\n",
       "      <td>8.622469e+06</td>\n",
       "      <td>56810000</td>\n",
       "      <td>0</td>\n",
       "      <td>0</td>\n",
       "      <td>...</td>\n",
       "      <td>0</td>\n",
       "      <td>0</td>\n",
       "      <td>0</td>\n",
       "      <td>0</td>\n",
       "      <td>0</td>\n",
       "      <td>0</td>\n",
       "      <td>0</td>\n",
       "      <td>0</td>\n",
       "      <td>0</td>\n",
       "      <td>0</td>\n",
       "    </tr>\n",
       "    <tr>\n",
       "      <th>2</th>\n",
       "      <td>Marc Overmars</td>\n",
       "      <td>27</td>\n",
       "      <td>Arsenal</td>\n",
       "      <td>Premier League</td>\n",
       "      <td>FC Barcelona</td>\n",
       "      <td>LaLiga</td>\n",
       "      <td>8.622469e+06</td>\n",
       "      <td>40000000</td>\n",
       "      <td>0</td>\n",
       "      <td>0</td>\n",
       "      <td>...</td>\n",
       "      <td>0</td>\n",
       "      <td>0</td>\n",
       "      <td>0</td>\n",
       "      <td>0</td>\n",
       "      <td>0</td>\n",
       "      <td>0</td>\n",
       "      <td>0</td>\n",
       "      <td>0</td>\n",
       "      <td>0</td>\n",
       "      <td>0</td>\n",
       "    </tr>\n",
       "    <tr>\n",
       "      <th>3</th>\n",
       "      <td>Gabriel Batistuta</td>\n",
       "      <td>31</td>\n",
       "      <td>Fiorentina</td>\n",
       "      <td>Serie A</td>\n",
       "      <td>AS Roma</td>\n",
       "      <td>Serie A</td>\n",
       "      <td>8.622469e+06</td>\n",
       "      <td>36150000</td>\n",
       "      <td>0</td>\n",
       "      <td>0</td>\n",
       "      <td>...</td>\n",
       "      <td>0</td>\n",
       "      <td>0</td>\n",
       "      <td>0</td>\n",
       "      <td>0</td>\n",
       "      <td>0</td>\n",
       "      <td>0</td>\n",
       "      <td>0</td>\n",
       "      <td>0</td>\n",
       "      <td>0</td>\n",
       "      <td>0</td>\n",
       "    </tr>\n",
       "    <tr>\n",
       "      <th>4</th>\n",
       "      <td>Nicolas Anelka</td>\n",
       "      <td>21</td>\n",
       "      <td>Real Madrid</td>\n",
       "      <td>LaLiga</td>\n",
       "      <td>Paris SG</td>\n",
       "      <td>Ligue 1</td>\n",
       "      <td>8.622469e+06</td>\n",
       "      <td>34500000</td>\n",
       "      <td>0</td>\n",
       "      <td>0</td>\n",
       "      <td>...</td>\n",
       "      <td>0</td>\n",
       "      <td>0</td>\n",
       "      <td>0</td>\n",
       "      <td>0</td>\n",
       "      <td>0</td>\n",
       "      <td>0</td>\n",
       "      <td>0</td>\n",
       "      <td>0</td>\n",
       "      <td>0</td>\n",
       "      <td>0</td>\n",
       "    </tr>\n",
       "  </tbody>\n",
       "</table>\n",
       "<p>5 rows × 44 columns</p>\n",
       "</div>"
      ],
      "text/plain": [
       "                Name  Age     Team_from     League_from       Team_to  \\\n",
       "0          Luís Figo   27  FC Barcelona          LaLiga   Real Madrid   \n",
       "1      Hernán Crespo   25         Parma         Serie A         Lazio   \n",
       "2      Marc Overmars   27       Arsenal  Premier League  FC Barcelona   \n",
       "3  Gabriel Batistuta   31    Fiorentina         Serie A       AS Roma   \n",
       "4     Nicolas Anelka   21   Real Madrid          LaLiga      Paris SG   \n",
       "\n",
       "  League_to  Market_value  Transfer_fee  Position_Attacking Midfield  \\\n",
       "0    LaLiga  8.622469e+06      60000000                            0   \n",
       "1   Serie A  8.622469e+06      56810000                            0   \n",
       "2    LaLiga  8.622469e+06      40000000                            0   \n",
       "3   Serie A  8.622469e+06      36150000                            0   \n",
       "4   Ligue 1  8.622469e+06      34500000                            0   \n",
       "\n",
       "   Position_Central Midfield  ...  Season_2009-2010  Season_2010-2011  \\\n",
       "0                          0  ...                 0                 0   \n",
       "1                          0  ...                 0                 0   \n",
       "2                          0  ...                 0                 0   \n",
       "3                          0  ...                 0                 0   \n",
       "4                          0  ...                 0                 0   \n",
       "\n",
       "   Season_2011-2012  Season_2012-2013  Season_2013-2014  Season_2014-2015  \\\n",
       "0                 0                 0                 0                 0   \n",
       "1                 0                 0                 0                 0   \n",
       "2                 0                 0                 0                 0   \n",
       "3                 0                 0                 0                 0   \n",
       "4                 0                 0                 0                 0   \n",
       "\n",
       "   Season_2015-2016  Season_2016-2017  Season_2017-2018  Season_2018-2019  \n",
       "0                 0                 0                 0                 0  \n",
       "1                 0                 0                 0                 0  \n",
       "2                 0                 0                 0                 0  \n",
       "3                 0                 0                 0                 0  \n",
       "4                 0                 0                 0                 0  \n",
       "\n",
       "[5 rows x 44 columns]"
      ]
     },
     "execution_count": 176,
     "metadata": {},
     "output_type": "execute_result"
    }
   ],
   "source": [
    "df_one_hot.head()"
   ]
  },
  {
   "cell_type": "code",
   "execution_count": 177,
   "metadata": {},
   "outputs": [],
   "source": [
    "df_one_hot.drop([\"Name\",\"Team_from\",\"League_from\",\"Team_to\",\"League_to\"],axis=1,inplace=True)"
   ]
  },
  {
   "cell_type": "code",
   "execution_count": 178,
   "metadata": {},
   "outputs": [
    {
     "data": {
      "text/html": [
       "<div>\n",
       "<style scoped>\n",
       "    .dataframe tbody tr th:only-of-type {\n",
       "        vertical-align: middle;\n",
       "    }\n",
       "\n",
       "    .dataframe tbody tr th {\n",
       "        vertical-align: top;\n",
       "    }\n",
       "\n",
       "    .dataframe thead th {\n",
       "        text-align: right;\n",
       "    }\n",
       "</style>\n",
       "<table border=\"1\" class=\"dataframe\">\n",
       "  <thead>\n",
       "    <tr style=\"text-align: right;\">\n",
       "      <th></th>\n",
       "      <th>Age</th>\n",
       "      <th>Market_value</th>\n",
       "      <th>Transfer_fee</th>\n",
       "      <th>Position_Attacking Midfield</th>\n",
       "      <th>Position_Central Midfield</th>\n",
       "      <th>Position_Centre-Back</th>\n",
       "      <th>Position_Centre-Forward</th>\n",
       "      <th>Position_Defender</th>\n",
       "      <th>Position_Defensive Midfield</th>\n",
       "      <th>Position_Forward</th>\n",
       "      <th>...</th>\n",
       "      <th>Season_2009-2010</th>\n",
       "      <th>Season_2010-2011</th>\n",
       "      <th>Season_2011-2012</th>\n",
       "      <th>Season_2012-2013</th>\n",
       "      <th>Season_2013-2014</th>\n",
       "      <th>Season_2014-2015</th>\n",
       "      <th>Season_2015-2016</th>\n",
       "      <th>Season_2016-2017</th>\n",
       "      <th>Season_2017-2018</th>\n",
       "      <th>Season_2018-2019</th>\n",
       "    </tr>\n",
       "  </thead>\n",
       "  <tbody>\n",
       "    <tr>\n",
       "      <th>0</th>\n",
       "      <td>27</td>\n",
       "      <td>8.622469e+06</td>\n",
       "      <td>60000000</td>\n",
       "      <td>0</td>\n",
       "      <td>0</td>\n",
       "      <td>0</td>\n",
       "      <td>0</td>\n",
       "      <td>0</td>\n",
       "      <td>0</td>\n",
       "      <td>0</td>\n",
       "      <td>...</td>\n",
       "      <td>0</td>\n",
       "      <td>0</td>\n",
       "      <td>0</td>\n",
       "      <td>0</td>\n",
       "      <td>0</td>\n",
       "      <td>0</td>\n",
       "      <td>0</td>\n",
       "      <td>0</td>\n",
       "      <td>0</td>\n",
       "      <td>0</td>\n",
       "    </tr>\n",
       "    <tr>\n",
       "      <th>1</th>\n",
       "      <td>25</td>\n",
       "      <td>8.622469e+06</td>\n",
       "      <td>56810000</td>\n",
       "      <td>0</td>\n",
       "      <td>0</td>\n",
       "      <td>0</td>\n",
       "      <td>1</td>\n",
       "      <td>0</td>\n",
       "      <td>0</td>\n",
       "      <td>0</td>\n",
       "      <td>...</td>\n",
       "      <td>0</td>\n",
       "      <td>0</td>\n",
       "      <td>0</td>\n",
       "      <td>0</td>\n",
       "      <td>0</td>\n",
       "      <td>0</td>\n",
       "      <td>0</td>\n",
       "      <td>0</td>\n",
       "      <td>0</td>\n",
       "      <td>0</td>\n",
       "    </tr>\n",
       "    <tr>\n",
       "      <th>2</th>\n",
       "      <td>27</td>\n",
       "      <td>8.622469e+06</td>\n",
       "      <td>40000000</td>\n",
       "      <td>0</td>\n",
       "      <td>0</td>\n",
       "      <td>0</td>\n",
       "      <td>0</td>\n",
       "      <td>0</td>\n",
       "      <td>0</td>\n",
       "      <td>0</td>\n",
       "      <td>...</td>\n",
       "      <td>0</td>\n",
       "      <td>0</td>\n",
       "      <td>0</td>\n",
       "      <td>0</td>\n",
       "      <td>0</td>\n",
       "      <td>0</td>\n",
       "      <td>0</td>\n",
       "      <td>0</td>\n",
       "      <td>0</td>\n",
       "      <td>0</td>\n",
       "    </tr>\n",
       "    <tr>\n",
       "      <th>3</th>\n",
       "      <td>31</td>\n",
       "      <td>8.622469e+06</td>\n",
       "      <td>36150000</td>\n",
       "      <td>0</td>\n",
       "      <td>0</td>\n",
       "      <td>0</td>\n",
       "      <td>1</td>\n",
       "      <td>0</td>\n",
       "      <td>0</td>\n",
       "      <td>0</td>\n",
       "      <td>...</td>\n",
       "      <td>0</td>\n",
       "      <td>0</td>\n",
       "      <td>0</td>\n",
       "      <td>0</td>\n",
       "      <td>0</td>\n",
       "      <td>0</td>\n",
       "      <td>0</td>\n",
       "      <td>0</td>\n",
       "      <td>0</td>\n",
       "      <td>0</td>\n",
       "    </tr>\n",
       "    <tr>\n",
       "      <th>4</th>\n",
       "      <td>21</td>\n",
       "      <td>8.622469e+06</td>\n",
       "      <td>34500000</td>\n",
       "      <td>0</td>\n",
       "      <td>0</td>\n",
       "      <td>0</td>\n",
       "      <td>1</td>\n",
       "      <td>0</td>\n",
       "      <td>0</td>\n",
       "      <td>0</td>\n",
       "      <td>...</td>\n",
       "      <td>0</td>\n",
       "      <td>0</td>\n",
       "      <td>0</td>\n",
       "      <td>0</td>\n",
       "      <td>0</td>\n",
       "      <td>0</td>\n",
       "      <td>0</td>\n",
       "      <td>0</td>\n",
       "      <td>0</td>\n",
       "      <td>0</td>\n",
       "    </tr>\n",
       "  </tbody>\n",
       "</table>\n",
       "<p>5 rows × 39 columns</p>\n",
       "</div>"
      ],
      "text/plain": [
       "   Age  Market_value  Transfer_fee  Position_Attacking Midfield  \\\n",
       "0   27  8.622469e+06      60000000                            0   \n",
       "1   25  8.622469e+06      56810000                            0   \n",
       "2   27  8.622469e+06      40000000                            0   \n",
       "3   31  8.622469e+06      36150000                            0   \n",
       "4   21  8.622469e+06      34500000                            0   \n",
       "\n",
       "   Position_Central Midfield  Position_Centre-Back  Position_Centre-Forward  \\\n",
       "0                          0                     0                        0   \n",
       "1                          0                     0                        1   \n",
       "2                          0                     0                        0   \n",
       "3                          0                     0                        1   \n",
       "4                          0                     0                        1   \n",
       "\n",
       "   Position_Defender  Position_Defensive Midfield  Position_Forward  ...  \\\n",
       "0                  0                            0                 0  ...   \n",
       "1                  0                            0                 0  ...   \n",
       "2                  0                            0                 0  ...   \n",
       "3                  0                            0                 0  ...   \n",
       "4                  0                            0                 0  ...   \n",
       "\n",
       "   Season_2009-2010  Season_2010-2011  Season_2011-2012  Season_2012-2013  \\\n",
       "0                 0                 0                 0                 0   \n",
       "1                 0                 0                 0                 0   \n",
       "2                 0                 0                 0                 0   \n",
       "3                 0                 0                 0                 0   \n",
       "4                 0                 0                 0                 0   \n",
       "\n",
       "   Season_2013-2014  Season_2014-2015  Season_2015-2016  Season_2016-2017  \\\n",
       "0                 0                 0                 0                 0   \n",
       "1                 0                 0                 0                 0   \n",
       "2                 0                 0                 0                 0   \n",
       "3                 0                 0                 0                 0   \n",
       "4                 0                 0                 0                 0   \n",
       "\n",
       "   Season_2017-2018  Season_2018-2019  \n",
       "0                 0                 0  \n",
       "1                 0                 0  \n",
       "2                 0                 0  \n",
       "3                 0                 0  \n",
       "4                 0                 0  \n",
       "\n",
       "[5 rows x 39 columns]"
      ]
     },
     "execution_count": 178,
     "metadata": {},
     "output_type": "execute_result"
    }
   ],
   "source": [
    "df_one_hot.head()"
   ]
  },
  {
   "cell_type": "markdown",
   "metadata": {},
   "source": [
    "<b>Modelling and Tuning</b>"
   ]
  },
  {
   "cell_type": "code",
   "execution_count": 179,
   "metadata": {},
   "outputs": [],
   "source": [
    "new_df=df_one_hot"
   ]
  },
  {
   "cell_type": "code",
   "execution_count": 180,
   "metadata": {},
   "outputs": [],
   "source": [
    "y = new_df[\"Transfer_fee\"]\n",
    "X = new_df.drop([\"Transfer_fee\"], axis=1)"
   ]
  },
  {
   "cell_type": "code",
   "execution_count": 181,
   "metadata": {},
   "outputs": [
    {
     "data": {
      "text/html": [
       "<div>\n",
       "<style scoped>\n",
       "    .dataframe tbody tr th:only-of-type {\n",
       "        vertical-align: middle;\n",
       "    }\n",
       "\n",
       "    .dataframe tbody tr th {\n",
       "        vertical-align: top;\n",
       "    }\n",
       "\n",
       "    .dataframe thead th {\n",
       "        text-align: right;\n",
       "    }\n",
       "</style>\n",
       "<table border=\"1\" class=\"dataframe\">\n",
       "  <thead>\n",
       "    <tr style=\"text-align: right;\">\n",
       "      <th></th>\n",
       "      <th>Age</th>\n",
       "      <th>Market_value</th>\n",
       "      <th>Position_Attacking Midfield</th>\n",
       "      <th>Position_Central Midfield</th>\n",
       "      <th>Position_Centre-Back</th>\n",
       "      <th>Position_Centre-Forward</th>\n",
       "      <th>Position_Defender</th>\n",
       "      <th>Position_Defensive Midfield</th>\n",
       "      <th>Position_Forward</th>\n",
       "      <th>Position_Goalkeeper</th>\n",
       "      <th>...</th>\n",
       "      <th>Season_2009-2010</th>\n",
       "      <th>Season_2010-2011</th>\n",
       "      <th>Season_2011-2012</th>\n",
       "      <th>Season_2012-2013</th>\n",
       "      <th>Season_2013-2014</th>\n",
       "      <th>Season_2014-2015</th>\n",
       "      <th>Season_2015-2016</th>\n",
       "      <th>Season_2016-2017</th>\n",
       "      <th>Season_2017-2018</th>\n",
       "      <th>Season_2018-2019</th>\n",
       "    </tr>\n",
       "  </thead>\n",
       "  <tbody>\n",
       "    <tr>\n",
       "      <th>0</th>\n",
       "      <td>27</td>\n",
       "      <td>8.622469e+06</td>\n",
       "      <td>0</td>\n",
       "      <td>0</td>\n",
       "      <td>0</td>\n",
       "      <td>0</td>\n",
       "      <td>0</td>\n",
       "      <td>0</td>\n",
       "      <td>0</td>\n",
       "      <td>0</td>\n",
       "      <td>...</td>\n",
       "      <td>0</td>\n",
       "      <td>0</td>\n",
       "      <td>0</td>\n",
       "      <td>0</td>\n",
       "      <td>0</td>\n",
       "      <td>0</td>\n",
       "      <td>0</td>\n",
       "      <td>0</td>\n",
       "      <td>0</td>\n",
       "      <td>0</td>\n",
       "    </tr>\n",
       "    <tr>\n",
       "      <th>1</th>\n",
       "      <td>25</td>\n",
       "      <td>8.622469e+06</td>\n",
       "      <td>0</td>\n",
       "      <td>0</td>\n",
       "      <td>0</td>\n",
       "      <td>1</td>\n",
       "      <td>0</td>\n",
       "      <td>0</td>\n",
       "      <td>0</td>\n",
       "      <td>0</td>\n",
       "      <td>...</td>\n",
       "      <td>0</td>\n",
       "      <td>0</td>\n",
       "      <td>0</td>\n",
       "      <td>0</td>\n",
       "      <td>0</td>\n",
       "      <td>0</td>\n",
       "      <td>0</td>\n",
       "      <td>0</td>\n",
       "      <td>0</td>\n",
       "      <td>0</td>\n",
       "    </tr>\n",
       "    <tr>\n",
       "      <th>2</th>\n",
       "      <td>27</td>\n",
       "      <td>8.622469e+06</td>\n",
       "      <td>0</td>\n",
       "      <td>0</td>\n",
       "      <td>0</td>\n",
       "      <td>0</td>\n",
       "      <td>0</td>\n",
       "      <td>0</td>\n",
       "      <td>0</td>\n",
       "      <td>0</td>\n",
       "      <td>...</td>\n",
       "      <td>0</td>\n",
       "      <td>0</td>\n",
       "      <td>0</td>\n",
       "      <td>0</td>\n",
       "      <td>0</td>\n",
       "      <td>0</td>\n",
       "      <td>0</td>\n",
       "      <td>0</td>\n",
       "      <td>0</td>\n",
       "      <td>0</td>\n",
       "    </tr>\n",
       "    <tr>\n",
       "      <th>3</th>\n",
       "      <td>31</td>\n",
       "      <td>8.622469e+06</td>\n",
       "      <td>0</td>\n",
       "      <td>0</td>\n",
       "      <td>0</td>\n",
       "      <td>1</td>\n",
       "      <td>0</td>\n",
       "      <td>0</td>\n",
       "      <td>0</td>\n",
       "      <td>0</td>\n",
       "      <td>...</td>\n",
       "      <td>0</td>\n",
       "      <td>0</td>\n",
       "      <td>0</td>\n",
       "      <td>0</td>\n",
       "      <td>0</td>\n",
       "      <td>0</td>\n",
       "      <td>0</td>\n",
       "      <td>0</td>\n",
       "      <td>0</td>\n",
       "      <td>0</td>\n",
       "    </tr>\n",
       "    <tr>\n",
       "      <th>4</th>\n",
       "      <td>21</td>\n",
       "      <td>8.622469e+06</td>\n",
       "      <td>0</td>\n",
       "      <td>0</td>\n",
       "      <td>0</td>\n",
       "      <td>1</td>\n",
       "      <td>0</td>\n",
       "      <td>0</td>\n",
       "      <td>0</td>\n",
       "      <td>0</td>\n",
       "      <td>...</td>\n",
       "      <td>0</td>\n",
       "      <td>0</td>\n",
       "      <td>0</td>\n",
       "      <td>0</td>\n",
       "      <td>0</td>\n",
       "      <td>0</td>\n",
       "      <td>0</td>\n",
       "      <td>0</td>\n",
       "      <td>0</td>\n",
       "      <td>0</td>\n",
       "    </tr>\n",
       "  </tbody>\n",
       "</table>\n",
       "<p>5 rows × 38 columns</p>\n",
       "</div>"
      ],
      "text/plain": [
       "   Age  Market_value  Position_Attacking Midfield  Position_Central Midfield  \\\n",
       "0   27  8.622469e+06                            0                          0   \n",
       "1   25  8.622469e+06                            0                          0   \n",
       "2   27  8.622469e+06                            0                          0   \n",
       "3   31  8.622469e+06                            0                          0   \n",
       "4   21  8.622469e+06                            0                          0   \n",
       "\n",
       "   Position_Centre-Back  Position_Centre-Forward  Position_Defender  \\\n",
       "0                     0                        0                  0   \n",
       "1                     0                        1                  0   \n",
       "2                     0                        0                  0   \n",
       "3                     0                        1                  0   \n",
       "4                     0                        1                  0   \n",
       "\n",
       "   Position_Defensive Midfield  Position_Forward  Position_Goalkeeper  ...  \\\n",
       "0                            0                 0                    0  ...   \n",
       "1                            0                 0                    0  ...   \n",
       "2                            0                 0                    0  ...   \n",
       "3                            0                 0                    0  ...   \n",
       "4                            0                 0                    0  ...   \n",
       "\n",
       "   Season_2009-2010  Season_2010-2011  Season_2011-2012  Season_2012-2013  \\\n",
       "0                 0                 0                 0                 0   \n",
       "1                 0                 0                 0                 0   \n",
       "2                 0                 0                 0                 0   \n",
       "3                 0                 0                 0                 0   \n",
       "4                 0                 0                 0                 0   \n",
       "\n",
       "   Season_2013-2014  Season_2014-2015  Season_2015-2016  Season_2016-2017  \\\n",
       "0                 0                 0                 0                 0   \n",
       "1                 0                 0                 0                 0   \n",
       "2                 0                 0                 0                 0   \n",
       "3                 0                 0                 0                 0   \n",
       "4                 0                 0                 0                 0   \n",
       "\n",
       "   Season_2017-2018  Season_2018-2019  \n",
       "0                 0                 0  \n",
       "1                 0                 0  \n",
       "2                 0                 0  \n",
       "3                 0                 0  \n",
       "4                 0                 0  \n",
       "\n",
       "[5 rows x 38 columns]"
      ]
     },
     "execution_count": 181,
     "metadata": {},
     "output_type": "execute_result"
    }
   ],
   "source": [
    "X.head()"
   ]
  },
  {
   "cell_type": "code",
   "execution_count": 182,
   "metadata": {},
   "outputs": [],
   "source": [
    "X_train, X_test, y_train, y_test=train_test_split(X,\n",
    "                                                  y,\n",
    "                                                  test_size=0.25,\n",
    "                                                  random_state=42)"
   ]
  },
  {
   "cell_type": "markdown",
   "metadata": {},
   "source": [
    "<b>1.) KNN</b>"
   ]
  },
  {
   "cell_type": "code",
   "execution_count": 183,
   "metadata": {},
   "outputs": [],
   "source": [
    "knn_model=KNeighborsRegressor().fit(X_train,y_train)"
   ]
  },
  {
   "cell_type": "code",
   "execution_count": 184,
   "metadata": {},
   "outputs": [
    {
     "data": {
      "text/plain": [
       "5"
      ]
     },
     "execution_count": 184,
     "metadata": {},
     "output_type": "execute_result"
    }
   ],
   "source": [
    "knn_model.n_neighbors"
   ]
  },
  {
   "cell_type": "code",
   "execution_count": 185,
   "metadata": {},
   "outputs": [
    {
     "data": {
      "text/plain": [
       "'minkowski'"
      ]
     },
     "execution_count": 185,
     "metadata": {},
     "output_type": "execute_result"
    }
   ],
   "source": [
    "knn_model.metric"
   ]
  },
  {
   "cell_type": "code",
   "execution_count": 186,
   "metadata": {},
   "outputs": [],
   "source": [
    "y_pred=knn_model.predict(X_test)"
   ]
  },
  {
   "cell_type": "code",
   "execution_count": 187,
   "metadata": {},
   "outputs": [
    {
     "data": {
      "text/plain": [
       "7200437.928584917"
      ]
     },
     "execution_count": 187,
     "metadata": {},
     "output_type": "execute_result"
    }
   ],
   "source": [
    "np.sqrt(mean_squared_error(y_test,y_pred))"
   ]
  },
  {
   "cell_type": "code",
   "execution_count": 188,
   "metadata": {},
   "outputs": [],
   "source": [
    "knn_params={\"n_neighbors\": np.arange(1,30,1)}"
   ]
  },
  {
   "cell_type": "code",
   "execution_count": 189,
   "metadata": {},
   "outputs": [],
   "source": [
    "knn=KNeighborsRegressor()"
   ]
  },
  {
   "cell_type": "code",
   "execution_count": 190,
   "metadata": {},
   "outputs": [],
   "source": [
    "knn_cv_model=GridSearchCV(knn,knn_params,cv=10).fit(X_train,y_train)"
   ]
  },
  {
   "cell_type": "code",
   "execution_count": 191,
   "metadata": {},
   "outputs": [
    {
     "data": {
      "text/plain": [
       "{'n_neighbors': 9}"
      ]
     },
     "execution_count": 191,
     "metadata": {},
     "output_type": "execute_result"
    }
   ],
   "source": [
    "knn_cv_model.best_params_"
   ]
  },
  {
   "cell_type": "code",
   "execution_count": 192,
   "metadata": {},
   "outputs": [],
   "source": [
    "knn_tuned=KNeighborsRegressor(n_neighbors=9).fit(X_train,y_train)"
   ]
  },
  {
   "cell_type": "code",
   "execution_count": 193,
   "metadata": {},
   "outputs": [],
   "source": [
    "y_pred=knn_model.predict(X_test)"
   ]
  },
  {
   "cell_type": "code",
   "execution_count": 194,
   "metadata": {},
   "outputs": [
    {
     "data": {
      "text/plain": [
       "7200437.928584917"
      ]
     },
     "execution_count": 194,
     "metadata": {},
     "output_type": "execute_result"
    }
   ],
   "source": [
    "np.sqrt(mean_squared_error(y_test,y_pred))"
   ]
  },
  {
   "cell_type": "markdown",
   "metadata": {},
   "source": [
    "<b>2.) CART</b>"
   ]
  },
  {
   "cell_type": "code",
   "execution_count": 195,
   "metadata": {},
   "outputs": [],
   "source": [
    "cart_model=DecisionTreeRegressor().fit(X_train,y_train)"
   ]
  },
  {
   "cell_type": "code",
   "execution_count": 196,
   "metadata": {},
   "outputs": [],
   "source": [
    "y_pred=cart_model.predict(X_test)"
   ]
  },
  {
   "cell_type": "code",
   "execution_count": 197,
   "metadata": {},
   "outputs": [
    {
     "data": {
      "text/plain": [
       "8088064.612803687"
      ]
     },
     "execution_count": 197,
     "metadata": {},
     "output_type": "execute_result"
    }
   ],
   "source": [
    "np.sqrt(mean_squared_error(y_test,y_pred))"
   ]
  },
  {
   "cell_type": "code",
   "execution_count": 198,
   "metadata": {},
   "outputs": [],
   "source": [
    "cart_params={\"max_depth\":[2,3,4,5,10,20],\n",
    "            \"min_samples_split\":[2,10,5,30,50,10]}"
   ]
  },
  {
   "cell_type": "code",
   "execution_count": 199,
   "metadata": {},
   "outputs": [],
   "source": [
    "cart_model=DecisionTreeRegressor()"
   ]
  },
  {
   "cell_type": "code",
   "execution_count": 200,
   "metadata": {},
   "outputs": [],
   "source": [
    "cart_cv_model=GridSearchCV(cart_model,cart_params,cv=10).fit(X_train,y_train)"
   ]
  },
  {
   "cell_type": "code",
   "execution_count": 201,
   "metadata": {},
   "outputs": [
    {
     "data": {
      "text/plain": [
       "{'max_depth': 5, 'min_samples_split': 2}"
      ]
     },
     "execution_count": 201,
     "metadata": {},
     "output_type": "execute_result"
    }
   ],
   "source": [
    "cart_cv_model.best_params_"
   ]
  },
  {
   "cell_type": "code",
   "execution_count": 202,
   "metadata": {},
   "outputs": [],
   "source": [
    "cart_tuned_model=DecisionTreeRegressor(max_depth=10,min_samples_split=50).fit(X_train,y_train)"
   ]
  },
  {
   "cell_type": "code",
   "execution_count": 203,
   "metadata": {},
   "outputs": [
    {
     "data": {
      "text/plain": [
       "7578618.732043694"
      ]
     },
     "execution_count": 203,
     "metadata": {},
     "output_type": "execute_result"
    }
   ],
   "source": [
    "y_pred=cart_tuned_model.predict(X_test)\n",
    "np.sqrt(mean_squared_error(y_test,y_pred))"
   ]
  },
  {
   "cell_type": "markdown",
   "metadata": {},
   "source": [
    "<b>3.) Random Forest</b>"
   ]
  },
  {
   "cell_type": "code",
   "execution_count": 204,
   "metadata": {},
   "outputs": [],
   "source": [
    "rf_model=RandomForestRegressor(random_state=42).fit(X_train,y_train)"
   ]
  },
  {
   "cell_type": "code",
   "execution_count": 205,
   "metadata": {},
   "outputs": [
    {
     "data": {
      "text/plain": [
       "7058612.112041161"
      ]
     },
     "execution_count": 205,
     "metadata": {},
     "output_type": "execute_result"
    }
   ],
   "source": [
    "y_pred=rf_model.predict(X_test)\n",
    "np.sqrt(mean_squared_error(y_test,y_pred))"
   ]
  },
  {
   "cell_type": "code",
   "execution_count": 206,
   "metadata": {},
   "outputs": [],
   "source": [
    "rf_params={\"max_depth\":[5,8],\n",
    "          \"max_features\":[5,10],\n",
    "          \"n_estimators\":[500,1000],\n",
    "          \"min_samples_split\":[10,100]}"
   ]
  },
  {
   "cell_type": "code",
   "execution_count": 207,
   "metadata": {},
   "outputs": [
    {
     "name": "stdout",
     "output_type": "stream",
     "text": [
      "Fitting 5 folds for each of 16 candidates, totalling 80 fits\n"
     ]
    }
   ],
   "source": [
    "rf_cv_model=GridSearchCV(rf_model,rf_params,cv=5,n_jobs=-1,verbose=2).fit(X_train,y_train)"
   ]
  },
  {
   "cell_type": "code",
   "execution_count": 208,
   "metadata": {},
   "outputs": [
    {
     "data": {
      "text/plain": [
       "{'max_depth': 8,\n",
       " 'max_features': 10,\n",
       " 'min_samples_split': 10,\n",
       " 'n_estimators': 1000}"
      ]
     },
     "execution_count": 208,
     "metadata": {},
     "output_type": "execute_result"
    }
   ],
   "source": [
    "rf_cv_model.best_params_"
   ]
  },
  {
   "cell_type": "code",
   "execution_count": 209,
   "metadata": {},
   "outputs": [],
   "source": [
    "rf_model=RandomForestRegressor(random_state=42,max_depth=8,max_features=10,min_samples_split=10,n_estimators=1000)\n",
    "rf_tuned=rf_model.fit(X_train,y_train)"
   ]
  },
  {
   "cell_type": "code",
   "execution_count": 210,
   "metadata": {},
   "outputs": [],
   "source": [
    "y_pred=rf_tuned.predict(X_test)"
   ]
  },
  {
   "cell_type": "code",
   "execution_count": 211,
   "metadata": {},
   "outputs": [
    {
     "data": {
      "text/plain": [
       "7671511.606342714"
      ]
     },
     "execution_count": 211,
     "metadata": {},
     "output_type": "execute_result"
    }
   ],
   "source": [
    "np.sqrt(mean_squared_error(y_test,y_pred))"
   ]
  },
  {
   "cell_type": "markdown",
   "metadata": {},
   "source": [
    "<b>4.) XGB</b>"
   ]
  },
  {
   "cell_type": "code",
   "execution_count": 212,
   "metadata": {},
   "outputs": [],
   "source": [
    "xgb=XGBRegressor().fit(X_train,y_train)"
   ]
  },
  {
   "cell_type": "code",
   "execution_count": 213,
   "metadata": {},
   "outputs": [],
   "source": [
    "y_pred=xgb.predict(X_test)"
   ]
  },
  {
   "cell_type": "code",
   "execution_count": 214,
   "metadata": {},
   "outputs": [
    {
     "data": {
      "text/plain": [
       "6950681.411402883"
      ]
     },
     "execution_count": 214,
     "metadata": {},
     "output_type": "execute_result"
    }
   ],
   "source": [
    "np.sqrt(mean_squared_error(y_test,y_pred))"
   ]
  },
  {
   "cell_type": "code",
   "execution_count": 215,
   "metadata": {},
   "outputs": [],
   "source": [
    "xgb_params={\"learning_rate\":[0.1,0.5],\n",
    "           \"max_depth\":[3,5,8],\n",
    "           \"n_estimators\":[100,200,1000],\n",
    "           \"colsample_bytree\":[0.4,1]}"
   ]
  },
  {
   "cell_type": "code",
   "execution_count": 216,
   "metadata": {},
   "outputs": [
    {
     "name": "stdout",
     "output_type": "stream",
     "text": [
      "Fitting 5 folds for each of 36 candidates, totalling 180 fits\n"
     ]
    }
   ],
   "source": [
    "xgb_cv_model=GridSearchCV(xgb,xgb_params,cv=5,n_jobs=-1,verbose=2).fit(X_train,y_train)"
   ]
  },
  {
   "cell_type": "code",
   "execution_count": 217,
   "metadata": {},
   "outputs": [
    {
     "data": {
      "text/plain": [
       "{'colsample_bytree': 0.4,\n",
       " 'learning_rate': 0.1,\n",
       " 'max_depth': 3,\n",
       " 'n_estimators': 200}"
      ]
     },
     "execution_count": 217,
     "metadata": {},
     "output_type": "execute_result"
    }
   ],
   "source": [
    "xgb_cv_model.best_params_"
   ]
  },
  {
   "cell_type": "code",
   "execution_count": 218,
   "metadata": {},
   "outputs": [],
   "source": [
    "xgb_tuned=XGBRegressor(colsample_bytree= 0.4,learning_rate= 0.1,max_depth= 3,n_estimators= 200).fit(X_train,y_train)"
   ]
  },
  {
   "cell_type": "code",
   "execution_count": 219,
   "metadata": {},
   "outputs": [],
   "source": [
    "y_pred=xgb_tuned.predict(X_test)"
   ]
  },
  {
   "cell_type": "code",
   "execution_count": 220,
   "metadata": {},
   "outputs": [
    {
     "data": {
      "text/plain": [
       "6569870.583297061"
      ]
     },
     "execution_count": 220,
     "metadata": {},
     "output_type": "execute_result"
    }
   ],
   "source": [
    "np.sqrt(mean_squared_error(y_test,y_pred))"
   ]
  },
  {
   "cell_type": "markdown",
   "metadata": {},
   "source": [
    "<b>5.) Light GBM</b>"
   ]
  },
  {
   "cell_type": "code",
   "execution_count": 221,
   "metadata": {},
   "outputs": [],
   "source": [
    "lgb_model=LGBMRegressor().fit(X_train,y_train)"
   ]
  },
  {
   "cell_type": "code",
   "execution_count": 222,
   "metadata": {},
   "outputs": [],
   "source": [
    "y_pred=lgb_model.predict(X_test)"
   ]
  },
  {
   "cell_type": "code",
   "execution_count": 223,
   "metadata": {},
   "outputs": [
    {
     "data": {
      "text/plain": [
       "7119117.17018184"
      ]
     },
     "execution_count": 223,
     "metadata": {},
     "output_type": "execute_result"
    }
   ],
   "source": [
    "np.sqrt(mean_squared_error(y_test,y_pred))"
   ]
  },
  {
   "cell_type": "code",
   "execution_count": 224,
   "metadata": {},
   "outputs": [],
   "source": [
    "lgbm_params={\"learning_rate\":[0.01,0.1,0.5,1],\n",
    "            \"n_estimators\":[20,40,100,200,500,1000],\n",
    "            \"max_depth\":np.arange(1,11)}"
   ]
  },
  {
   "cell_type": "code",
   "execution_count": 225,
   "metadata": {},
   "outputs": [
    {
     "name": "stdout",
     "output_type": "stream",
     "text": [
      "Fitting 10 folds for each of 240 candidates, totalling 2400 fits\n"
     ]
    }
   ],
   "source": [
    "lgbm_cv_model=GridSearchCV(lgb_model,lgbm_params,cv=10,n_jobs=-1,verbose=2).fit(X_train,y_train)"
   ]
  },
  {
   "cell_type": "code",
   "execution_count": 226,
   "metadata": {},
   "outputs": [
    {
     "data": {
      "text/plain": [
       "{'learning_rate': 0.1, 'max_depth': 3, 'n_estimators': 100}"
      ]
     },
     "execution_count": 226,
     "metadata": {},
     "output_type": "execute_result"
    }
   ],
   "source": [
    "lgbm_cv_model.best_params_"
   ]
  },
  {
   "cell_type": "code",
   "execution_count": 227,
   "metadata": {},
   "outputs": [],
   "source": [
    "lgb_tuned=LGBMRegressor(learning_rate=0.1,max_depth=3,n_estimators=100).fit(X_train,y_train)"
   ]
  },
  {
   "cell_type": "code",
   "execution_count": 228,
   "metadata": {},
   "outputs": [],
   "source": [
    "y_pred=lgb_tuned.predict(X_test)"
   ]
  },
  {
   "cell_type": "code",
   "execution_count": 229,
   "metadata": {},
   "outputs": [
    {
     "data": {
      "text/plain": [
       "7124183.378954563"
      ]
     },
     "execution_count": 229,
     "metadata": {},
     "output_type": "execute_result"
    }
   ],
   "source": [
    "np.sqrt(mean_squared_error(y_test,y_pred))"
   ]
  },
  {
   "cell_type": "markdown",
   "metadata": {},
   "source": [
    "<b>6.) CatBoost</b>"
   ]
  },
  {
   "cell_type": "code",
   "execution_count": 230,
   "metadata": {},
   "outputs": [
    {
     "name": "stdout",
     "output_type": "stream",
     "text": [
      "Learning rate set to 0.049961\n",
      "0:\tlearn: 9926965.6415036\ttotal: 2ms\tremaining: 1.99s\n",
      "1:\tlearn: 9675312.8493393\ttotal: 3.74ms\tremaining: 1.87s\n",
      "2:\tlearn: 9468615.4663015\ttotal: 5.21ms\tremaining: 1.73s\n",
      "3:\tlearn: 9255644.7477025\ttotal: 6.78ms\tremaining: 1.69s\n",
      "4:\tlearn: 9053803.3311547\ttotal: 8.4ms\tremaining: 1.67s\n",
      "5:\tlearn: 8848922.8450011\ttotal: 9.95ms\tremaining: 1.65s\n",
      "6:\tlearn: 8680520.0939783\ttotal: 11.5ms\tremaining: 1.63s\n",
      "7:\tlearn: 8505770.8843091\ttotal: 13ms\tremaining: 1.61s\n",
      "8:\tlearn: 8339691.0282678\ttotal: 16.2ms\tremaining: 1.78s\n",
      "9:\tlearn: 8185248.4470852\ttotal: 17.7ms\tremaining: 1.75s\n",
      "10:\tlearn: 8032597.3278724\ttotal: 19.2ms\tremaining: 1.72s\n",
      "11:\tlearn: 7904782.8828477\ttotal: 20.7ms\tremaining: 1.7s\n",
      "12:\tlearn: 7785809.5883915\ttotal: 22.2ms\tremaining: 1.69s\n",
      "13:\tlearn: 7683954.3414278\ttotal: 23.8ms\tremaining: 1.67s\n",
      "14:\tlearn: 7572066.4874966\ttotal: 25.3ms\tremaining: 1.66s\n",
      "15:\tlearn: 7470874.4612298\ttotal: 26.8ms\tremaining: 1.65s\n",
      "16:\tlearn: 7372883.3233189\ttotal: 28.3ms\tremaining: 1.63s\n",
      "17:\tlearn: 7281428.8810387\ttotal: 29.7ms\tremaining: 1.62s\n",
      "18:\tlearn: 7197097.8163688\ttotal: 31.2ms\tremaining: 1.61s\n",
      "19:\tlearn: 7118186.3594517\ttotal: 32.7ms\tremaining: 1.6s\n",
      "20:\tlearn: 7037583.9863054\ttotal: 34.3ms\tremaining: 1.6s\n",
      "21:\tlearn: 6965524.9527302\ttotal: 35.8ms\tremaining: 1.59s\n",
      "22:\tlearn: 6905753.6079540\ttotal: 37.3ms\tremaining: 1.58s\n",
      "23:\tlearn: 6838272.0756042\ttotal: 38.8ms\tremaining: 1.58s\n",
      "24:\tlearn: 6787137.0407150\ttotal: 40.4ms\tremaining: 1.57s\n",
      "25:\tlearn: 6727161.6005379\ttotal: 41.9ms\tremaining: 1.57s\n",
      "26:\tlearn: 6675111.1815861\ttotal: 43.4ms\tremaining: 1.56s\n",
      "27:\tlearn: 6624357.6264000\ttotal: 45ms\tremaining: 1.56s\n",
      "28:\tlearn: 6574590.6902611\ttotal: 46.6ms\tremaining: 1.56s\n",
      "29:\tlearn: 6528187.6585155\ttotal: 48.1ms\tremaining: 1.55s\n",
      "30:\tlearn: 6493653.0083000\ttotal: 49.6ms\tremaining: 1.55s\n",
      "31:\tlearn: 6449004.8516373\ttotal: 51.1ms\tremaining: 1.55s\n",
      "32:\tlearn: 6409813.8415536\ttotal: 52.6ms\tremaining: 1.54s\n",
      "33:\tlearn: 6374636.4715969\ttotal: 54.1ms\tremaining: 1.54s\n",
      "34:\tlearn: 6338914.0682031\ttotal: 55.7ms\tremaining: 1.53s\n",
      "35:\tlearn: 6306158.6851901\ttotal: 57.3ms\tremaining: 1.53s\n",
      "36:\tlearn: 6276851.4724242\ttotal: 58.8ms\tremaining: 1.53s\n",
      "37:\tlearn: 6247657.8526943\ttotal: 60.3ms\tremaining: 1.52s\n",
      "38:\tlearn: 6218541.4577044\ttotal: 61.8ms\tremaining: 1.52s\n",
      "39:\tlearn: 6189831.0437217\ttotal: 63.4ms\tremaining: 1.52s\n",
      "40:\tlearn: 6163087.5116815\ttotal: 64.9ms\tremaining: 1.52s\n",
      "41:\tlearn: 6136118.6666559\ttotal: 66.5ms\tremaining: 1.52s\n",
      "42:\tlearn: 6111687.4299921\ttotal: 68.1ms\tremaining: 1.51s\n",
      "43:\tlearn: 6085101.3159668\ttotal: 69.6ms\tremaining: 1.51s\n",
      "44:\tlearn: 6064600.3863836\ttotal: 71.2ms\tremaining: 1.51s\n",
      "45:\tlearn: 6042842.6813329\ttotal: 72.9ms\tremaining: 1.51s\n",
      "46:\tlearn: 6021849.9743916\ttotal: 74.5ms\tremaining: 1.51s\n",
      "47:\tlearn: 6006030.1543813\ttotal: 76.1ms\tremaining: 1.51s\n",
      "48:\tlearn: 5987873.5682405\ttotal: 77.6ms\tremaining: 1.51s\n",
      "49:\tlearn: 5969684.9367042\ttotal: 79.2ms\tremaining: 1.5s\n",
      "50:\tlearn: 5954867.2901741\ttotal: 80.8ms\tremaining: 1.5s\n",
      "51:\tlearn: 5939064.0966183\ttotal: 82.5ms\tremaining: 1.5s\n",
      "52:\tlearn: 5925106.8293874\ttotal: 84.1ms\tremaining: 1.5s\n",
      "53:\tlearn: 5910797.6389850\ttotal: 85.7ms\tremaining: 1.5s\n",
      "54:\tlearn: 5896542.1332393\ttotal: 87.3ms\tremaining: 1.5s\n",
      "55:\tlearn: 5877918.7771931\ttotal: 88.9ms\tremaining: 1.5s\n",
      "56:\tlearn: 5865179.1895070\ttotal: 90.5ms\tremaining: 1.5s\n",
      "57:\tlearn: 5854412.5708698\ttotal: 92ms\tremaining: 1.49s\n",
      "58:\tlearn: 5841634.9248391\ttotal: 93.6ms\tremaining: 1.49s\n",
      "59:\tlearn: 5828816.5458898\ttotal: 95.2ms\tremaining: 1.49s\n",
      "60:\tlearn: 5813288.7323798\ttotal: 96.8ms\tremaining: 1.49s\n",
      "61:\tlearn: 5803317.4448920\ttotal: 98.4ms\tremaining: 1.49s\n",
      "62:\tlearn: 5789134.0854048\ttotal: 100ms\tremaining: 1.49s\n",
      "63:\tlearn: 5775447.4976643\ttotal: 102ms\tremaining: 1.49s\n",
      "64:\tlearn: 5762335.6695332\ttotal: 103ms\tremaining: 1.49s\n",
      "65:\tlearn: 5750931.7917195\ttotal: 105ms\tremaining: 1.49s\n",
      "66:\tlearn: 5742960.4740072\ttotal: 107ms\tremaining: 1.49s\n",
      "67:\tlearn: 5733820.5343139\ttotal: 108ms\tremaining: 1.49s\n",
      "68:\tlearn: 5726140.7766358\ttotal: 110ms\tremaining: 1.49s\n",
      "69:\tlearn: 5720148.6643337\ttotal: 112ms\tremaining: 1.49s\n",
      "70:\tlearn: 5712354.3974901\ttotal: 113ms\tremaining: 1.48s\n",
      "71:\tlearn: 5703976.9317952\ttotal: 115ms\tremaining: 1.48s\n",
      "72:\tlearn: 5697922.8314595\ttotal: 116ms\tremaining: 1.48s\n",
      "73:\tlearn: 5691711.2284512\ttotal: 118ms\tremaining: 1.48s\n",
      "74:\tlearn: 5683332.4714214\ttotal: 120ms\tremaining: 1.47s\n",
      "75:\tlearn: 5673542.9256484\ttotal: 121ms\tremaining: 1.47s\n",
      "76:\tlearn: 5666032.7250953\ttotal: 123ms\tremaining: 1.47s\n",
      "77:\tlearn: 5657437.0696831\ttotal: 125ms\tremaining: 1.47s\n",
      "78:\tlearn: 5650388.1963318\ttotal: 126ms\tremaining: 1.47s\n",
      "79:\tlearn: 5644231.5073017\ttotal: 128ms\tremaining: 1.47s\n",
      "80:\tlearn: 5638906.7475622\ttotal: 130ms\tremaining: 1.47s\n",
      "81:\tlearn: 5634796.9426032\ttotal: 131ms\tremaining: 1.47s\n",
      "82:\tlearn: 5629460.5591769\ttotal: 133ms\tremaining: 1.47s\n",
      "83:\tlearn: 5621285.2230371\ttotal: 135ms\tremaining: 1.47s\n",
      "84:\tlearn: 5616475.3794180\ttotal: 137ms\tremaining: 1.47s\n",
      "85:\tlearn: 5608225.6486782\ttotal: 138ms\tremaining: 1.47s\n",
      "86:\tlearn: 5602381.7200881\ttotal: 140ms\tremaining: 1.47s\n",
      "87:\tlearn: 5596936.0970396\ttotal: 142ms\tremaining: 1.47s\n",
      "88:\tlearn: 5592579.3512606\ttotal: 143ms\tremaining: 1.47s\n",
      "89:\tlearn: 5588148.8740128\ttotal: 145ms\tremaining: 1.46s\n",
      "90:\tlearn: 5584095.7047548\ttotal: 147ms\tremaining: 1.46s\n",
      "91:\tlearn: 5579261.1802296\ttotal: 148ms\tremaining: 1.46s\n",
      "92:\tlearn: 5574355.8813016\ttotal: 150ms\tremaining: 1.46s\n",
      "93:\tlearn: 5570092.6153777\ttotal: 152ms\tremaining: 1.46s\n",
      "94:\tlearn: 5564530.1289785\ttotal: 153ms\tremaining: 1.46s\n",
      "95:\tlearn: 5560164.4036040\ttotal: 155ms\tremaining: 1.46s\n",
      "96:\tlearn: 5555777.3370230\ttotal: 157ms\tremaining: 1.46s\n",
      "97:\tlearn: 5550773.8031318\ttotal: 159ms\tremaining: 1.46s\n",
      "98:\tlearn: 5544685.3798109\ttotal: 160ms\tremaining: 1.46s\n",
      "99:\tlearn: 5537419.4755361\ttotal: 162ms\tremaining: 1.46s\n",
      "100:\tlearn: 5533153.4004330\ttotal: 164ms\tremaining: 1.46s\n",
      "101:\tlearn: 5528358.9146179\ttotal: 166ms\tremaining: 1.46s\n",
      "102:\tlearn: 5524196.8112641\ttotal: 167ms\tremaining: 1.46s\n",
      "103:\tlearn: 5520734.7630300\ttotal: 169ms\tremaining: 1.46s\n",
      "104:\tlearn: 5516720.8404416\ttotal: 171ms\tremaining: 1.46s\n",
      "105:\tlearn: 5510711.7163593\ttotal: 173ms\tremaining: 1.46s\n",
      "106:\tlearn: 5507407.4791301\ttotal: 175ms\tremaining: 1.46s\n",
      "107:\tlearn: 5501588.2794762\ttotal: 177ms\tremaining: 1.46s\n",
      "108:\tlearn: 5496751.8084636\ttotal: 179ms\tremaining: 1.46s\n",
      "109:\tlearn: 5492653.8998666\ttotal: 181ms\tremaining: 1.46s\n",
      "110:\tlearn: 5489023.5171225\ttotal: 182ms\tremaining: 1.46s\n",
      "111:\tlearn: 5485629.7507974\ttotal: 184ms\tremaining: 1.46s\n",
      "112:\tlearn: 5482784.7791901\ttotal: 186ms\tremaining: 1.46s\n",
      "113:\tlearn: 5480293.2269350\ttotal: 188ms\tremaining: 1.46s\n",
      "114:\tlearn: 5475227.4374512\ttotal: 190ms\tremaining: 1.46s\n",
      "115:\tlearn: 5470710.4674539\ttotal: 192ms\tremaining: 1.46s\n",
      "116:\tlearn: 5469153.9332735\ttotal: 193ms\tremaining: 1.46s\n",
      "117:\tlearn: 5464616.3339098\ttotal: 195ms\tremaining: 1.46s\n",
      "118:\tlearn: 5461170.3491027\ttotal: 197ms\tremaining: 1.46s\n",
      "119:\tlearn: 5458245.1636399\ttotal: 199ms\tremaining: 1.46s\n",
      "120:\tlearn: 5455163.3705869\ttotal: 200ms\tremaining: 1.46s\n",
      "121:\tlearn: 5452120.6143133\ttotal: 202ms\tremaining: 1.45s\n",
      "122:\tlearn: 5449018.7207662\ttotal: 204ms\tremaining: 1.45s\n",
      "123:\tlearn: 5446251.9246736\ttotal: 206ms\tremaining: 1.45s\n",
      "124:\tlearn: 5443163.1520673\ttotal: 207ms\tremaining: 1.45s\n",
      "125:\tlearn: 5440053.3455307\ttotal: 209ms\tremaining: 1.45s\n",
      "126:\tlearn: 5437440.8775543\ttotal: 211ms\tremaining: 1.45s\n",
      "127:\tlearn: 5433661.0378720\ttotal: 213ms\tremaining: 1.45s\n",
      "128:\tlearn: 5430692.6404342\ttotal: 214ms\tremaining: 1.45s\n",
      "129:\tlearn: 5427561.7347459\ttotal: 216ms\tremaining: 1.45s\n",
      "130:\tlearn: 5423227.6405321\ttotal: 218ms\tremaining: 1.45s\n",
      "131:\tlearn: 5420685.1139222\ttotal: 220ms\tremaining: 1.44s\n",
      "132:\tlearn: 5415598.9841126\ttotal: 222ms\tremaining: 1.44s\n",
      "133:\tlearn: 5411194.3842481\ttotal: 223ms\tremaining: 1.44s\n",
      "134:\tlearn: 5408332.4416518\ttotal: 225ms\tremaining: 1.44s\n",
      "135:\tlearn: 5404052.4645604\ttotal: 227ms\tremaining: 1.44s\n",
      "136:\tlearn: 5402618.0820366\ttotal: 229ms\tremaining: 1.44s\n",
      "137:\tlearn: 5399378.9025997\ttotal: 231ms\tremaining: 1.44s\n",
      "138:\tlearn: 5397326.1436796\ttotal: 232ms\tremaining: 1.44s\n",
      "139:\tlearn: 5392763.2536379\ttotal: 234ms\tremaining: 1.44s\n",
      "140:\tlearn: 5389514.4000773\ttotal: 236ms\tremaining: 1.44s\n",
      "141:\tlearn: 5386044.4772040\ttotal: 238ms\tremaining: 1.44s\n",
      "142:\tlearn: 5384548.6712031\ttotal: 240ms\tremaining: 1.44s\n",
      "143:\tlearn: 5380229.8186898\ttotal: 242ms\tremaining: 1.44s\n",
      "144:\tlearn: 5378059.2512270\ttotal: 244ms\tremaining: 1.44s\n",
      "145:\tlearn: 5374292.4972767\ttotal: 245ms\tremaining: 1.44s\n",
      "146:\tlearn: 5369835.5514640\ttotal: 247ms\tremaining: 1.43s\n",
      "147:\tlearn: 5367769.1670632\ttotal: 249ms\tremaining: 1.43s\n",
      "148:\tlearn: 5363849.6061138\ttotal: 251ms\tremaining: 1.43s\n",
      "149:\tlearn: 5361092.1974892\ttotal: 253ms\tremaining: 1.43s\n",
      "150:\tlearn: 5359317.7192116\ttotal: 254ms\tremaining: 1.43s\n",
      "151:\tlearn: 5355637.1598792\ttotal: 256ms\tremaining: 1.43s\n",
      "152:\tlearn: 5352966.7914676\ttotal: 258ms\tremaining: 1.43s\n",
      "153:\tlearn: 5350530.1391628\ttotal: 260ms\tremaining: 1.43s\n",
      "154:\tlearn: 5347321.5931806\ttotal: 261ms\tremaining: 1.42s\n",
      "155:\tlearn: 5345724.7996097\ttotal: 263ms\tremaining: 1.42s\n",
      "156:\tlearn: 5342158.7065601\ttotal: 265ms\tremaining: 1.42s\n",
      "157:\tlearn: 5339098.5590976\ttotal: 266ms\tremaining: 1.42s\n",
      "158:\tlearn: 5335677.9685945\ttotal: 268ms\tremaining: 1.42s\n",
      "159:\tlearn: 5331773.3488420\ttotal: 270ms\tremaining: 1.42s\n",
      "160:\tlearn: 5330233.0020166\ttotal: 272ms\tremaining: 1.42s\n",
      "161:\tlearn: 5327411.2713615\ttotal: 274ms\tremaining: 1.42s\n",
      "162:\tlearn: 5325295.2636105\ttotal: 276ms\tremaining: 1.41s\n",
      "163:\tlearn: 5323231.9490011\ttotal: 277ms\tremaining: 1.41s\n",
      "164:\tlearn: 5321276.5938373\ttotal: 279ms\tremaining: 1.41s\n",
      "165:\tlearn: 5318821.9523271\ttotal: 281ms\tremaining: 1.41s\n",
      "166:\tlearn: 5314967.2103824\ttotal: 282ms\tremaining: 1.41s\n",
      "167:\tlearn: 5313779.5107208\ttotal: 284ms\tremaining: 1.41s\n",
      "168:\tlearn: 5310300.6477000\ttotal: 286ms\tremaining: 1.41s\n",
      "169:\tlearn: 5306156.6790280\ttotal: 288ms\tremaining: 1.41s\n",
      "170:\tlearn: 5303949.1178121\ttotal: 290ms\tremaining: 1.4s\n",
      "171:\tlearn: 5301373.9022831\ttotal: 292ms\tremaining: 1.4s\n",
      "172:\tlearn: 5299343.0568755\ttotal: 293ms\tremaining: 1.4s\n",
      "173:\tlearn: 5296326.7403040\ttotal: 295ms\tremaining: 1.4s\n",
      "174:\tlearn: 5291607.6143687\ttotal: 297ms\tremaining: 1.4s\n",
      "175:\tlearn: 5290194.0998080\ttotal: 299ms\tremaining: 1.4s\n",
      "176:\tlearn: 5288015.5456681\ttotal: 301ms\tremaining: 1.4s\n",
      "177:\tlearn: 5283718.2096724\ttotal: 302ms\tremaining: 1.4s\n",
      "178:\tlearn: 5281798.6563941\ttotal: 304ms\tremaining: 1.39s\n",
      "179:\tlearn: 5278268.6776766\ttotal: 306ms\tremaining: 1.39s\n",
      "180:\tlearn: 5274535.5560159\ttotal: 308ms\tremaining: 1.39s\n",
      "181:\tlearn: 5271966.8902522\ttotal: 309ms\tremaining: 1.39s\n",
      "182:\tlearn: 5269897.3192605\ttotal: 311ms\tremaining: 1.39s\n",
      "183:\tlearn: 5268035.3720933\ttotal: 313ms\tremaining: 1.39s\n",
      "184:\tlearn: 5263165.9181473\ttotal: 314ms\tremaining: 1.39s\n",
      "185:\tlearn: 5261250.8529920\ttotal: 316ms\tremaining: 1.38s\n",
      "186:\tlearn: 5256978.7065206\ttotal: 318ms\tremaining: 1.38s\n",
      "187:\tlearn: 5252346.8334962\ttotal: 320ms\tremaining: 1.38s\n",
      "188:\tlearn: 5250472.1362022\ttotal: 321ms\tremaining: 1.38s\n",
      "189:\tlearn: 5247454.9401553\ttotal: 323ms\tremaining: 1.38s\n",
      "190:\tlearn: 5244219.3990087\ttotal: 325ms\tremaining: 1.38s\n",
      "191:\tlearn: 5241991.5475273\ttotal: 327ms\tremaining: 1.37s\n",
      "192:\tlearn: 5240257.2993702\ttotal: 328ms\tremaining: 1.37s\n"
     ]
    },
    {
     "name": "stdout",
     "output_type": "stream",
     "text": [
      "193:\tlearn: 5238368.4201429\ttotal: 330ms\tremaining: 1.37s\n",
      "194:\tlearn: 5235944.0346391\ttotal: 332ms\tremaining: 1.37s\n",
      "195:\tlearn: 5233969.9106017\ttotal: 334ms\tremaining: 1.37s\n",
      "196:\tlearn: 5232158.9519323\ttotal: 336ms\tremaining: 1.37s\n",
      "197:\tlearn: 5230698.0315582\ttotal: 338ms\tremaining: 1.37s\n",
      "198:\tlearn: 5228188.2601084\ttotal: 340ms\tremaining: 1.37s\n",
      "199:\tlearn: 5224754.9907243\ttotal: 342ms\tremaining: 1.37s\n",
      "200:\tlearn: 5220459.5092494\ttotal: 344ms\tremaining: 1.37s\n",
      "201:\tlearn: 5216475.8152666\ttotal: 346ms\tremaining: 1.37s\n",
      "202:\tlearn: 5213114.2208957\ttotal: 348ms\tremaining: 1.37s\n",
      "203:\tlearn: 5210946.8229785\ttotal: 350ms\tremaining: 1.37s\n",
      "204:\tlearn: 5208374.8847223\ttotal: 352ms\tremaining: 1.36s\n",
      "205:\tlearn: 5204255.3177693\ttotal: 354ms\tremaining: 1.36s\n",
      "206:\tlearn: 5201536.6084939\ttotal: 356ms\tremaining: 1.36s\n",
      "207:\tlearn: 5199297.3292327\ttotal: 358ms\tremaining: 1.36s\n",
      "208:\tlearn: 5196828.7087958\ttotal: 359ms\tremaining: 1.36s\n",
      "209:\tlearn: 5193069.7046661\ttotal: 361ms\tremaining: 1.36s\n",
      "210:\tlearn: 5189242.8705596\ttotal: 363ms\tremaining: 1.36s\n",
      "211:\tlearn: 5186548.6918241\ttotal: 365ms\tremaining: 1.36s\n",
      "212:\tlearn: 5184005.7206253\ttotal: 367ms\tremaining: 1.35s\n",
      "213:\tlearn: 5181712.2129120\ttotal: 369ms\tremaining: 1.35s\n",
      "214:\tlearn: 5179524.8574415\ttotal: 371ms\tremaining: 1.35s\n",
      "215:\tlearn: 5178072.9543070\ttotal: 373ms\tremaining: 1.35s\n",
      "216:\tlearn: 5175724.6100355\ttotal: 374ms\tremaining: 1.35s\n",
      "217:\tlearn: 5173053.3866026\ttotal: 376ms\tremaining: 1.35s\n",
      "218:\tlearn: 5169843.5339894\ttotal: 378ms\tremaining: 1.35s\n",
      "219:\tlearn: 5167909.6488432\ttotal: 380ms\tremaining: 1.35s\n",
      "220:\tlearn: 5166033.5752603\ttotal: 382ms\tremaining: 1.35s\n",
      "221:\tlearn: 5164110.2088665\ttotal: 384ms\tremaining: 1.34s\n",
      "222:\tlearn: 5160465.0388957\ttotal: 386ms\tremaining: 1.34s\n",
      "223:\tlearn: 5157291.9981862\ttotal: 388ms\tremaining: 1.34s\n",
      "224:\tlearn: 5154554.0526390\ttotal: 390ms\tremaining: 1.34s\n",
      "225:\tlearn: 5151598.3893888\ttotal: 392ms\tremaining: 1.34s\n",
      "226:\tlearn: 5149250.7241052\ttotal: 393ms\tremaining: 1.34s\n",
      "227:\tlearn: 5147123.6249541\ttotal: 395ms\tremaining: 1.34s\n",
      "228:\tlearn: 5144479.3638557\ttotal: 397ms\tremaining: 1.34s\n",
      "229:\tlearn: 5140977.4377857\ttotal: 399ms\tremaining: 1.33s\n",
      "230:\tlearn: 5138972.0107989\ttotal: 401ms\tremaining: 1.33s\n",
      "231:\tlearn: 5136013.0935936\ttotal: 402ms\tremaining: 1.33s\n",
      "232:\tlearn: 5134102.9253410\ttotal: 404ms\tremaining: 1.33s\n",
      "233:\tlearn: 5131310.8038388\ttotal: 406ms\tremaining: 1.33s\n",
      "234:\tlearn: 5129848.2617222\ttotal: 408ms\tremaining: 1.33s\n",
      "235:\tlearn: 5127501.3302201\ttotal: 409ms\tremaining: 1.32s\n",
      "236:\tlearn: 5125989.8818363\ttotal: 411ms\tremaining: 1.32s\n",
      "237:\tlearn: 5123505.9883415\ttotal: 413ms\tremaining: 1.32s\n",
      "238:\tlearn: 5120894.8423819\ttotal: 415ms\tremaining: 1.32s\n",
      "239:\tlearn: 5117911.6480744\ttotal: 417ms\tremaining: 1.32s\n",
      "240:\tlearn: 5115148.0860291\ttotal: 418ms\tremaining: 1.32s\n",
      "241:\tlearn: 5113513.1373496\ttotal: 420ms\tremaining: 1.31s\n",
      "242:\tlearn: 5112152.8106100\ttotal: 422ms\tremaining: 1.31s\n",
      "243:\tlearn: 5110025.5233107\ttotal: 424ms\tremaining: 1.31s\n",
      "244:\tlearn: 5108545.5684629\ttotal: 425ms\tremaining: 1.31s\n",
      "245:\tlearn: 5107334.1648924\ttotal: 427ms\tremaining: 1.31s\n",
      "246:\tlearn: 5103753.4258861\ttotal: 429ms\tremaining: 1.31s\n",
      "247:\tlearn: 5101728.9999193\ttotal: 431ms\tremaining: 1.3s\n",
      "248:\tlearn: 5099008.2121386\ttotal: 433ms\tremaining: 1.3s\n",
      "249:\tlearn: 5097193.6165881\ttotal: 434ms\tremaining: 1.3s\n",
      "250:\tlearn: 5095352.1577683\ttotal: 436ms\tremaining: 1.3s\n",
      "251:\tlearn: 5092611.9734830\ttotal: 438ms\tremaining: 1.3s\n",
      "252:\tlearn: 5091051.9364370\ttotal: 440ms\tremaining: 1.3s\n",
      "253:\tlearn: 5089109.5068215\ttotal: 441ms\tremaining: 1.3s\n",
      "254:\tlearn: 5087202.0275326\ttotal: 443ms\tremaining: 1.29s\n",
      "255:\tlearn: 5083923.0438161\ttotal: 445ms\tremaining: 1.29s\n",
      "256:\tlearn: 5081132.6918554\ttotal: 447ms\tremaining: 1.29s\n",
      "257:\tlearn: 5078395.0758698\ttotal: 448ms\tremaining: 1.29s\n",
      "258:\tlearn: 5076311.8490847\ttotal: 450ms\tremaining: 1.29s\n",
      "259:\tlearn: 5073717.6834382\ttotal: 452ms\tremaining: 1.28s\n",
      "260:\tlearn: 5072237.8696383\ttotal: 453ms\tremaining: 1.28s\n",
      "261:\tlearn: 5069449.1669784\ttotal: 455ms\tremaining: 1.28s\n",
      "262:\tlearn: 5066989.3409799\ttotal: 457ms\tremaining: 1.28s\n",
      "263:\tlearn: 5065561.2162885\ttotal: 459ms\tremaining: 1.28s\n",
      "264:\tlearn: 5062783.5547449\ttotal: 461ms\tremaining: 1.28s\n",
      "265:\tlearn: 5059622.8089351\ttotal: 462ms\tremaining: 1.27s\n",
      "266:\tlearn: 5057098.5731191\ttotal: 464ms\tremaining: 1.27s\n",
      "267:\tlearn: 5054642.3541828\ttotal: 466ms\tremaining: 1.27s\n",
      "268:\tlearn: 5052514.6110229\ttotal: 468ms\tremaining: 1.27s\n",
      "269:\tlearn: 5049612.9093147\ttotal: 470ms\tremaining: 1.27s\n",
      "270:\tlearn: 5048674.8184499\ttotal: 471ms\tremaining: 1.27s\n",
      "271:\tlearn: 5046883.1831473\ttotal: 474ms\tremaining: 1.27s\n",
      "272:\tlearn: 5045173.6378467\ttotal: 475ms\tremaining: 1.27s\n",
      "273:\tlearn: 5043874.3788166\ttotal: 477ms\tremaining: 1.26s\n",
      "274:\tlearn: 5041350.8404652\ttotal: 479ms\tremaining: 1.26s\n",
      "275:\tlearn: 5040324.8523838\ttotal: 481ms\tremaining: 1.26s\n",
      "276:\tlearn: 5037827.4412587\ttotal: 482ms\tremaining: 1.26s\n",
      "277:\tlearn: 5034530.8481745\ttotal: 484ms\tremaining: 1.26s\n",
      "278:\tlearn: 5032435.7136894\ttotal: 486ms\tremaining: 1.25s\n",
      "279:\tlearn: 5030112.1946132\ttotal: 488ms\tremaining: 1.25s\n",
      "280:\tlearn: 5027521.5074290\ttotal: 490ms\tremaining: 1.25s\n",
      "281:\tlearn: 5026259.0666918\ttotal: 491ms\tremaining: 1.25s\n",
      "282:\tlearn: 5023848.7565130\ttotal: 493ms\tremaining: 1.25s\n",
      "283:\tlearn: 5020628.1134661\ttotal: 495ms\tremaining: 1.25s\n",
      "284:\tlearn: 5019000.9567555\ttotal: 497ms\tremaining: 1.25s\n",
      "285:\tlearn: 5016903.2191036\ttotal: 498ms\tremaining: 1.24s\n",
      "286:\tlearn: 5015597.8228404\ttotal: 500ms\tremaining: 1.24s\n",
      "287:\tlearn: 5013313.8682476\ttotal: 502ms\tremaining: 1.24s\n",
      "288:\tlearn: 5011581.0646440\ttotal: 504ms\tremaining: 1.24s\n",
      "289:\tlearn: 5009444.4259062\ttotal: 506ms\tremaining: 1.24s\n",
      "290:\tlearn: 5006231.2884647\ttotal: 508ms\tremaining: 1.24s\n",
      "291:\tlearn: 5004794.3382902\ttotal: 510ms\tremaining: 1.24s\n",
      "292:\tlearn: 5002759.5468135\ttotal: 512ms\tremaining: 1.23s\n",
      "293:\tlearn: 5000606.9913268\ttotal: 513ms\tremaining: 1.23s\n",
      "294:\tlearn: 4998092.1666569\ttotal: 515ms\tremaining: 1.23s\n",
      "295:\tlearn: 4995641.0090743\ttotal: 517ms\tremaining: 1.23s\n",
      "296:\tlearn: 4993824.9586599\ttotal: 519ms\tremaining: 1.23s\n",
      "297:\tlearn: 4992880.9673502\ttotal: 521ms\tremaining: 1.23s\n",
      "298:\tlearn: 4990333.7297627\ttotal: 522ms\tremaining: 1.22s\n",
      "299:\tlearn: 4988708.1855478\ttotal: 524ms\tremaining: 1.22s\n",
      "300:\tlearn: 4986119.0392669\ttotal: 526ms\tremaining: 1.22s\n",
      "301:\tlearn: 4984857.6701852\ttotal: 528ms\tremaining: 1.22s\n",
      "302:\tlearn: 4982518.6763920\ttotal: 529ms\tremaining: 1.22s\n",
      "303:\tlearn: 4980516.0767873\ttotal: 531ms\tremaining: 1.22s\n",
      "304:\tlearn: 4978154.7304907\ttotal: 533ms\tremaining: 1.21s\n",
      "305:\tlearn: 4976240.0041643\ttotal: 535ms\tremaining: 1.21s\n",
      "306:\tlearn: 4974835.1076162\ttotal: 537ms\tremaining: 1.21s\n",
      "307:\tlearn: 4972741.4725504\ttotal: 538ms\tremaining: 1.21s\n",
      "308:\tlearn: 4971480.6391239\ttotal: 540ms\tremaining: 1.21s\n",
      "309:\tlearn: 4969405.0209577\ttotal: 542ms\tremaining: 1.21s\n",
      "310:\tlearn: 4968955.8382546\ttotal: 543ms\tremaining: 1.2s\n",
      "311:\tlearn: 4967701.6440544\ttotal: 545ms\tremaining: 1.2s\n",
      "312:\tlearn: 4964747.9767492\ttotal: 547ms\tremaining: 1.2s\n",
      "313:\tlearn: 4962698.5160682\ttotal: 549ms\tremaining: 1.2s\n",
      "314:\tlearn: 4960699.2410166\ttotal: 550ms\tremaining: 1.2s\n",
      "315:\tlearn: 4957825.5947255\ttotal: 552ms\tremaining: 1.2s\n",
      "316:\tlearn: 4954704.9446531\ttotal: 554ms\tremaining: 1.19s\n",
      "317:\tlearn: 4952793.0084611\ttotal: 556ms\tremaining: 1.19s\n",
      "318:\tlearn: 4951578.1131313\ttotal: 557ms\tremaining: 1.19s\n",
      "319:\tlearn: 4949515.9068435\ttotal: 559ms\tremaining: 1.19s\n",
      "320:\tlearn: 4948758.1164358\ttotal: 561ms\tremaining: 1.19s\n",
      "321:\tlearn: 4947273.5156890\ttotal: 563ms\tremaining: 1.19s\n",
      "322:\tlearn: 4945881.0211928\ttotal: 565ms\tremaining: 1.18s\n",
      "323:\tlearn: 4945496.1090081\ttotal: 566ms\tremaining: 1.18s\n",
      "324:\tlearn: 4945097.1952764\ttotal: 568ms\tremaining: 1.18s\n",
      "325:\tlearn: 4942957.2358217\ttotal: 570ms\tremaining: 1.18s\n",
      "326:\tlearn: 4941916.8966680\ttotal: 572ms\tremaining: 1.18s\n",
      "327:\tlearn: 4939600.7422522\ttotal: 574ms\tremaining: 1.18s\n",
      "328:\tlearn: 4937969.0387913\ttotal: 575ms\tremaining: 1.17s\n",
      "329:\tlearn: 4935574.4197212\ttotal: 577ms\tremaining: 1.17s\n",
      "330:\tlearn: 4933609.3687264\ttotal: 579ms\tremaining: 1.17s\n",
      "331:\tlearn: 4932065.6831072\ttotal: 581ms\tremaining: 1.17s\n",
      "332:\tlearn: 4930027.1029272\ttotal: 582ms\tremaining: 1.17s\n",
      "333:\tlearn: 4928141.0328340\ttotal: 584ms\tremaining: 1.16s\n",
      "334:\tlearn: 4926176.5426997\ttotal: 586ms\tremaining: 1.16s\n",
      "335:\tlearn: 4923458.6807002\ttotal: 587ms\tremaining: 1.16s\n",
      "336:\tlearn: 4920926.9869266\ttotal: 589ms\tremaining: 1.16s\n",
      "337:\tlearn: 4918306.4303995\ttotal: 591ms\tremaining: 1.16s\n",
      "338:\tlearn: 4916445.4629923\ttotal: 592ms\tremaining: 1.16s\n",
      "339:\tlearn: 4914011.6702720\ttotal: 594ms\tremaining: 1.15s\n",
      "340:\tlearn: 4911477.3091591\ttotal: 596ms\tremaining: 1.15s\n",
      "341:\tlearn: 4909656.2459982\ttotal: 598ms\tremaining: 1.15s\n",
      "342:\tlearn: 4908036.8043846\ttotal: 600ms\tremaining: 1.15s\n",
      "343:\tlearn: 4907390.7987742\ttotal: 601ms\tremaining: 1.15s\n",
      "344:\tlearn: 4904735.0841421\ttotal: 603ms\tremaining: 1.15s\n",
      "345:\tlearn: 4903962.9622186\ttotal: 605ms\tremaining: 1.14s\n",
      "346:\tlearn: 4903598.5113788\ttotal: 607ms\tremaining: 1.14s\n",
      "347:\tlearn: 4901833.1004931\ttotal: 608ms\tremaining: 1.14s\n",
      "348:\tlearn: 4899920.0943950\ttotal: 610ms\tremaining: 1.14s\n",
      "349:\tlearn: 4897429.7166108\ttotal: 612ms\tremaining: 1.14s\n",
      "350:\tlearn: 4895879.1558791\ttotal: 614ms\tremaining: 1.13s\n",
      "351:\tlearn: 4894138.6415826\ttotal: 616ms\tremaining: 1.13s\n",
      "352:\tlearn: 4892671.5465775\ttotal: 617ms\tremaining: 1.13s\n",
      "353:\tlearn: 4890311.0411910\ttotal: 619ms\tremaining: 1.13s\n",
      "354:\tlearn: 4888716.7303118\ttotal: 621ms\tremaining: 1.13s\n",
      "355:\tlearn: 4886896.9834436\ttotal: 623ms\tremaining: 1.13s\n",
      "356:\tlearn: 4886388.2399106\ttotal: 624ms\tremaining: 1.12s\n",
      "357:\tlearn: 4884490.5402421\ttotal: 626ms\tremaining: 1.12s\n",
      "358:\tlearn: 4882382.7996852\ttotal: 628ms\tremaining: 1.12s\n",
      "359:\tlearn: 4880606.2017955\ttotal: 630ms\tremaining: 1.12s\n",
      "360:\tlearn: 4879531.3569059\ttotal: 631ms\tremaining: 1.12s\n",
      "361:\tlearn: 4877327.6586043\ttotal: 633ms\tremaining: 1.11s\n",
      "362:\tlearn: 4875526.1763888\ttotal: 635ms\tremaining: 1.11s\n",
      "363:\tlearn: 4874666.9717344\ttotal: 637ms\tremaining: 1.11s\n",
      "364:\tlearn: 4873000.3756209\ttotal: 638ms\tremaining: 1.11s\n",
      "365:\tlearn: 4871961.1940505\ttotal: 640ms\tremaining: 1.11s\n",
      "366:\tlearn: 4870242.5429897\ttotal: 642ms\tremaining: 1.11s\n",
      "367:\tlearn: 4869316.0050717\ttotal: 644ms\tremaining: 1.1s\n",
      "368:\tlearn: 4867677.2433981\ttotal: 645ms\tremaining: 1.1s\n",
      "369:\tlearn: 4867064.5266200\ttotal: 647ms\tremaining: 1.1s\n",
      "370:\tlearn: 4866149.6160156\ttotal: 649ms\tremaining: 1.1s\n",
      "371:\tlearn: 4865697.6181286\ttotal: 651ms\tremaining: 1.1s\n",
      "372:\tlearn: 4864599.3023152\ttotal: 653ms\tremaining: 1.1s\n",
      "373:\tlearn: 4862601.1091857\ttotal: 654ms\tremaining: 1.09s\n",
      "374:\tlearn: 4861322.2647099\ttotal: 656ms\tremaining: 1.09s\n",
      "375:\tlearn: 4859651.5429634\ttotal: 658ms\tremaining: 1.09s\n"
     ]
    },
    {
     "name": "stdout",
     "output_type": "stream",
     "text": [
      "376:\tlearn: 4858257.1011905\ttotal: 660ms\tremaining: 1.09s\n",
      "377:\tlearn: 4856903.8875639\ttotal: 662ms\tremaining: 1.09s\n",
      "378:\tlearn: 4855969.4680215\ttotal: 664ms\tremaining: 1.09s\n",
      "379:\tlearn: 4853755.5916961\ttotal: 666ms\tremaining: 1.08s\n",
      "380:\tlearn: 4853440.5436510\ttotal: 667ms\tremaining: 1.08s\n",
      "381:\tlearn: 4851251.5944156\ttotal: 669ms\tremaining: 1.08s\n",
      "382:\tlearn: 4850839.2890335\ttotal: 671ms\tremaining: 1.08s\n",
      "383:\tlearn: 4848721.9211809\ttotal: 672ms\tremaining: 1.08s\n",
      "384:\tlearn: 4847010.8009997\ttotal: 675ms\tremaining: 1.08s\n",
      "385:\tlearn: 4846117.1443704\ttotal: 676ms\tremaining: 1.07s\n",
      "386:\tlearn: 4845263.9574260\ttotal: 678ms\tremaining: 1.07s\n",
      "387:\tlearn: 4845080.0246149\ttotal: 680ms\tremaining: 1.07s\n",
      "388:\tlearn: 4844265.5695415\ttotal: 681ms\tremaining: 1.07s\n",
      "389:\tlearn: 4842539.3574505\ttotal: 683ms\tremaining: 1.07s\n",
      "390:\tlearn: 4841037.6113052\ttotal: 685ms\tremaining: 1.07s\n",
      "391:\tlearn: 4839526.7369827\ttotal: 687ms\tremaining: 1.06s\n",
      "392:\tlearn: 4837915.6380534\ttotal: 689ms\tremaining: 1.06s\n",
      "393:\tlearn: 4836367.4798203\ttotal: 690ms\tremaining: 1.06s\n",
      "394:\tlearn: 4834799.0130917\ttotal: 692ms\tremaining: 1.06s\n",
      "395:\tlearn: 4833534.2702831\ttotal: 694ms\tremaining: 1.06s\n",
      "396:\tlearn: 4831964.4650165\ttotal: 696ms\tremaining: 1.06s\n",
      "397:\tlearn: 4830403.6144857\ttotal: 698ms\tremaining: 1.05s\n",
      "398:\tlearn: 4828041.2609951\ttotal: 699ms\tremaining: 1.05s\n",
      "399:\tlearn: 4826589.6309523\ttotal: 701ms\tremaining: 1.05s\n",
      "400:\tlearn: 4825360.2653532\ttotal: 703ms\tremaining: 1.05s\n",
      "401:\tlearn: 4823676.5545564\ttotal: 705ms\tremaining: 1.05s\n",
      "402:\tlearn: 4821015.8677562\ttotal: 707ms\tremaining: 1.05s\n",
      "403:\tlearn: 4820737.5722798\ttotal: 709ms\tremaining: 1.04s\n",
      "404:\tlearn: 4819308.9733537\ttotal: 710ms\tremaining: 1.04s\n",
      "405:\tlearn: 4816396.6893162\ttotal: 712ms\tremaining: 1.04s\n",
      "406:\tlearn: 4814966.1952523\ttotal: 714ms\tremaining: 1.04s\n",
      "407:\tlearn: 4814195.6887130\ttotal: 716ms\tremaining: 1.04s\n",
      "408:\tlearn: 4813727.0914447\ttotal: 718ms\tremaining: 1.04s\n",
      "409:\tlearn: 4811823.1490797\ttotal: 719ms\tremaining: 1.03s\n",
      "410:\tlearn: 4810324.8174428\ttotal: 721ms\tremaining: 1.03s\n",
      "411:\tlearn: 4808920.0367518\ttotal: 723ms\tremaining: 1.03s\n",
      "412:\tlearn: 4807520.7566669\ttotal: 724ms\tremaining: 1.03s\n",
      "413:\tlearn: 4806401.5006861\ttotal: 726ms\tremaining: 1.03s\n",
      "414:\tlearn: 4805347.1820556\ttotal: 728ms\tremaining: 1.03s\n",
      "415:\tlearn: 4803820.7502033\ttotal: 730ms\tremaining: 1.02s\n",
      "416:\tlearn: 4801585.2764070\ttotal: 732ms\tremaining: 1.02s\n",
      "417:\tlearn: 4798923.7047554\ttotal: 733ms\tremaining: 1.02s\n",
      "418:\tlearn: 4797358.6661308\ttotal: 735ms\tremaining: 1.02s\n",
      "419:\tlearn: 4796614.9835855\ttotal: 737ms\tremaining: 1.02s\n",
      "420:\tlearn: 4795219.4867429\ttotal: 739ms\tremaining: 1.01s\n",
      "421:\tlearn: 4793753.6344926\ttotal: 740ms\tremaining: 1.01s\n",
      "422:\tlearn: 4793020.3662521\ttotal: 742ms\tremaining: 1.01s\n",
      "423:\tlearn: 4792398.5291480\ttotal: 744ms\tremaining: 1.01s\n",
      "424:\tlearn: 4790874.0241288\ttotal: 746ms\tremaining: 1.01s\n",
      "425:\tlearn: 4789538.6575096\ttotal: 748ms\tremaining: 1.01s\n",
      "426:\tlearn: 4786460.6078111\ttotal: 750ms\tremaining: 1s\n",
      "427:\tlearn: 4785336.0011438\ttotal: 751ms\tremaining: 1s\n",
      "428:\tlearn: 4784246.0054810\ttotal: 753ms\tremaining: 1s\n",
      "429:\tlearn: 4783099.3266827\ttotal: 755ms\tremaining: 1s\n",
      "430:\tlearn: 4781260.9970503\ttotal: 756ms\tremaining: 999ms\n",
      "431:\tlearn: 4780482.2471441\ttotal: 758ms\tremaining: 997ms\n",
      "432:\tlearn: 4779462.8539672\ttotal: 760ms\tremaining: 995ms\n",
      "433:\tlearn: 4778765.7087355\ttotal: 762ms\tremaining: 993ms\n",
      "434:\tlearn: 4777732.0835230\ttotal: 763ms\tremaining: 991ms\n",
      "435:\tlearn: 4776416.0089938\ttotal: 765ms\tremaining: 990ms\n",
      "436:\tlearn: 4774572.0414940\ttotal: 767ms\tremaining: 988ms\n",
      "437:\tlearn: 4773865.7576231\ttotal: 768ms\tremaining: 986ms\n",
      "438:\tlearn: 4773168.7213683\ttotal: 770ms\tremaining: 984ms\n",
      "439:\tlearn: 4771126.9286143\ttotal: 772ms\tremaining: 982ms\n",
      "440:\tlearn: 4768611.9819368\ttotal: 774ms\tremaining: 981ms\n",
      "441:\tlearn: 4767766.1987810\ttotal: 775ms\tremaining: 979ms\n",
      "442:\tlearn: 4765917.4511599\ttotal: 777ms\tremaining: 977ms\n",
      "443:\tlearn: 4765644.8188759\ttotal: 779ms\tremaining: 975ms\n",
      "444:\tlearn: 4764067.2661339\ttotal: 781ms\tremaining: 973ms\n",
      "445:\tlearn: 4762457.2974394\ttotal: 782ms\tremaining: 972ms\n",
      "446:\tlearn: 4760924.6826866\ttotal: 784ms\tremaining: 970ms\n",
      "447:\tlearn: 4759841.4735842\ttotal: 786ms\tremaining: 968ms\n",
      "448:\tlearn: 4758888.8301844\ttotal: 788ms\tremaining: 967ms\n",
      "449:\tlearn: 4756903.0007974\ttotal: 789ms\tremaining: 965ms\n",
      "450:\tlearn: 4756248.3107495\ttotal: 791ms\tremaining: 963ms\n",
      "451:\tlearn: 4754989.8056704\ttotal: 793ms\tremaining: 961ms\n",
      "452:\tlearn: 4754360.2430114\ttotal: 795ms\tremaining: 960ms\n",
      "453:\tlearn: 4753110.1257292\ttotal: 797ms\tremaining: 958ms\n",
      "454:\tlearn: 4752116.6280390\ttotal: 798ms\tremaining: 956ms\n",
      "455:\tlearn: 4750815.9339062\ttotal: 800ms\tremaining: 955ms\n",
      "456:\tlearn: 4749035.0319087\ttotal: 802ms\tremaining: 953ms\n",
      "457:\tlearn: 4748312.8174711\ttotal: 804ms\tremaining: 951ms\n",
      "458:\tlearn: 4746450.9117165\ttotal: 806ms\tremaining: 950ms\n",
      "459:\tlearn: 4743670.1283087\ttotal: 808ms\tremaining: 949ms\n",
      "460:\tlearn: 4742129.9477630\ttotal: 810ms\tremaining: 947ms\n",
      "461:\tlearn: 4740588.7163112\ttotal: 812ms\tremaining: 945ms\n",
      "462:\tlearn: 4739693.4163454\ttotal: 813ms\tremaining: 943ms\n",
      "463:\tlearn: 4738332.0990076\ttotal: 815ms\tremaining: 941ms\n",
      "464:\tlearn: 4737008.2978105\ttotal: 817ms\tremaining: 939ms\n",
      "465:\tlearn: 4736156.2005026\ttotal: 818ms\tremaining: 938ms\n",
      "466:\tlearn: 4735046.7020562\ttotal: 820ms\tremaining: 936ms\n",
      "467:\tlearn: 4734181.5623623\ttotal: 822ms\tremaining: 934ms\n",
      "468:\tlearn: 4732267.5623445\ttotal: 824ms\tremaining: 932ms\n",
      "469:\tlearn: 4731463.2739487\ttotal: 825ms\tremaining: 931ms\n",
      "470:\tlearn: 4731106.2493194\ttotal: 827ms\tremaining: 929ms\n",
      "471:\tlearn: 4729782.0021650\ttotal: 829ms\tremaining: 928ms\n",
      "472:\tlearn: 4727211.1753534\ttotal: 831ms\tremaining: 926ms\n",
      "473:\tlearn: 4725723.5633137\ttotal: 833ms\tremaining: 924ms\n",
      "474:\tlearn: 4724073.0768330\ttotal: 835ms\tremaining: 923ms\n",
      "475:\tlearn: 4722957.3431046\ttotal: 837ms\tremaining: 921ms\n",
      "476:\tlearn: 4721875.0146622\ttotal: 839ms\tremaining: 920ms\n",
      "477:\tlearn: 4720511.4106500\ttotal: 840ms\tremaining: 918ms\n",
      "478:\tlearn: 4718885.9667115\ttotal: 842ms\tremaining: 916ms\n",
      "479:\tlearn: 4717194.6695496\ttotal: 844ms\tremaining: 914ms\n",
      "480:\tlearn: 4716122.8798869\ttotal: 846ms\tremaining: 913ms\n",
      "481:\tlearn: 4715700.8109797\ttotal: 848ms\tremaining: 911ms\n",
      "482:\tlearn: 4715112.1001208\ttotal: 849ms\tremaining: 909ms\n",
      "483:\tlearn: 4713374.5815581\ttotal: 851ms\tremaining: 907ms\n",
      "484:\tlearn: 4712991.5590057\ttotal: 853ms\tremaining: 906ms\n",
      "485:\tlearn: 4712101.2251715\ttotal: 855ms\tremaining: 904ms\n",
      "486:\tlearn: 4711630.9731812\ttotal: 856ms\tremaining: 902ms\n",
      "487:\tlearn: 4709930.7865857\ttotal: 858ms\tremaining: 900ms\n",
      "488:\tlearn: 4709289.4866128\ttotal: 860ms\tremaining: 899ms\n",
      "489:\tlearn: 4708641.3312666\ttotal: 862ms\tremaining: 897ms\n",
      "490:\tlearn: 4707923.9282152\ttotal: 864ms\tremaining: 895ms\n",
      "491:\tlearn: 4706732.8393458\ttotal: 865ms\tremaining: 894ms\n",
      "492:\tlearn: 4706079.7529502\ttotal: 867ms\tremaining: 892ms\n",
      "493:\tlearn: 4704118.9825969\ttotal: 869ms\tremaining: 890ms\n",
      "494:\tlearn: 4702868.6410874\ttotal: 871ms\tremaining: 888ms\n",
      "495:\tlearn: 4702319.3057013\ttotal: 873ms\tremaining: 887ms\n",
      "496:\tlearn: 4701258.3148396\ttotal: 874ms\tremaining: 885ms\n",
      "497:\tlearn: 4699827.6558998\ttotal: 876ms\tremaining: 883ms\n",
      "498:\tlearn: 4698273.5077567\ttotal: 878ms\tremaining: 882ms\n",
      "499:\tlearn: 4695776.9710437\ttotal: 880ms\tremaining: 880ms\n",
      "500:\tlearn: 4695189.9049024\ttotal: 882ms\tremaining: 878ms\n",
      "501:\tlearn: 4693929.0555154\ttotal: 883ms\tremaining: 876ms\n",
      "502:\tlearn: 4692856.3810392\ttotal: 885ms\tremaining: 874ms\n",
      "503:\tlearn: 4692244.3680203\ttotal: 887ms\tremaining: 873ms\n",
      "504:\tlearn: 4691314.4868419\ttotal: 889ms\tremaining: 871ms\n",
      "505:\tlearn: 4690826.8101133\ttotal: 890ms\tremaining: 869ms\n",
      "506:\tlearn: 4689899.2262652\ttotal: 892ms\tremaining: 867ms\n",
      "507:\tlearn: 4689315.1208295\ttotal: 894ms\tremaining: 866ms\n",
      "508:\tlearn: 4687837.3692720\ttotal: 895ms\tremaining: 864ms\n",
      "509:\tlearn: 4686431.7394549\ttotal: 897ms\tremaining: 862ms\n",
      "510:\tlearn: 4685399.5152820\ttotal: 899ms\tremaining: 860ms\n",
      "511:\tlearn: 4684952.2445273\ttotal: 901ms\tremaining: 858ms\n",
      "512:\tlearn: 4682298.9833502\ttotal: 902ms\tremaining: 857ms\n",
      "513:\tlearn: 4680679.3175920\ttotal: 904ms\tremaining: 855ms\n",
      "514:\tlearn: 4680333.1060759\ttotal: 906ms\tremaining: 853ms\n",
      "515:\tlearn: 4679786.2747170\ttotal: 908ms\tremaining: 852ms\n",
      "516:\tlearn: 4679014.4927857\ttotal: 910ms\tremaining: 850ms\n",
      "517:\tlearn: 4677927.3795718\ttotal: 911ms\tremaining: 848ms\n",
      "518:\tlearn: 4676374.6251045\ttotal: 913ms\tremaining: 846ms\n",
      "519:\tlearn: 4676052.9190126\ttotal: 915ms\tremaining: 845ms\n",
      "520:\tlearn: 4674149.8148138\ttotal: 917ms\tremaining: 843ms\n",
      "521:\tlearn: 4672895.9083641\ttotal: 919ms\tremaining: 841ms\n",
      "522:\tlearn: 4672107.6385205\ttotal: 920ms\tremaining: 839ms\n",
      "523:\tlearn: 4670999.3404351\ttotal: 922ms\tremaining: 838ms\n",
      "524:\tlearn: 4670012.9696295\ttotal: 924ms\tremaining: 836ms\n",
      "525:\tlearn: 4669448.7031608\ttotal: 926ms\tremaining: 834ms\n",
      "526:\tlearn: 4668314.2294935\ttotal: 928ms\tremaining: 833ms\n",
      "527:\tlearn: 4666268.8840208\ttotal: 930ms\tremaining: 831ms\n",
      "528:\tlearn: 4664951.6120143\ttotal: 932ms\tremaining: 829ms\n",
      "529:\tlearn: 4663921.5425893\ttotal: 933ms\tremaining: 828ms\n",
      "530:\tlearn: 4663330.1280208\ttotal: 935ms\tremaining: 826ms\n",
      "531:\tlearn: 4662055.6103428\ttotal: 937ms\tremaining: 824ms\n",
      "532:\tlearn: 4660932.4880485\ttotal: 939ms\tremaining: 822ms\n",
      "533:\tlearn: 4659523.5139405\ttotal: 940ms\tremaining: 821ms\n",
      "534:\tlearn: 4658531.6472521\ttotal: 942ms\tremaining: 819ms\n",
      "535:\tlearn: 4658380.8917217\ttotal: 944ms\tremaining: 817ms\n",
      "536:\tlearn: 4657141.6809187\ttotal: 946ms\tremaining: 815ms\n",
      "537:\tlearn: 4656703.6660941\ttotal: 947ms\tremaining: 814ms\n",
      "538:\tlearn: 4655370.3940834\ttotal: 949ms\tremaining: 812ms\n",
      "539:\tlearn: 4653456.9837777\ttotal: 951ms\tremaining: 810ms\n",
      "540:\tlearn: 4652235.3550153\ttotal: 953ms\tremaining: 808ms\n",
      "541:\tlearn: 4650736.8867936\ttotal: 955ms\tremaining: 807ms\n",
      "542:\tlearn: 4649479.2468979\ttotal: 957ms\tremaining: 805ms\n",
      "543:\tlearn: 4648951.4610600\ttotal: 958ms\tremaining: 803ms\n",
      "544:\tlearn: 4647451.6601082\ttotal: 960ms\tremaining: 802ms\n",
      "545:\tlearn: 4645941.3225741\ttotal: 962ms\tremaining: 800ms\n",
      "546:\tlearn: 4645275.6397377\ttotal: 964ms\tremaining: 798ms\n",
      "547:\tlearn: 4644200.1264607\ttotal: 966ms\tremaining: 796ms\n",
      "548:\tlearn: 4643895.2982488\ttotal: 967ms\tremaining: 795ms\n",
      "549:\tlearn: 4642353.2048518\ttotal: 969ms\tremaining: 793ms\n",
      "550:\tlearn: 4641349.8573680\ttotal: 971ms\tremaining: 791ms\n",
      "551:\tlearn: 4639585.8286767\ttotal: 973ms\tremaining: 790ms\n",
      "552:\tlearn: 4638414.5916510\ttotal: 975ms\tremaining: 788ms\n",
      "553:\tlearn: 4637835.9858353\ttotal: 977ms\tremaining: 786ms\n",
      "554:\tlearn: 4637156.2927468\ttotal: 979ms\tremaining: 785ms\n",
      "555:\tlearn: 4637131.3114963\ttotal: 980ms\tremaining: 783ms\n",
      "556:\tlearn: 4635586.5812522\ttotal: 982ms\tremaining: 781ms\n",
      "557:\tlearn: 4635171.3749615\ttotal: 984ms\tremaining: 779ms\n",
      "558:\tlearn: 4634133.2276431\ttotal: 985ms\tremaining: 777ms\n",
      "559:\tlearn: 4633284.8993946\ttotal: 987ms\tremaining: 776ms\n"
     ]
    },
    {
     "name": "stdout",
     "output_type": "stream",
     "text": [
      "560:\tlearn: 4631907.8030068\ttotal: 989ms\tremaining: 774ms\n",
      "561:\tlearn: 4631032.5647774\ttotal: 991ms\tremaining: 772ms\n",
      "562:\tlearn: 4631003.4782741\ttotal: 992ms\tremaining: 770ms\n",
      "563:\tlearn: 4630105.4531178\ttotal: 994ms\tremaining: 769ms\n",
      "564:\tlearn: 4629714.2477409\ttotal: 996ms\tremaining: 767ms\n",
      "565:\tlearn: 4628894.4569086\ttotal: 998ms\tremaining: 765ms\n",
      "566:\tlearn: 4627526.2295573\ttotal: 1000ms\tremaining: 764ms\n",
      "567:\tlearn: 4626764.1421114\ttotal: 1s\tremaining: 762ms\n",
      "568:\tlearn: 4625352.8394325\ttotal: 1s\tremaining: 760ms\n",
      "569:\tlearn: 4624174.8366993\ttotal: 1s\tremaining: 758ms\n",
      "570:\tlearn: 4622596.0202170\ttotal: 1.01s\tremaining: 757ms\n",
      "571:\tlearn: 4622453.1379021\ttotal: 1.01s\tremaining: 755ms\n",
      "572:\tlearn: 4621691.5567546\ttotal: 1.01s\tremaining: 753ms\n",
      "573:\tlearn: 4620641.3704735\ttotal: 1.01s\tremaining: 752ms\n",
      "574:\tlearn: 4619860.1355376\ttotal: 1.01s\tremaining: 751ms\n",
      "575:\tlearn: 4619834.1447221\ttotal: 1.02s\tremaining: 749ms\n",
      "576:\tlearn: 4619352.8687936\ttotal: 1.02s\tremaining: 747ms\n",
      "577:\tlearn: 4618709.7727211\ttotal: 1.02s\tremaining: 745ms\n",
      "578:\tlearn: 4617347.5447526\ttotal: 1.02s\tremaining: 743ms\n",
      "579:\tlearn: 4615610.8010550\ttotal: 1.02s\tremaining: 741ms\n",
      "580:\tlearn: 4615321.9568400\ttotal: 1.02s\tremaining: 740ms\n",
      "581:\tlearn: 4615273.7286240\ttotal: 1.03s\tremaining: 738ms\n",
      "582:\tlearn: 4614277.0497318\ttotal: 1.03s\tremaining: 736ms\n",
      "583:\tlearn: 4612863.1085385\ttotal: 1.03s\tremaining: 734ms\n",
      "584:\tlearn: 4610967.7290972\ttotal: 1.03s\tremaining: 733ms\n",
      "585:\tlearn: 4609886.9499036\ttotal: 1.03s\tremaining: 731ms\n",
      "586:\tlearn: 4608279.8682951\ttotal: 1.04s\tremaining: 729ms\n",
      "587:\tlearn: 4607554.5414577\ttotal: 1.04s\tremaining: 728ms\n",
      "588:\tlearn: 4605492.0922664\ttotal: 1.04s\tremaining: 726ms\n",
      "589:\tlearn: 4605036.5645126\ttotal: 1.04s\tremaining: 724ms\n",
      "590:\tlearn: 4604088.9091376\ttotal: 1.04s\tremaining: 722ms\n",
      "591:\tlearn: 4602946.9019196\ttotal: 1.04s\tremaining: 721ms\n",
      "592:\tlearn: 4601339.6936924\ttotal: 1.05s\tremaining: 719ms\n",
      "593:\tlearn: 4600361.9176441\ttotal: 1.05s\tremaining: 717ms\n",
      "594:\tlearn: 4599443.5389521\ttotal: 1.05s\tremaining: 715ms\n",
      "595:\tlearn: 4598575.7056475\ttotal: 1.05s\tremaining: 714ms\n",
      "596:\tlearn: 4598208.4954385\ttotal: 1.05s\tremaining: 712ms\n",
      "597:\tlearn: 4597442.2631083\ttotal: 1.06s\tremaining: 710ms\n",
      "598:\tlearn: 4595825.7188299\ttotal: 1.06s\tremaining: 708ms\n",
      "599:\tlearn: 4595173.7345552\ttotal: 1.06s\tremaining: 707ms\n",
      "600:\tlearn: 4594605.3875460\ttotal: 1.06s\tremaining: 705ms\n",
      "601:\tlearn: 4593643.0479105\ttotal: 1.06s\tremaining: 703ms\n",
      "602:\tlearn: 4592730.6022477\ttotal: 1.06s\tremaining: 701ms\n",
      "603:\tlearn: 4592241.4842417\ttotal: 1.07s\tremaining: 700ms\n",
      "604:\tlearn: 4591227.8670416\ttotal: 1.07s\tremaining: 698ms\n",
      "605:\tlearn: 4590102.9799595\ttotal: 1.07s\tremaining: 696ms\n",
      "606:\tlearn: 4589154.8222878\ttotal: 1.07s\tremaining: 694ms\n",
      "607:\tlearn: 4589112.3159372\ttotal: 1.07s\tremaining: 692ms\n",
      "608:\tlearn: 4588421.1526067\ttotal: 1.07s\tremaining: 691ms\n",
      "609:\tlearn: 4587227.5903889\ttotal: 1.08s\tremaining: 689ms\n",
      "610:\tlearn: 4585610.7255472\ttotal: 1.08s\tremaining: 687ms\n",
      "611:\tlearn: 4585569.5290297\ttotal: 1.08s\tremaining: 685ms\n",
      "612:\tlearn: 4584506.5858053\ttotal: 1.08s\tremaining: 683ms\n",
      "613:\tlearn: 4584156.9571923\ttotal: 1.08s\tremaining: 682ms\n",
      "614:\tlearn: 4583158.9312354\ttotal: 1.09s\tremaining: 680ms\n",
      "615:\tlearn: 4582062.5108598\ttotal: 1.09s\tremaining: 678ms\n",
      "616:\tlearn: 4581248.3855065\ttotal: 1.09s\tremaining: 676ms\n",
      "617:\tlearn: 4580783.2907458\ttotal: 1.09s\tremaining: 675ms\n",
      "618:\tlearn: 4580335.4629684\ttotal: 1.09s\tremaining: 673ms\n",
      "619:\tlearn: 4579291.0816239\ttotal: 1.09s\tremaining: 671ms\n",
      "620:\tlearn: 4577872.9629507\ttotal: 1.1s\tremaining: 669ms\n",
      "621:\tlearn: 4577473.4823166\ttotal: 1.1s\tremaining: 668ms\n",
      "622:\tlearn: 4576593.5076857\ttotal: 1.1s\tremaining: 666ms\n",
      "623:\tlearn: 4576188.0435282\ttotal: 1.1s\tremaining: 664ms\n",
      "624:\tlearn: 4576156.0876826\ttotal: 1.1s\tremaining: 662ms\n",
      "625:\tlearn: 4575570.1268481\ttotal: 1.1s\tremaining: 660ms\n",
      "626:\tlearn: 4573682.5498788\ttotal: 1.11s\tremaining: 659ms\n",
      "627:\tlearn: 4573230.7280960\ttotal: 1.11s\tremaining: 657ms\n",
      "628:\tlearn: 4572289.0500519\ttotal: 1.11s\tremaining: 655ms\n",
      "629:\tlearn: 4571480.3961426\ttotal: 1.11s\tremaining: 653ms\n",
      "630:\tlearn: 4570313.0354642\ttotal: 1.11s\tremaining: 651ms\n",
      "631:\tlearn: 4570296.7927130\ttotal: 1.11s\tremaining: 650ms\n",
      "632:\tlearn: 4569563.6591637\ttotal: 1.12s\tremaining: 648ms\n",
      "633:\tlearn: 4569112.4499493\ttotal: 1.12s\tremaining: 646ms\n",
      "634:\tlearn: 4567495.3128995\ttotal: 1.12s\tremaining: 644ms\n",
      "635:\tlearn: 4566759.7742106\ttotal: 1.12s\tremaining: 642ms\n",
      "636:\tlearn: 4566453.8814475\ttotal: 1.12s\tremaining: 641ms\n",
      "637:\tlearn: 4565790.1083791\ttotal: 1.13s\tremaining: 639ms\n",
      "638:\tlearn: 4565139.7235234\ttotal: 1.13s\tremaining: 637ms\n",
      "639:\tlearn: 4565119.3550764\ttotal: 1.13s\tremaining: 635ms\n",
      "640:\tlearn: 4564721.1844474\ttotal: 1.13s\tremaining: 633ms\n",
      "641:\tlearn: 4564302.6743391\ttotal: 1.13s\tremaining: 632ms\n",
      "642:\tlearn: 4563171.9658392\ttotal: 1.13s\tremaining: 630ms\n",
      "643:\tlearn: 4562175.4222867\ttotal: 1.14s\tremaining: 628ms\n",
      "644:\tlearn: 4560941.1155960\ttotal: 1.14s\tremaining: 626ms\n",
      "645:\tlearn: 4559628.9355652\ttotal: 1.14s\tremaining: 625ms\n",
      "646:\tlearn: 4559158.3760324\ttotal: 1.14s\tremaining: 623ms\n",
      "647:\tlearn: 4558733.7238381\ttotal: 1.14s\tremaining: 621ms\n",
      "648:\tlearn: 4558714.5887838\ttotal: 1.15s\tremaining: 619ms\n",
      "649:\tlearn: 4558675.2451400\ttotal: 1.15s\tremaining: 618ms\n",
      "650:\tlearn: 4558272.4598396\ttotal: 1.15s\tremaining: 616ms\n",
      "651:\tlearn: 4557087.1505732\ttotal: 1.15s\tremaining: 614ms\n",
      "652:\tlearn: 4555924.2644005\ttotal: 1.15s\tremaining: 612ms\n",
      "653:\tlearn: 4555315.8350670\ttotal: 1.15s\tremaining: 610ms\n",
      "654:\tlearn: 4554590.8753887\ttotal: 1.16s\tremaining: 609ms\n",
      "655:\tlearn: 4553251.0836718\ttotal: 1.16s\tremaining: 607ms\n",
      "656:\tlearn: 4551624.6047636\ttotal: 1.16s\tremaining: 605ms\n",
      "657:\tlearn: 4551142.1818384\ttotal: 1.16s\tremaining: 604ms\n",
      "658:\tlearn: 4550754.7314577\ttotal: 1.16s\tremaining: 602ms\n",
      "659:\tlearn: 4550736.6816030\ttotal: 1.16s\tremaining: 600ms\n",
      "660:\tlearn: 4549932.5090337\ttotal: 1.17s\tremaining: 598ms\n",
      "661:\tlearn: 4549353.9450369\ttotal: 1.17s\tremaining: 597ms\n",
      "662:\tlearn: 4548256.5515043\ttotal: 1.17s\tremaining: 595ms\n",
      "663:\tlearn: 4547648.9348911\ttotal: 1.17s\tremaining: 593ms\n",
      "664:\tlearn: 4546530.9671418\ttotal: 1.17s\tremaining: 591ms\n",
      "665:\tlearn: 4545159.4769929\ttotal: 1.18s\tremaining: 590ms\n",
      "666:\tlearn: 4544054.2738748\ttotal: 1.18s\tremaining: 588ms\n",
      "667:\tlearn: 4543749.9404526\ttotal: 1.18s\tremaining: 586ms\n",
      "668:\tlearn: 4542711.5959528\ttotal: 1.18s\tremaining: 584ms\n",
      "669:\tlearn: 4541663.9475931\ttotal: 1.18s\tremaining: 583ms\n",
      "670:\tlearn: 4540637.5141743\ttotal: 1.18s\tremaining: 581ms\n",
      "671:\tlearn: 4539770.4480779\ttotal: 1.19s\tremaining: 579ms\n",
      "672:\tlearn: 4539340.0486312\ttotal: 1.19s\tremaining: 577ms\n",
      "673:\tlearn: 4538319.5459436\ttotal: 1.19s\tremaining: 576ms\n",
      "674:\tlearn: 4538302.1785869\ttotal: 1.19s\tremaining: 574ms\n",
      "675:\tlearn: 4537370.0887445\ttotal: 1.19s\tremaining: 572ms\n",
      "676:\tlearn: 4536754.8270039\ttotal: 1.2s\tremaining: 570ms\n",
      "677:\tlearn: 4535134.5809037\ttotal: 1.2s\tremaining: 568ms\n",
      "678:\tlearn: 4533789.9322669\ttotal: 1.2s\tremaining: 567ms\n",
      "679:\tlearn: 4533440.4732711\ttotal: 1.2s\tremaining: 565ms\n",
      "680:\tlearn: 4532517.5535656\ttotal: 1.2s\tremaining: 563ms\n",
      "681:\tlearn: 4531880.9646504\ttotal: 1.2s\tremaining: 561ms\n",
      "682:\tlearn: 4531425.7201004\ttotal: 1.21s\tremaining: 559ms\n",
      "683:\tlearn: 4531374.1100754\ttotal: 1.21s\tremaining: 558ms\n",
      "684:\tlearn: 4530843.6301300\ttotal: 1.21s\tremaining: 556ms\n",
      "685:\tlearn: 4530826.7474562\ttotal: 1.21s\tremaining: 554ms\n",
      "686:\tlearn: 4530054.3703470\ttotal: 1.21s\tremaining: 552ms\n",
      "687:\tlearn: 4528658.1057774\ttotal: 1.21s\tremaining: 550ms\n",
      "688:\tlearn: 4526789.1167736\ttotal: 1.22s\tremaining: 549ms\n",
      "689:\tlearn: 4526772.6548551\ttotal: 1.22s\tremaining: 547ms\n",
      "690:\tlearn: 4525893.6095022\ttotal: 1.22s\tremaining: 545ms\n",
      "691:\tlearn: 4524260.9870967\ttotal: 1.22s\tremaining: 543ms\n",
      "692:\tlearn: 4523592.3114475\ttotal: 1.22s\tremaining: 541ms\n",
      "693:\tlearn: 4523067.0431019\ttotal: 1.22s\tremaining: 540ms\n",
      "694:\tlearn: 4523050.6905542\ttotal: 1.23s\tremaining: 538ms\n",
      "695:\tlearn: 4522158.7495876\ttotal: 1.23s\tremaining: 536ms\n",
      "696:\tlearn: 4521118.7449850\ttotal: 1.23s\tremaining: 534ms\n",
      "697:\tlearn: 4520586.0120968\ttotal: 1.23s\tremaining: 533ms\n",
      "698:\tlearn: 4519266.9997723\ttotal: 1.23s\tremaining: 531ms\n",
      "699:\tlearn: 4518674.7288153\ttotal: 1.23s\tremaining: 529ms\n",
      "700:\tlearn: 4518659.0663175\ttotal: 1.24s\tremaining: 527ms\n",
      "701:\tlearn: 4518176.1684694\ttotal: 1.24s\tremaining: 525ms\n",
      "702:\tlearn: 4517490.1646590\ttotal: 1.24s\tremaining: 524ms\n",
      "703:\tlearn: 4516443.6617890\ttotal: 1.24s\tremaining: 522ms\n",
      "704:\tlearn: 4515999.6642970\ttotal: 1.24s\tremaining: 520ms\n",
      "705:\tlearn: 4515146.5704641\ttotal: 1.24s\tremaining: 518ms\n",
      "706:\tlearn: 4514316.1612071\ttotal: 1.25s\tremaining: 516ms\n",
      "707:\tlearn: 4513610.5156905\ttotal: 1.25s\tremaining: 515ms\n",
      "708:\tlearn: 4512821.3173699\ttotal: 1.25s\tremaining: 513ms\n",
      "709:\tlearn: 4512806.6720132\ttotal: 1.25s\tremaining: 511ms\n",
      "710:\tlearn: 4511398.0485452\ttotal: 1.25s\tremaining: 509ms\n",
      "711:\tlearn: 4510315.3150649\ttotal: 1.25s\tremaining: 508ms\n",
      "712:\tlearn: 4509653.4276878\ttotal: 1.26s\tremaining: 506ms\n",
      "713:\tlearn: 4508897.7309061\ttotal: 1.26s\tremaining: 504ms\n",
      "714:\tlearn: 4508340.5423832\ttotal: 1.26s\tremaining: 502ms\n",
      "715:\tlearn: 4507416.6205080\ttotal: 1.26s\tremaining: 500ms\n",
      "716:\tlearn: 4507139.9762276\ttotal: 1.26s\tremaining: 499ms\n",
      "717:\tlearn: 4507124.1922559\ttotal: 1.26s\tremaining: 497ms\n",
      "718:\tlearn: 4507094.0597284\ttotal: 1.27s\tremaining: 495ms\n",
      "719:\tlearn: 4506826.3241711\ttotal: 1.27s\tremaining: 493ms\n",
      "720:\tlearn: 4506812.4046458\ttotal: 1.27s\tremaining: 491ms\n",
      "721:\tlearn: 4506037.6001207\ttotal: 1.27s\tremaining: 490ms\n",
      "722:\tlearn: 4505684.1705680\ttotal: 1.27s\tremaining: 488ms\n",
      "723:\tlearn: 4504372.2980607\ttotal: 1.27s\tremaining: 486ms\n",
      "724:\tlearn: 4503308.8116236\ttotal: 1.28s\tremaining: 484ms\n",
      "725:\tlearn: 4502489.4132143\ttotal: 1.28s\tremaining: 483ms\n",
      "726:\tlearn: 4501222.5455316\ttotal: 1.28s\tremaining: 481ms\n",
      "727:\tlearn: 4500233.0259678\ttotal: 1.28s\tremaining: 479ms\n",
      "728:\tlearn: 4499854.5436946\ttotal: 1.28s\tremaining: 477ms\n",
      "729:\tlearn: 4499380.4067545\ttotal: 1.29s\tremaining: 476ms\n",
      "730:\tlearn: 4498516.9037622\ttotal: 1.29s\tremaining: 474ms\n",
      "731:\tlearn: 4497776.6069596\ttotal: 1.29s\tremaining: 472ms\n",
      "732:\tlearn: 4497101.7458107\ttotal: 1.29s\tremaining: 470ms\n",
      "733:\tlearn: 4496696.1410809\ttotal: 1.29s\tremaining: 469ms\n",
      "734:\tlearn: 4495969.5883407\ttotal: 1.29s\tremaining: 467ms\n",
      "735:\tlearn: 4493572.1595762\ttotal: 1.3s\tremaining: 465ms\n",
      "736:\tlearn: 4492024.6166422\ttotal: 1.3s\tremaining: 463ms\n",
      "737:\tlearn: 4490408.3002451\ttotal: 1.3s\tremaining: 461ms\n",
      "738:\tlearn: 4489323.6380897\ttotal: 1.3s\tremaining: 460ms\n",
      "739:\tlearn: 4487830.0317771\ttotal: 1.3s\tremaining: 458ms\n",
      "740:\tlearn: 4487815.9306340\ttotal: 1.3s\tremaining: 456ms\n",
      "741:\tlearn: 4487502.9958751\ttotal: 1.31s\tremaining: 454ms\n",
      "742:\tlearn: 4487491.4317338\ttotal: 1.31s\tremaining: 452ms\n",
      "743:\tlearn: 4486237.7993408\ttotal: 1.31s\tremaining: 451ms\n",
      "744:\tlearn: 4485377.2504631\ttotal: 1.31s\tremaining: 449ms\n",
      "745:\tlearn: 4485364.2422387\ttotal: 1.31s\tremaining: 447ms\n",
      "746:\tlearn: 4485351.6564183\ttotal: 1.31s\tremaining: 445ms\n",
      "747:\tlearn: 4484536.7407212\ttotal: 1.32s\tremaining: 444ms\n",
      "748:\tlearn: 4483492.0673361\ttotal: 1.32s\tremaining: 442ms\n",
      "749:\tlearn: 4483214.0823863\ttotal: 1.32s\tremaining: 440ms\n"
     ]
    },
    {
     "name": "stdout",
     "output_type": "stream",
     "text": [
      "750:\tlearn: 4481813.4929711\ttotal: 1.32s\tremaining: 438ms\n",
      "751:\tlearn: 4480948.9935849\ttotal: 1.32s\tremaining: 437ms\n",
      "752:\tlearn: 4479966.9157879\ttotal: 1.32s\tremaining: 435ms\n",
      "753:\tlearn: 4478817.4113874\ttotal: 1.33s\tremaining: 433ms\n",
      "754:\tlearn: 4478050.9237799\ttotal: 1.33s\tremaining: 431ms\n",
      "755:\tlearn: 4477828.9932911\ttotal: 1.33s\tremaining: 430ms\n",
      "756:\tlearn: 4476691.8834802\ttotal: 1.33s\tremaining: 428ms\n",
      "757:\tlearn: 4475566.1088583\ttotal: 1.33s\tremaining: 426ms\n",
      "758:\tlearn: 4475094.6192265\ttotal: 1.34s\tremaining: 424ms\n",
      "759:\tlearn: 4473855.3493537\ttotal: 1.34s\tremaining: 423ms\n",
      "760:\tlearn: 4472517.3245113\ttotal: 1.34s\tremaining: 421ms\n",
      "761:\tlearn: 4472233.5365948\ttotal: 1.34s\tremaining: 419ms\n",
      "762:\tlearn: 4472222.0170196\ttotal: 1.34s\tremaining: 417ms\n",
      "763:\tlearn: 4470472.2652731\ttotal: 1.34s\tremaining: 416ms\n",
      "764:\tlearn: 4469596.4113166\ttotal: 1.35s\tremaining: 414ms\n",
      "765:\tlearn: 4468338.9980439\ttotal: 1.35s\tremaining: 412ms\n",
      "766:\tlearn: 4467995.1666777\ttotal: 1.35s\tremaining: 410ms\n",
      "767:\tlearn: 4467127.1341233\ttotal: 1.35s\tremaining: 409ms\n",
      "768:\tlearn: 4466801.0602444\ttotal: 1.35s\tremaining: 407ms\n",
      "769:\tlearn: 4465381.2556830\ttotal: 1.36s\tremaining: 405ms\n",
      "770:\tlearn: 4465369.4485886\ttotal: 1.36s\tremaining: 403ms\n",
      "771:\tlearn: 4463995.9827555\ttotal: 1.36s\tremaining: 402ms\n",
      "772:\tlearn: 4462859.5095394\ttotal: 1.36s\tremaining: 400ms\n",
      "773:\tlearn: 4462198.6826497\ttotal: 1.36s\tremaining: 398ms\n",
      "774:\tlearn: 4462188.3138938\ttotal: 1.36s\tremaining: 396ms\n",
      "775:\tlearn: 4461505.3506028\ttotal: 1.37s\tremaining: 394ms\n",
      "776:\tlearn: 4460247.3144656\ttotal: 1.37s\tremaining: 393ms\n",
      "777:\tlearn: 4459540.9848657\ttotal: 1.37s\tremaining: 391ms\n",
      "778:\tlearn: 4458330.2643994\ttotal: 1.37s\tremaining: 389ms\n",
      "779:\tlearn: 4457686.7723002\ttotal: 1.37s\tremaining: 387ms\n",
      "780:\tlearn: 4456265.9562408\ttotal: 1.38s\tremaining: 386ms\n",
      "781:\tlearn: 4455710.8046941\ttotal: 1.38s\tremaining: 384ms\n",
      "782:\tlearn: 4455130.6131835\ttotal: 1.38s\tremaining: 382ms\n",
      "783:\tlearn: 4454248.5048148\ttotal: 1.38s\tremaining: 380ms\n",
      "784:\tlearn: 4453866.1778935\ttotal: 1.38s\tremaining: 379ms\n",
      "785:\tlearn: 4453313.7765700\ttotal: 1.38s\tremaining: 377ms\n",
      "786:\tlearn: 4452990.8491066\ttotal: 1.39s\tremaining: 375ms\n",
      "787:\tlearn: 4452460.6251585\ttotal: 1.39s\tremaining: 373ms\n",
      "788:\tlearn: 4451297.4766526\ttotal: 1.39s\tremaining: 371ms\n",
      "789:\tlearn: 4451064.4974818\ttotal: 1.39s\tremaining: 370ms\n",
      "790:\tlearn: 4450752.6512730\ttotal: 1.39s\tremaining: 368ms\n",
      "791:\tlearn: 4449892.0354486\ttotal: 1.39s\tremaining: 366ms\n",
      "792:\tlearn: 4448807.0606020\ttotal: 1.4s\tremaining: 364ms\n",
      "793:\tlearn: 4448786.2620047\ttotal: 1.4s\tremaining: 363ms\n",
      "794:\tlearn: 4447810.3657141\ttotal: 1.4s\tremaining: 361ms\n",
      "795:\tlearn: 4447252.8813517\ttotal: 1.4s\tremaining: 359ms\n",
      "796:\tlearn: 4446426.8181993\ttotal: 1.4s\tremaining: 357ms\n",
      "797:\tlearn: 4445731.1897301\ttotal: 1.4s\tremaining: 356ms\n",
      "798:\tlearn: 4445162.1048340\ttotal: 1.41s\tremaining: 354ms\n",
      "799:\tlearn: 4444373.9420214\ttotal: 1.41s\tremaining: 352ms\n",
      "800:\tlearn: 4443593.5023367\ttotal: 1.41s\tremaining: 350ms\n",
      "801:\tlearn: 4442649.8985539\ttotal: 1.41s\tremaining: 348ms\n",
      "802:\tlearn: 4441616.4933312\ttotal: 1.41s\tremaining: 347ms\n",
      "803:\tlearn: 4441182.8911495\ttotal: 1.42s\tremaining: 345ms\n",
      "804:\tlearn: 4440889.1238894\ttotal: 1.42s\tremaining: 343ms\n",
      "805:\tlearn: 4440375.5998343\ttotal: 1.42s\tremaining: 341ms\n",
      "806:\tlearn: 4439594.9956537\ttotal: 1.42s\tremaining: 340ms\n",
      "807:\tlearn: 4439584.1097263\ttotal: 1.42s\tremaining: 338ms\n",
      "808:\tlearn: 4438696.0217965\ttotal: 1.42s\tremaining: 336ms\n",
      "809:\tlearn: 4438260.1460156\ttotal: 1.43s\tremaining: 334ms\n",
      "810:\tlearn: 4437456.2654862\ttotal: 1.43s\tremaining: 333ms\n",
      "811:\tlearn: 4436817.9110172\ttotal: 1.43s\tremaining: 331ms\n",
      "812:\tlearn: 4435428.6955085\ttotal: 1.43s\tremaining: 329ms\n",
      "813:\tlearn: 4434100.5424763\ttotal: 1.43s\tremaining: 327ms\n",
      "814:\tlearn: 4433365.0285782\ttotal: 1.43s\tremaining: 326ms\n",
      "815:\tlearn: 4432176.7693281\ttotal: 1.44s\tremaining: 324ms\n",
      "816:\tlearn: 4431771.5999060\ttotal: 1.44s\tremaining: 322ms\n",
      "817:\tlearn: 4430668.6649835\ttotal: 1.44s\tremaining: 320ms\n",
      "818:\tlearn: 4430453.0785738\ttotal: 1.44s\tremaining: 318ms\n",
      "819:\tlearn: 4429689.1832442\ttotal: 1.44s\tremaining: 317ms\n",
      "820:\tlearn: 4428801.8871998\ttotal: 1.44s\tremaining: 315ms\n",
      "821:\tlearn: 4428405.3306705\ttotal: 1.45s\tremaining: 313ms\n",
      "822:\tlearn: 4427642.2228838\ttotal: 1.45s\tremaining: 311ms\n",
      "823:\tlearn: 4426699.4890917\ttotal: 1.45s\tremaining: 310ms\n",
      "824:\tlearn: 4425834.8841439\ttotal: 1.45s\tremaining: 308ms\n",
      "825:\tlearn: 4424700.1923527\ttotal: 1.45s\tremaining: 306ms\n",
      "826:\tlearn: 4424490.0472137\ttotal: 1.46s\tremaining: 304ms\n",
      "827:\tlearn: 4424087.1069385\ttotal: 1.46s\tremaining: 303ms\n",
      "828:\tlearn: 4423144.5594778\ttotal: 1.46s\tremaining: 301ms\n",
      "829:\tlearn: 4422409.4018356\ttotal: 1.46s\tremaining: 299ms\n",
      "830:\tlearn: 4421743.5910302\ttotal: 1.46s\tremaining: 297ms\n",
      "831:\tlearn: 4420632.5729992\ttotal: 1.46s\tremaining: 296ms\n",
      "832:\tlearn: 4420395.8747111\ttotal: 1.47s\tremaining: 294ms\n",
      "833:\tlearn: 4420035.3776009\ttotal: 1.47s\tremaining: 292ms\n",
      "834:\tlearn: 4419047.1245398\ttotal: 1.47s\tremaining: 290ms\n",
      "835:\tlearn: 4418240.0353729\ttotal: 1.47s\tremaining: 289ms\n",
      "836:\tlearn: 4417657.7486512\ttotal: 1.47s\tremaining: 287ms\n",
      "837:\tlearn: 4417106.9385035\ttotal: 1.47s\tremaining: 285ms\n",
      "838:\tlearn: 4416327.0574550\ttotal: 1.48s\tremaining: 283ms\n",
      "839:\tlearn: 4415344.4981705\ttotal: 1.48s\tremaining: 282ms\n",
      "840:\tlearn: 4414238.9607791\ttotal: 1.48s\tremaining: 280ms\n",
      "841:\tlearn: 4413554.0301911\ttotal: 1.48s\tremaining: 278ms\n",
      "842:\tlearn: 4412432.0296239\ttotal: 1.48s\tremaining: 276ms\n",
      "843:\tlearn: 4411398.3717517\ttotal: 1.49s\tremaining: 274ms\n",
      "844:\tlearn: 4410189.1803635\ttotal: 1.49s\tremaining: 273ms\n",
      "845:\tlearn: 4409547.4847903\ttotal: 1.49s\tremaining: 271ms\n",
      "846:\tlearn: 4409127.3248563\ttotal: 1.49s\tremaining: 269ms\n",
      "847:\tlearn: 4408874.8701848\ttotal: 1.49s\tremaining: 268ms\n",
      "848:\tlearn: 4408302.8668766\ttotal: 1.49s\tremaining: 266ms\n",
      "849:\tlearn: 4407567.5865816\ttotal: 1.5s\tremaining: 264ms\n",
      "850:\tlearn: 4406953.7709164\ttotal: 1.5s\tremaining: 262ms\n",
      "851:\tlearn: 4406880.8534708\ttotal: 1.5s\tremaining: 261ms\n",
      "852:\tlearn: 4406096.6840920\ttotal: 1.5s\tremaining: 259ms\n",
      "853:\tlearn: 4404477.0454525\ttotal: 1.5s\tremaining: 257ms\n",
      "854:\tlearn: 4403816.9603859\ttotal: 1.51s\tremaining: 255ms\n",
      "855:\tlearn: 4403510.4682242\ttotal: 1.51s\tremaining: 254ms\n",
      "856:\tlearn: 4403141.4549576\ttotal: 1.51s\tremaining: 252ms\n",
      "857:\tlearn: 4402281.8915624\ttotal: 1.51s\tremaining: 250ms\n",
      "858:\tlearn: 4401886.6703741\ttotal: 1.51s\tremaining: 248ms\n",
      "859:\tlearn: 4401324.2462066\ttotal: 1.51s\tremaining: 247ms\n",
      "860:\tlearn: 4400601.1376715\ttotal: 1.52s\tremaining: 245ms\n",
      "861:\tlearn: 4400592.3523805\ttotal: 1.52s\tremaining: 243ms\n",
      "862:\tlearn: 4399655.6027874\ttotal: 1.52s\tremaining: 241ms\n",
      "863:\tlearn: 4398649.4568506\ttotal: 1.52s\tremaining: 240ms\n",
      "864:\tlearn: 4398131.3565179\ttotal: 1.52s\tremaining: 238ms\n",
      "865:\tlearn: 4397116.7846218\ttotal: 1.52s\tremaining: 236ms\n",
      "866:\tlearn: 4396526.2803439\ttotal: 1.53s\tremaining: 234ms\n",
      "867:\tlearn: 4396262.7791227\ttotal: 1.53s\tremaining: 232ms\n",
      "868:\tlearn: 4395484.0282582\ttotal: 1.53s\tremaining: 231ms\n",
      "869:\tlearn: 4394421.7231921\ttotal: 1.53s\tremaining: 229ms\n",
      "870:\tlearn: 4393798.0811049\ttotal: 1.53s\tremaining: 227ms\n",
      "871:\tlearn: 4393364.0370523\ttotal: 1.53s\tremaining: 225ms\n",
      "872:\tlearn: 4392710.0208444\ttotal: 1.54s\tremaining: 224ms\n",
      "873:\tlearn: 4392700.9271767\ttotal: 1.54s\tremaining: 222ms\n",
      "874:\tlearn: 4392048.3042443\ttotal: 1.54s\tremaining: 220ms\n",
      "875:\tlearn: 4391937.5912036\ttotal: 1.54s\tremaining: 218ms\n",
      "876:\tlearn: 4391236.6353037\ttotal: 1.54s\tremaining: 217ms\n",
      "877:\tlearn: 4390695.5560080\ttotal: 1.55s\tremaining: 215ms\n",
      "878:\tlearn: 4390678.0752964\ttotal: 1.55s\tremaining: 213ms\n",
      "879:\tlearn: 4389504.9353631\ttotal: 1.55s\tremaining: 211ms\n",
      "880:\tlearn: 4389188.8683581\ttotal: 1.55s\tremaining: 210ms\n",
      "881:\tlearn: 4389171.8640360\ttotal: 1.55s\tremaining: 208ms\n",
      "882:\tlearn: 4388740.0670982\ttotal: 1.55s\tremaining: 206ms\n",
      "883:\tlearn: 4387785.4243255\ttotal: 1.56s\tremaining: 204ms\n",
      "884:\tlearn: 4386761.0462491\ttotal: 1.56s\tremaining: 203ms\n",
      "885:\tlearn: 4386001.5886214\ttotal: 1.56s\tremaining: 201ms\n",
      "886:\tlearn: 4385243.0803842\ttotal: 1.56s\tremaining: 199ms\n",
      "887:\tlearn: 4384363.5179594\ttotal: 1.56s\tremaining: 197ms\n",
      "888:\tlearn: 4383385.7184767\ttotal: 1.57s\tremaining: 196ms\n",
      "889:\tlearn: 4382691.4034348\ttotal: 1.57s\tremaining: 194ms\n",
      "890:\tlearn: 4382252.7709456\ttotal: 1.57s\tremaining: 192ms\n",
      "891:\tlearn: 4381186.0305050\ttotal: 1.57s\tremaining: 190ms\n",
      "892:\tlearn: 4380445.5850935\ttotal: 1.57s\tremaining: 189ms\n",
      "893:\tlearn: 4379663.9147867\ttotal: 1.57s\tremaining: 187ms\n",
      "894:\tlearn: 4379178.2426205\ttotal: 1.58s\tremaining: 185ms\n",
      "895:\tlearn: 4378198.5716000\ttotal: 1.58s\tremaining: 183ms\n",
      "896:\tlearn: 4377744.4676483\ttotal: 1.58s\tremaining: 181ms\n",
      "897:\tlearn: 4377411.9243961\ttotal: 1.58s\tremaining: 180ms\n",
      "898:\tlearn: 4376570.1932171\ttotal: 1.58s\tremaining: 178ms\n",
      "899:\tlearn: 4376561.6379528\ttotal: 1.58s\tremaining: 176ms\n",
      "900:\tlearn: 4376211.2555641\ttotal: 1.59s\tremaining: 174ms\n",
      "901:\tlearn: 4375783.5120692\ttotal: 1.59s\tremaining: 173ms\n",
      "902:\tlearn: 4374730.2554677\ttotal: 1.59s\tremaining: 171ms\n",
      "903:\tlearn: 4374721.8651132\ttotal: 1.59s\tremaining: 169ms\n",
      "904:\tlearn: 4373996.7612325\ttotal: 1.59s\tremaining: 167ms\n",
      "905:\tlearn: 4373822.4476404\ttotal: 1.6s\tremaining: 166ms\n",
      "906:\tlearn: 4372974.5275193\ttotal: 1.6s\tremaining: 164ms\n",
      "907:\tlearn: 4372406.0414627\ttotal: 1.6s\tremaining: 162ms\n",
      "908:\tlearn: 4371966.9377260\ttotal: 1.6s\tremaining: 160ms\n",
      "909:\tlearn: 4370464.4418717\ttotal: 1.6s\tremaining: 159ms\n",
      "910:\tlearn: 4370171.1211807\ttotal: 1.6s\tremaining: 157ms\n",
      "911:\tlearn: 4370164.2116249\ttotal: 1.61s\tremaining: 155ms\n",
      "912:\tlearn: 4369529.0334636\ttotal: 1.61s\tremaining: 153ms\n",
      "913:\tlearn: 4368835.6122257\ttotal: 1.61s\tremaining: 152ms\n",
      "914:\tlearn: 4367604.0474894\ttotal: 1.61s\tremaining: 150ms\n",
      "915:\tlearn: 4367596.9758849\ttotal: 1.61s\tremaining: 148ms\n",
      "916:\tlearn: 4366358.1383052\ttotal: 1.61s\tremaining: 146ms\n",
      "917:\tlearn: 4365502.5659772\ttotal: 1.62s\tremaining: 144ms\n",
      "918:\tlearn: 4365187.9322816\ttotal: 1.62s\tremaining: 143ms\n",
      "919:\tlearn: 4364359.7026600\ttotal: 1.62s\tremaining: 141ms\n",
      "920:\tlearn: 4364071.2205802\ttotal: 1.62s\tremaining: 139ms\n",
      "921:\tlearn: 4363436.2128035\ttotal: 1.62s\tremaining: 137ms\n",
      "922:\tlearn: 4362407.9551755\ttotal: 1.63s\tremaining: 136ms\n",
      "923:\tlearn: 4362150.4441730\ttotal: 1.63s\tremaining: 134ms\n",
      "924:\tlearn: 4361729.1285771\ttotal: 1.63s\tremaining: 132ms\n",
      "925:\tlearn: 4361205.6002280\ttotal: 1.63s\tremaining: 130ms\n",
      "926:\tlearn: 4360469.4099204\ttotal: 1.63s\tremaining: 129ms\n",
      "927:\tlearn: 4358966.4173470\ttotal: 1.63s\tremaining: 127ms\n",
      "928:\tlearn: 4357828.0600699\ttotal: 1.64s\tremaining: 125ms\n",
      "929:\tlearn: 4356908.8604947\ttotal: 1.64s\tremaining: 123ms\n",
      "930:\tlearn: 4356900.9533352\ttotal: 1.64s\tremaining: 122ms\n",
      "931:\tlearn: 4356395.2961900\ttotal: 1.64s\tremaining: 120ms\n",
      "932:\tlearn: 4356387.5869229\ttotal: 1.64s\tremaining: 118ms\n",
      "933:\tlearn: 4355627.8718812\ttotal: 1.65s\tremaining: 116ms\n",
      "934:\tlearn: 4354983.4802407\ttotal: 1.65s\tremaining: 114ms\n",
      "935:\tlearn: 4353769.6159398\ttotal: 1.65s\tremaining: 113ms\n",
      "936:\tlearn: 4353446.0315794\ttotal: 1.65s\tremaining: 111ms\n",
      "937:\tlearn: 4353025.8096398\ttotal: 1.65s\tremaining: 109ms\n"
     ]
    },
    {
     "name": "stdout",
     "output_type": "stream",
     "text": [
      "938:\tlearn: 4351619.0450812\ttotal: 1.65s\tremaining: 107ms\n",
      "939:\tlearn: 4350631.9464676\ttotal: 1.66s\tremaining: 106ms\n",
      "940:\tlearn: 4350063.3833816\ttotal: 1.66s\tremaining: 104ms\n",
      "941:\tlearn: 4350054.7825496\ttotal: 1.66s\tremaining: 102ms\n",
      "942:\tlearn: 4349625.4449415\ttotal: 1.66s\tremaining: 100ms\n",
      "943:\tlearn: 4349295.3738921\ttotal: 1.66s\tremaining: 98.6ms\n",
      "944:\tlearn: 4348993.1304169\ttotal: 1.66s\tremaining: 96.9ms\n",
      "945:\tlearn: 4348229.2377383\ttotal: 1.67s\tremaining: 95.1ms\n",
      "946:\tlearn: 4347011.7247410\ttotal: 1.67s\tremaining: 93.4ms\n",
      "947:\tlearn: 4346515.7274869\ttotal: 1.67s\tremaining: 91.6ms\n",
      "948:\tlearn: 4345900.4044051\ttotal: 1.67s\tremaining: 89.8ms\n",
      "949:\tlearn: 4345390.5494288\ttotal: 1.67s\tremaining: 88.1ms\n",
      "950:\tlearn: 4344911.9257371\ttotal: 1.68s\tremaining: 86.3ms\n",
      "951:\tlearn: 4344036.7080542\ttotal: 1.68s\tremaining: 84.6ms\n",
      "952:\tlearn: 4343582.1389409\ttotal: 1.68s\tremaining: 82.8ms\n",
      "953:\tlearn: 4342767.0029621\ttotal: 1.68s\tremaining: 81ms\n",
      "954:\tlearn: 4342305.9592182\ttotal: 1.68s\tremaining: 79.3ms\n",
      "955:\tlearn: 4341907.9559007\ttotal: 1.68s\tremaining: 77.5ms\n",
      "956:\tlearn: 4341224.2177016\ttotal: 1.69s\tremaining: 75.7ms\n",
      "957:\tlearn: 4340674.5932349\ttotal: 1.69s\tremaining: 74ms\n",
      "958:\tlearn: 4340666.9427080\ttotal: 1.69s\tremaining: 72.2ms\n",
      "959:\tlearn: 4340215.8694053\ttotal: 1.69s\tremaining: 70.4ms\n",
      "960:\tlearn: 4340207.4707469\ttotal: 1.69s\tremaining: 68.7ms\n",
      "961:\tlearn: 4338909.1955059\ttotal: 1.69s\tremaining: 66.9ms\n",
      "962:\tlearn: 4337736.5465131\ttotal: 1.7s\tremaining: 65.1ms\n",
      "963:\tlearn: 4336604.3160235\ttotal: 1.7s\tremaining: 63.4ms\n",
      "964:\tlearn: 4335682.0056239\ttotal: 1.7s\tremaining: 61.6ms\n",
      "965:\tlearn: 4335154.1218108\ttotal: 1.7s\tremaining: 59.9ms\n",
      "966:\tlearn: 4334813.2725330\ttotal: 1.7s\tremaining: 58.1ms\n",
      "967:\tlearn: 4334272.6021038\ttotal: 1.7s\tremaining: 56.4ms\n",
      "968:\tlearn: 4333525.8804389\ttotal: 1.71s\tremaining: 54.6ms\n",
      "969:\tlearn: 4333333.4535913\ttotal: 1.71s\tremaining: 52.8ms\n",
      "970:\tlearn: 4332884.2586327\ttotal: 1.71s\tremaining: 51.1ms\n",
      "971:\tlearn: 4332341.4811153\ttotal: 1.71s\tremaining: 49.3ms\n",
      "972:\tlearn: 4331343.1709100\ttotal: 1.71s\tremaining: 47.5ms\n",
      "973:\tlearn: 4330876.9939230\ttotal: 1.72s\tremaining: 45.8ms\n",
      "974:\tlearn: 4330473.6601724\ttotal: 1.72s\tremaining: 44ms\n",
      "975:\tlearn: 4330295.9577090\ttotal: 1.72s\tremaining: 42.3ms\n",
      "976:\tlearn: 4329733.2699118\ttotal: 1.72s\tremaining: 40.5ms\n",
      "977:\tlearn: 4328635.2167786\ttotal: 1.72s\tremaining: 38.7ms\n",
      "978:\tlearn: 4328011.7304223\ttotal: 1.72s\tremaining: 37ms\n",
      "979:\tlearn: 4328004.3426205\ttotal: 1.73s\tremaining: 35.2ms\n",
      "980:\tlearn: 4327997.4843682\ttotal: 1.73s\tremaining: 33.5ms\n",
      "981:\tlearn: 4327320.8452884\ttotal: 1.73s\tremaining: 31.7ms\n",
      "982:\tlearn: 4326850.0070422\ttotal: 1.73s\tremaining: 29.9ms\n",
      "983:\tlearn: 4326843.7815954\ttotal: 1.73s\tremaining: 28.2ms\n",
      "984:\tlearn: 4326577.7285865\ttotal: 1.73s\tremaining: 26.4ms\n",
      "985:\tlearn: 4324922.4182827\ttotal: 1.74s\tremaining: 24.6ms\n",
      "986:\tlearn: 4324702.8551771\ttotal: 1.74s\tremaining: 22.9ms\n",
      "987:\tlearn: 4324209.6411483\ttotal: 1.74s\tremaining: 21.1ms\n",
      "988:\tlearn: 4324140.6046879\ttotal: 1.74s\tremaining: 19.4ms\n",
      "989:\tlearn: 4323327.2377596\ttotal: 1.74s\tremaining: 17.6ms\n",
      "990:\tlearn: 4322915.8465027\ttotal: 1.74s\tremaining: 15.8ms\n",
      "991:\tlearn: 4322154.2309226\ttotal: 1.75s\tremaining: 14.1ms\n",
      "992:\tlearn: 4321506.3709126\ttotal: 1.75s\tremaining: 12.3ms\n",
      "993:\tlearn: 4320523.6086993\ttotal: 1.75s\tremaining: 10.6ms\n",
      "994:\tlearn: 4319298.4286660\ttotal: 1.75s\tremaining: 8.8ms\n",
      "995:\tlearn: 4319292.0165835\ttotal: 1.75s\tremaining: 7.04ms\n",
      "996:\tlearn: 4318334.0093018\ttotal: 1.75s\tremaining: 5.28ms\n",
      "997:\tlearn: 4317886.1600066\ttotal: 1.76s\tremaining: 3.52ms\n",
      "998:\tlearn: 4317489.0810667\ttotal: 1.76s\tremaining: 1.76ms\n",
      "999:\tlearn: 4316821.8632954\ttotal: 1.76s\tremaining: 0us\n"
     ]
    }
   ],
   "source": [
    "catb_model=CatBoostRegressor().fit(X_train,y_train)"
   ]
  },
  {
   "cell_type": "code",
   "execution_count": 231,
   "metadata": {},
   "outputs": [],
   "source": [
    "y_pred=catb_model.predict(X_test)"
   ]
  },
  {
   "cell_type": "code",
   "execution_count": 232,
   "metadata": {},
   "outputs": [
    {
     "data": {
      "text/plain": [
       "6800687.740896871"
      ]
     },
     "execution_count": 232,
     "metadata": {},
     "output_type": "execute_result"
    }
   ],
   "source": [
    "np.sqrt(mean_squared_error(y_test,y_pred))"
   ]
  },
  {
   "cell_type": "code",
   "execution_count": 233,
   "metadata": {},
   "outputs": [],
   "source": [
    "catb_params={\"iterations\":[200,500,1000],\n",
    "            \"learning_rate\":[0.01,0.1],\n",
    "            \"depth\":[3,6,8]}"
   ]
  },
  {
   "cell_type": "code",
   "execution_count": 234,
   "metadata": {},
   "outputs": [],
   "source": [
    "catb_model=CatBoostRegressor()"
   ]
  },
  {
   "cell_type": "code",
   "execution_count": 235,
   "metadata": {},
   "outputs": [
    {
     "name": "stdout",
     "output_type": "stream",
     "text": [
      "Fitting 5 folds for each of 18 candidates, totalling 90 fits\n",
      "0:\tlearn: 9696423.4128525\ttotal: 901us\tremaining: 179ms\n",
      "1:\tlearn: 9234541.5828320\ttotal: 1.97ms\tremaining: 195ms\n",
      "2:\tlearn: 8828652.6231930\ttotal: 2.85ms\tremaining: 187ms\n",
      "3:\tlearn: 8479745.5601569\ttotal: 3.83ms\tremaining: 188ms\n",
      "4:\tlearn: 8172773.8627990\ttotal: 4.77ms\tremaining: 186ms\n",
      "5:\tlearn: 7917549.1605475\ttotal: 5.76ms\tremaining: 186ms\n",
      "6:\tlearn: 7697922.8817659\ttotal: 6.65ms\tremaining: 183ms\n",
      "7:\tlearn: 7511926.4139100\ttotal: 7.53ms\tremaining: 181ms\n",
      "8:\tlearn: 7345382.5060368\ttotal: 8.42ms\tremaining: 179ms\n",
      "9:\tlearn: 7183003.1511569\ttotal: 9.38ms\tremaining: 178ms\n",
      "10:\tlearn: 7066904.6483023\ttotal: 10.3ms\tremaining: 177ms\n",
      "11:\tlearn: 6963665.4189812\ttotal: 11.2ms\tremaining: 175ms\n",
      "12:\tlearn: 6845714.9225383\ttotal: 12.1ms\tremaining: 174ms\n",
      "13:\tlearn: 6747580.7749339\ttotal: 13ms\tremaining: 172ms\n",
      "14:\tlearn: 6669721.5343577\ttotal: 13.9ms\tremaining: 171ms\n",
      "15:\tlearn: 6599961.3154499\ttotal: 14.8ms\tremaining: 170ms\n",
      "16:\tlearn: 6535838.5699415\ttotal: 15.8ms\tremaining: 170ms\n",
      "17:\tlearn: 6464946.0713077\ttotal: 16.7ms\tremaining: 169ms\n",
      "18:\tlearn: 6411015.4386033\ttotal: 17.6ms\tremaining: 168ms\n",
      "19:\tlearn: 6361692.1562728\ttotal: 18.6ms\tremaining: 167ms\n",
      "20:\tlearn: 6315335.2717291\ttotal: 19.6ms\tremaining: 167ms\n",
      "21:\tlearn: 6273977.5602861\ttotal: 20.6ms\tremaining: 167ms\n",
      "22:\tlearn: 6253879.1189135\ttotal: 21.5ms\tremaining: 165ms\n",
      "23:\tlearn: 6216018.7638768\ttotal: 22.4ms\tremaining: 164ms\n",
      "24:\tlearn: 6174613.2822037\ttotal: 23.5ms\tremaining: 164ms\n",
      "25:\tlearn: 6142572.3232864\ttotal: 24.4ms\tremaining: 164ms\n",
      "26:\tlearn: 6111473.3553807\ttotal: 25.3ms\tremaining: 162ms\n",
      "27:\tlearn: 6085177.5861042\ttotal: 26.2ms\tremaining: 161ms\n",
      "28:\tlearn: 6066076.5179333\ttotal: 27.2ms\tremaining: 160ms\n",
      "29:\tlearn: 6045183.8321660\ttotal: 28.1ms\tremaining: 159ms\n",
      "30:\tlearn: 6027636.2707643\ttotal: 28.9ms\tremaining: 158ms\n",
      "31:\tlearn: 6005183.1999469\ttotal: 29.9ms\tremaining: 157ms\n",
      "32:\tlearn: 5981948.8899853\ttotal: 30.8ms\tremaining: 156ms\n",
      "33:\tlearn: 5963430.1880709\ttotal: 31.8ms\tremaining: 155ms\n",
      "34:\tlearn: 5943774.2443622\ttotal: 32.8ms\tremaining: 154ms\n",
      "35:\tlearn: 5924067.6627688\ttotal: 33.7ms\tremaining: 153ms\n",
      "36:\tlearn: 5907914.2396942\ttotal: 34.5ms\tremaining: 152ms\n",
      "37:\tlearn: 5896629.2011232\ttotal: 35.4ms\tremaining: 151ms\n",
      "38:\tlearn: 5883166.8170074\ttotal: 36.3ms\tremaining: 150ms\n",
      "39:\tlearn: 5869793.2439227\ttotal: 37.2ms\tremaining: 149ms\n",
      "40:\tlearn: 5856061.5182912\ttotal: 38.1ms\tremaining: 148ms\n",
      "41:\tlearn: 5852590.4957654\ttotal: 39.1ms\tremaining: 147ms\n",
      "42:\tlearn: 5839972.5921390\ttotal: 40ms\tremaining: 146ms\n",
      "43:\tlearn: 5831333.5300497\ttotal: 40.8ms\tremaining: 145ms\n",
      "44:\tlearn: 5818038.2243001\ttotal: 41.7ms\tremaining: 144ms\n",
      "45:\tlearn: 5807495.2764129\ttotal: 42.6ms\tremaining: 143ms\n",
      "46:\tlearn: 5798550.2633888\ttotal: 43.5ms\tremaining: 142ms\n",
      "47:\tlearn: 5789798.1588207\ttotal: 44.4ms\tremaining: 141ms\n",
      "48:\tlearn: 5779086.4617552\ttotal: 45.3ms\tremaining: 140ms\n",
      "49:\tlearn: 5769174.9881908\ttotal: 46.3ms\tremaining: 139ms\n",
      "50:\tlearn: 5754827.6918649\ttotal: 47.3ms\tremaining: 138ms\n",
      "51:\tlearn: 5745681.7412240\ttotal: 48.4ms\tremaining: 138ms\n",
      "52:\tlearn: 5738995.1753815\ttotal: 49.4ms\tremaining: 137ms\n",
      "53:\tlearn: 5734109.0136206\ttotal: 50.4ms\tremaining: 136ms\n",
      "54:\tlearn: 5726682.4557140\ttotal: 51.4ms\tremaining: 136ms\n",
      "55:\tlearn: 5717363.8577021\ttotal: 52.4ms\tremaining: 135ms\n",
      "56:\tlearn: 5712702.2631997\ttotal: 53.3ms\tremaining: 134ms\n",
      "57:\tlearn: 5706814.7744380\ttotal: 54.2ms\tremaining: 133ms\n",
      "58:\tlearn: 5699616.2789433\ttotal: 55.1ms\tremaining: 132ms\n",
      "59:\tlearn: 5695700.8615217\ttotal: 56ms\tremaining: 131ms\n",
      "60:\tlearn: 5689060.3453790\ttotal: 56.9ms\tremaining: 130ms\n",
      "61:\tlearn: 5683237.4706648\ttotal: 57.9ms\tremaining: 129ms\n",
      "62:\tlearn: 5677016.4384690\ttotal: 58.9ms\tremaining: 128ms\n",
      "63:\tlearn: 5671961.0224159\ttotal: 59.7ms\tremaining: 127ms\n",
      "64:\tlearn: 5667527.2815306\ttotal: 60.7ms\tremaining: 126ms\n",
      "65:\tlearn: 5664237.8986193\ttotal: 61.6ms\tremaining: 125ms\n",
      "66:\tlearn: 5658029.3308264\ttotal: 62.5ms\tremaining: 124ms\n",
      "67:\tlearn: 5652577.2878399\ttotal: 63.4ms\tremaining: 123ms\n",
      "68:\tlearn: 5647391.9065133\ttotal: 64.3ms\tremaining: 122ms\n",
      "69:\tlearn: 5643962.0936262\ttotal: 65.2ms\tremaining: 121ms\n",
      "70:\tlearn: 5637072.6143964\ttotal: 66.1ms\tremaining: 120ms\n",
      "71:\tlearn: 5632324.5739629\ttotal: 67ms\tremaining: 119ms\n",
      "72:\tlearn: 5629613.5494816\ttotal: 67.9ms\tremaining: 118ms\n",
      "73:\tlearn: 5626388.7480378\ttotal: 68.8ms\tremaining: 117ms\n",
      "74:\tlearn: 5622120.2166007\ttotal: 69.7ms\tremaining: 116ms\n",
      "75:\tlearn: 5618249.8331813\ttotal: 70.7ms\tremaining: 115ms\n",
      "76:\tlearn: 5610985.2206873\ttotal: 71.7ms\tremaining: 114ms\n",
      "77:\tlearn: 5606982.2661233\ttotal: 72.6ms\tremaining: 113ms\n",
      "78:\tlearn: 5604470.7299760\ttotal: 73.4ms\tremaining: 112ms\n",
      "79:\tlearn: 5600452.6200533\ttotal: 74.3ms\tremaining: 111ms\n",
      "80:\tlearn: 5597007.0952551\ttotal: 75.2ms\tremaining: 110ms\n",
      "81:\tlearn: 5590598.4120520\ttotal: 76.1ms\tremaining: 110ms\n",
      "82:\tlearn: 5583959.2514761\ttotal: 77.1ms\tremaining: 109ms\n",
      "83:\tlearn: 5579688.5366140\ttotal: 78ms\tremaining: 108ms\n",
      "84:\tlearn: 5576471.7125584\ttotal: 78.9ms\tremaining: 107ms\n",
      "85:\tlearn: 5573516.9872408\ttotal: 79.8ms\tremaining: 106ms\n",
      "86:\tlearn: 5570054.6421377\ttotal: 80.7ms\tremaining: 105ms\n",
      "87:\tlearn: 5566153.1123210\ttotal: 81.6ms\tremaining: 104ms\n",
      "88:\tlearn: 5562418.6920690\ttotal: 82.5ms\tremaining: 103ms\n",
      "89:\tlearn: 5558752.2583218\ttotal: 83.3ms\tremaining: 102ms\n",
      "90:\tlearn: 5556040.2051747\ttotal: 84.3ms\tremaining: 101ms\n",
      "91:\tlearn: 5552034.8369722\ttotal: 85.2ms\tremaining: 100ms\n",
      "92:\tlearn: 5549257.6850093\ttotal: 86.1ms\tremaining: 99.1ms\n",
      "93:\tlearn: 5547083.4455724\ttotal: 87ms\tremaining: 98.1ms\n",
      "94:\tlearn: 5539518.8237291\ttotal: 87.9ms\tremaining: 97.2ms\n",
      "95:\tlearn: 5536227.0917254\ttotal: 88.7ms\tremaining: 96.1ms\n",
      "96:\tlearn: 5529430.2067972\ttotal: 89.6ms\tremaining: 95.1ms\n",
      "97:\tlearn: 5525480.7003699\ttotal: 90.5ms\tremaining: 94.2ms\n",
      "98:\tlearn: 5522284.4876965\ttotal: 91.4ms\tremaining: 93.3ms\n",
      "99:\tlearn: 5515874.8924218\ttotal: 92.3ms\tremaining: 92.3ms\n",
      "100:\tlearn: 5511338.3084916\ttotal: 93.2ms\tremaining: 91.4ms\n",
      "101:\tlearn: 5507783.2606105\ttotal: 94.1ms\tremaining: 90.4ms\n",
      "102:\tlearn: 5505751.7782115\ttotal: 95ms\tremaining: 89.4ms\n",
      "103:\tlearn: 5503477.0001314\ttotal: 95.9ms\tremaining: 88.6ms\n",
      "104:\tlearn: 5500817.3769046\ttotal: 96.9ms\tremaining: 87.7ms\n",
      "105:\tlearn: 5496619.2186939\ttotal: 99.4ms\tremaining: 88.2ms\n",
      "106:\tlearn: 5491927.2723401\ttotal: 100ms\tremaining: 87.3ms\n",
      "107:\tlearn: 5489393.4006207\ttotal: 101ms\tremaining: 86.3ms\n",
      "108:\tlearn: 5485405.1965862\ttotal: 102ms\tremaining: 85.4ms\n",
      "109:\tlearn: 5482598.1914721\ttotal: 103ms\tremaining: 84.4ms\n",
      "110:\tlearn: 5479982.6017728\ttotal: 104ms\tremaining: 83.4ms\n",
      "111:\tlearn: 5477740.4653331\ttotal: 105ms\tremaining: 82.5ms\n",
      "112:\tlearn: 5472777.7108159\ttotal: 106ms\tremaining: 81.5ms\n",
      "113:\tlearn: 5468342.9912200\ttotal: 107ms\tremaining: 80.5ms\n",
      "114:\tlearn: 5463013.9260007\ttotal: 108ms\tremaining: 79.6ms\n",
      "115:\tlearn: 5459192.2924587\ttotal: 109ms\tremaining: 78.6ms\n",
      "116:\tlearn: 5456549.6966733\ttotal: 110ms\tremaining: 77.7ms\n",
      "117:\tlearn: 5454483.7573178\ttotal: 111ms\tremaining: 76.8ms\n",
      "118:\tlearn: 5449954.4225785\ttotal: 111ms\tremaining: 75.9ms\n",
      "119:\tlearn: 5448006.0766170\ttotal: 112ms\tremaining: 74.9ms\n",
      "120:\tlearn: 5444956.2728043\ttotal: 113ms\tremaining: 73.9ms\n",
      "121:\tlearn: 5442609.8312132\ttotal: 114ms\tremaining: 73ms\n",
      "122:\tlearn: 5437712.4456672\ttotal: 115ms\tremaining: 72ms\n",
      "123:\tlearn: 5434407.2361282\ttotal: 116ms\tremaining: 71ms\n",
      "124:\tlearn: 5430101.6412009\ttotal: 117ms\tremaining: 70ms\n",
      "125:\tlearn: 5426933.5193820\ttotal: 118ms\tremaining: 69ms\n",
      "126:\tlearn: 5424187.4805436\ttotal: 118ms\tremaining: 68.1ms\n",
      "127:\tlearn: 5422361.2440211\ttotal: 119ms\tremaining: 67.1ms\n",
      "128:\tlearn: 5419702.2860339\ttotal: 120ms\tremaining: 66.2ms\n",
      "129:\tlearn: 5417672.1804519\ttotal: 121ms\tremaining: 65.3ms\n",
      "130:\tlearn: 5415698.6072128\ttotal: 122ms\tremaining: 64.3ms\n",
      "131:\tlearn: 5412027.8135192\ttotal: 123ms\tremaining: 63.3ms\n",
      "132:\tlearn: 5410259.9657417\ttotal: 124ms\tremaining: 62.4ms\n",
      "133:\tlearn: 5408078.8948741\ttotal: 125ms\tremaining: 61.4ms\n",
      "134:\tlearn: 5405981.1054386\ttotal: 126ms\tremaining: 60.5ms\n",
      "135:\tlearn: 5403395.3566854\ttotal: 126ms\tremaining: 59.5ms\n",
      "136:\tlearn: 5402173.1702035\ttotal: 127ms\tremaining: 58.5ms\n",
      "137:\tlearn: 5401036.6665608\ttotal: 128ms\tremaining: 57.5ms\n",
      "138:\tlearn: 5398727.1632033\ttotal: 129ms\tremaining: 56.6ms\n",
      "139:\tlearn: 5397284.4600513\ttotal: 130ms\tremaining: 55.6ms\n",
      "140:\tlearn: 5395430.4537268\ttotal: 131ms\tremaining: 54.7ms\n",
      "141:\tlearn: 5392785.5212168\ttotal: 132ms\tremaining: 53.8ms\n",
      "142:\tlearn: 5391022.1080321\ttotal: 132ms\tremaining: 52.8ms\n",
      "143:\tlearn: 5389014.2257188\ttotal: 133ms\tremaining: 51.9ms\n",
      "144:\tlearn: 5386354.5544866\ttotal: 134ms\tremaining: 50.9ms\n",
      "145:\tlearn: 5383336.4154905\ttotal: 135ms\tremaining: 50ms\n",
      "146:\tlearn: 5381858.7950640\ttotal: 136ms\tremaining: 49.1ms\n",
      "147:\tlearn: 5378207.1060881\ttotal: 137ms\tremaining: 48.1ms\n",
      "148:\tlearn: 5373444.4790417\ttotal: 138ms\tremaining: 47.2ms\n",
      "149:\tlearn: 5372344.9715190\ttotal: 139ms\tremaining: 46.2ms\n",
      "150:\tlearn: 5370530.7865979\ttotal: 140ms\tremaining: 45.3ms\n",
      "151:\tlearn: 5367293.3408404\ttotal: 140ms\tremaining: 44.3ms\n",
      "152:\tlearn: 5365615.0449644\ttotal: 141ms\tremaining: 43.4ms\n",
      "153:\tlearn: 5364594.2111025\ttotal: 142ms\tremaining: 42.5ms\n",
      "154:\tlearn: 5362771.2754347\ttotal: 143ms\tremaining: 41.5ms\n",
      "155:\tlearn: 5358569.7923328\ttotal: 144ms\tremaining: 40.6ms\n",
      "156:\tlearn: 5356111.7382009\ttotal: 145ms\tremaining: 39.7ms\n",
      "157:\tlearn: 5353190.0542853\ttotal: 146ms\tremaining: 38.7ms\n",
      "158:\tlearn: 5350803.6659259\ttotal: 147ms\tremaining: 37.8ms\n",
      "159:\tlearn: 5348632.8966169\ttotal: 148ms\tremaining: 36.9ms\n",
      "160:\tlearn: 5346086.9746692\ttotal: 148ms\tremaining: 36ms\n",
      "161:\tlearn: 5345146.2344435\ttotal: 149ms\tremaining: 35ms\n",
      "162:\tlearn: 5343271.9353244\ttotal: 150ms\tremaining: 34.1ms\n",
      "163:\tlearn: 5342442.2035281\ttotal: 151ms\tremaining: 33.2ms\n",
      "164:\tlearn: 5341564.0824425\ttotal: 152ms\tremaining: 32.3ms\n"
     ]
    },
    {
     "name": "stdout",
     "output_type": "stream",
     "text": [
      "165:\tlearn: 5339914.4294345\ttotal: 153ms\tremaining: 31.4ms\n",
      "166:\tlearn: 5338485.6341544\ttotal: 154ms\tremaining: 30.5ms\n",
      "167:\tlearn: 5334407.5116530\ttotal: 155ms\tremaining: 29.6ms\n",
      "168:\tlearn: 5331184.8865726\ttotal: 156ms\tremaining: 28.6ms\n",
      "169:\tlearn: 5328030.0422137\ttotal: 157ms\tremaining: 27.7ms\n",
      "170:\tlearn: 5326823.7104816\ttotal: 158ms\tremaining: 26.8ms\n",
      "171:\tlearn: 5323859.4800122\ttotal: 159ms\tremaining: 25.9ms\n",
      "172:\tlearn: 5323244.5272491\ttotal: 160ms\tremaining: 25ms\n",
      "173:\tlearn: 5321117.5954628\ttotal: 161ms\tremaining: 24ms\n",
      "174:\tlearn: 5318065.2487007\ttotal: 162ms\tremaining: 23.1ms\n",
      "175:\tlearn: 5316660.3389228\ttotal: 163ms\tremaining: 22.2ms\n",
      "176:\tlearn: 5314546.7684512\ttotal: 164ms\tremaining: 21.3ms\n",
      "177:\tlearn: 5312111.9673788\ttotal: 165ms\tremaining: 20.4ms\n",
      "178:\tlearn: 5310398.0037904\ttotal: 166ms\tremaining: 19.4ms\n",
      "179:\tlearn: 5307948.9064311\ttotal: 167ms\tremaining: 18.5ms\n",
      "180:\tlearn: 5306268.1791841\ttotal: 168ms\tremaining: 17.6ms\n",
      "181:\tlearn: 5302568.3276631\ttotal: 169ms\tremaining: 16.7ms\n",
      "182:\tlearn: 5301177.1271132\ttotal: 170ms\tremaining: 15.8ms\n",
      "183:\tlearn: 5297215.9055345\ttotal: 171ms\tremaining: 14.9ms\n",
      "184:\tlearn: 5295281.9189103\ttotal: 172ms\tremaining: 13.9ms\n",
      "185:\tlearn: 5293396.4365127\ttotal: 173ms\tremaining: 13ms\n",
      "186:\tlearn: 5291533.1124146\ttotal: 174ms\tremaining: 12.1ms\n",
      "187:\tlearn: 5290576.3921355\ttotal: 175ms\tremaining: 11.2ms\n",
      "188:\tlearn: 5287552.3474231\ttotal: 176ms\tremaining: 10.2ms\n",
      "189:\tlearn: 5286226.9283289\ttotal: 177ms\tremaining: 9.32ms\n",
      "190:\tlearn: 5285416.3865274\ttotal: 178ms\tremaining: 8.39ms\n",
      "191:\tlearn: 5283955.9280922\ttotal: 179ms\tremaining: 7.46ms\n",
      "192:\tlearn: 5282567.7860819\ttotal: 180ms\tremaining: 6.53ms\n",
      "193:\tlearn: 5281514.0503592\ttotal: 181ms\tremaining: 5.6ms\n",
      "194:\tlearn: 5279571.9701875\ttotal: 182ms\tremaining: 4.67ms\n",
      "195:\tlearn: 5276967.1631963\ttotal: 183ms\tremaining: 3.73ms\n",
      "196:\tlearn: 5275295.6480847\ttotal: 184ms\tremaining: 2.8ms\n",
      "197:\tlearn: 5273784.9855834\ttotal: 185ms\tremaining: 1.87ms\n",
      "198:\tlearn: 5272547.6085642\ttotal: 186ms\tremaining: 935us\n",
      "199:\tlearn: 5269088.1095046\ttotal: 187ms\tremaining: 0us\n"
     ]
    }
   ],
   "source": [
    "catb_cv_model=GridSearchCV(catb_model,catb_params,cv=5,n_jobs=-1,verbose=2).fit(X_train,y_train)"
   ]
  },
  {
   "cell_type": "code",
   "execution_count": 236,
   "metadata": {},
   "outputs": [
    {
     "data": {
      "text/plain": [
       "{'depth': 3, 'iterations': 200, 'learning_rate': 0.1}"
      ]
     },
     "execution_count": 236,
     "metadata": {},
     "output_type": "execute_result"
    }
   ],
   "source": [
    "catb_cv_model.best_params_"
   ]
  },
  {
   "cell_type": "code",
   "execution_count": 237,
   "metadata": {},
   "outputs": [
    {
     "name": "stdout",
     "output_type": "stream",
     "text": [
      "0:\tlearn: 9696423.4128525\ttotal: 925us\tremaining: 184ms\n",
      "1:\tlearn: 9234541.5828320\ttotal: 1.88ms\tremaining: 186ms\n",
      "2:\tlearn: 8828652.6231930\ttotal: 2.71ms\tremaining: 178ms\n",
      "3:\tlearn: 8479745.5601569\ttotal: 3.63ms\tremaining: 178ms\n",
      "4:\tlearn: 8172773.8627990\ttotal: 4.5ms\tremaining: 175ms\n",
      "5:\tlearn: 7917549.1605475\ttotal: 5.32ms\tremaining: 172ms\n",
      "6:\tlearn: 7697922.8817659\ttotal: 6.11ms\tremaining: 168ms\n",
      "7:\tlearn: 7511926.4139100\ttotal: 6.92ms\tremaining: 166ms\n",
      "8:\tlearn: 7345382.5060368\ttotal: 7.72ms\tremaining: 164ms\n",
      "9:\tlearn: 7183003.1511569\ttotal: 8.65ms\tremaining: 164ms\n",
      "10:\tlearn: 7066904.6483023\ttotal: 9.55ms\tremaining: 164ms\n",
      "11:\tlearn: 6963665.4189812\ttotal: 10.4ms\tremaining: 163ms\n",
      "12:\tlearn: 6845714.9225383\ttotal: 11.3ms\tremaining: 163ms\n",
      "13:\tlearn: 6747580.7749339\ttotal: 12.2ms\tremaining: 162ms\n",
      "14:\tlearn: 6669721.5343577\ttotal: 13ms\tremaining: 160ms\n",
      "15:\tlearn: 6599961.3154499\ttotal: 13.8ms\tremaining: 159ms\n",
      "16:\tlearn: 6535838.5699415\ttotal: 14.7ms\tremaining: 158ms\n",
      "17:\tlearn: 6464946.0713077\ttotal: 15.6ms\tremaining: 158ms\n",
      "18:\tlearn: 6411015.4386033\ttotal: 16.5ms\tremaining: 157ms\n",
      "19:\tlearn: 6361692.1562728\ttotal: 17.2ms\tremaining: 155ms\n",
      "20:\tlearn: 6315335.2717291\ttotal: 18ms\tremaining: 154ms\n",
      "21:\tlearn: 6273977.5602861\ttotal: 18.8ms\tremaining: 152ms\n",
      "22:\tlearn: 6253879.1189135\ttotal: 19.7ms\tremaining: 152ms\n",
      "23:\tlearn: 6216018.7638768\ttotal: 20.5ms\tremaining: 150ms\n",
      "24:\tlearn: 6174613.2822037\ttotal: 21.4ms\tremaining: 150ms\n",
      "25:\tlearn: 6142572.3232864\ttotal: 22.2ms\tremaining: 149ms\n",
      "26:\tlearn: 6111473.3553807\ttotal: 23.1ms\tremaining: 148ms\n",
      "27:\tlearn: 6085177.5861042\ttotal: 24ms\tremaining: 147ms\n",
      "28:\tlearn: 6066076.5179333\ttotal: 24.9ms\tremaining: 147ms\n",
      "29:\tlearn: 6045183.8321660\ttotal: 25.8ms\tremaining: 146ms\n",
      "30:\tlearn: 6027636.2707643\ttotal: 26.6ms\tremaining: 145ms\n",
      "31:\tlearn: 6005183.1999469\ttotal: 27.4ms\tremaining: 144ms\n",
      "32:\tlearn: 5981948.8899853\ttotal: 28.3ms\tremaining: 143ms\n",
      "33:\tlearn: 5963430.1880709\ttotal: 29.3ms\tremaining: 143ms\n",
      "34:\tlearn: 5943774.2443622\ttotal: 30.1ms\tremaining: 142ms\n",
      "35:\tlearn: 5924067.6627688\ttotal: 31.1ms\tremaining: 142ms\n",
      "36:\tlearn: 5907914.2396942\ttotal: 32ms\tremaining: 141ms\n",
      "37:\tlearn: 5896629.2011232\ttotal: 32.8ms\tremaining: 140ms\n",
      "38:\tlearn: 5883166.8170074\ttotal: 33.7ms\tremaining: 139ms\n",
      "39:\tlearn: 5869793.2439227\ttotal: 34.6ms\tremaining: 138ms\n",
      "40:\tlearn: 5856061.5182912\ttotal: 35.5ms\tremaining: 138ms\n",
      "41:\tlearn: 5852590.4957654\ttotal: 36.4ms\tremaining: 137ms\n",
      "42:\tlearn: 5839972.5921390\ttotal: 37.2ms\tremaining: 136ms\n",
      "43:\tlearn: 5831333.5300497\ttotal: 38.1ms\tremaining: 135ms\n",
      "44:\tlearn: 5818038.2243001\ttotal: 39ms\tremaining: 134ms\n",
      "45:\tlearn: 5807495.2764129\ttotal: 39.9ms\tremaining: 133ms\n",
      "46:\tlearn: 5798550.2633888\ttotal: 40.7ms\tremaining: 133ms\n",
      "47:\tlearn: 5789798.1588207\ttotal: 41.5ms\tremaining: 132ms\n",
      "48:\tlearn: 5779086.4617552\ttotal: 42.4ms\tremaining: 131ms\n",
      "49:\tlearn: 5769174.9881908\ttotal: 43.3ms\tremaining: 130ms\n",
      "50:\tlearn: 5754827.6918649\ttotal: 44.2ms\tremaining: 129ms\n",
      "51:\tlearn: 5745681.7412240\ttotal: 45.1ms\tremaining: 128ms\n",
      "52:\tlearn: 5738995.1753815\ttotal: 46ms\tremaining: 127ms\n",
      "53:\tlearn: 5734109.0136206\ttotal: 46.8ms\tremaining: 127ms\n",
      "54:\tlearn: 5726682.4557140\ttotal: 47.7ms\tremaining: 126ms\n",
      "55:\tlearn: 5717363.8577021\ttotal: 48.6ms\tremaining: 125ms\n",
      "56:\tlearn: 5712702.2631997\ttotal: 49.5ms\tremaining: 124ms\n",
      "57:\tlearn: 5706814.7744380\ttotal: 50.3ms\tremaining: 123ms\n",
      "58:\tlearn: 5699616.2789433\ttotal: 51.2ms\tremaining: 122ms\n",
      "59:\tlearn: 5695700.8615217\ttotal: 52.1ms\tremaining: 122ms\n",
      "60:\tlearn: 5689060.3453790\ttotal: 53ms\tremaining: 121ms\n",
      "61:\tlearn: 5683237.4706648\ttotal: 53.9ms\tremaining: 120ms\n",
      "62:\tlearn: 5677016.4384690\ttotal: 54.8ms\tremaining: 119ms\n",
      "63:\tlearn: 5671961.0224159\ttotal: 55.7ms\tremaining: 118ms\n",
      "64:\tlearn: 5667527.2815306\ttotal: 56.6ms\tremaining: 118ms\n",
      "65:\tlearn: 5664237.8986193\ttotal: 57.5ms\tremaining: 117ms\n",
      "66:\tlearn: 5658029.3308264\ttotal: 58.4ms\tremaining: 116ms\n",
      "67:\tlearn: 5652577.2878399\ttotal: 59.3ms\tremaining: 115ms\n",
      "68:\tlearn: 5647391.9065133\ttotal: 60.2ms\tremaining: 114ms\n",
      "69:\tlearn: 5643962.0936262\ttotal: 61ms\tremaining: 113ms\n",
      "70:\tlearn: 5637072.6143964\ttotal: 61.9ms\tremaining: 112ms\n",
      "71:\tlearn: 5632324.5739629\ttotal: 62.8ms\tremaining: 112ms\n",
      "72:\tlearn: 5629613.5494816\ttotal: 63.6ms\tremaining: 111ms\n",
      "73:\tlearn: 5626388.7480378\ttotal: 64.6ms\tremaining: 110ms\n",
      "74:\tlearn: 5622120.2166007\ttotal: 65.5ms\tremaining: 109ms\n",
      "75:\tlearn: 5618249.8331813\ttotal: 66.4ms\tremaining: 108ms\n",
      "76:\tlearn: 5610985.2206873\ttotal: 67.2ms\tremaining: 107ms\n",
      "77:\tlearn: 5606982.2661233\ttotal: 68.1ms\tremaining: 106ms\n",
      "78:\tlearn: 5604470.7299760\ttotal: 68.9ms\tremaining: 106ms\n",
      "79:\tlearn: 5600452.6200533\ttotal: 69.7ms\tremaining: 105ms\n",
      "80:\tlearn: 5597007.0952551\ttotal: 70.6ms\tremaining: 104ms\n",
      "81:\tlearn: 5590598.4120520\ttotal: 71.5ms\tremaining: 103ms\n",
      "82:\tlearn: 5583959.2514761\ttotal: 72.3ms\tremaining: 102ms\n",
      "83:\tlearn: 5579688.5366140\ttotal: 73.2ms\tremaining: 101ms\n",
      "84:\tlearn: 5576471.7125584\ttotal: 74ms\tremaining: 100ms\n",
      "85:\tlearn: 5573516.9872408\ttotal: 74.9ms\tremaining: 99.3ms\n",
      "86:\tlearn: 5570054.6421377\ttotal: 75.7ms\tremaining: 98.3ms\n",
      "87:\tlearn: 5566153.1123210\ttotal: 76.6ms\tremaining: 97.5ms\n",
      "88:\tlearn: 5562418.6920690\ttotal: 77.5ms\tremaining: 96.7ms\n",
      "89:\tlearn: 5558752.2583218\ttotal: 78.4ms\tremaining: 95.8ms\n",
      "90:\tlearn: 5556040.2051747\ttotal: 79.3ms\tremaining: 94.9ms\n",
      "91:\tlearn: 5552034.8369722\ttotal: 80.1ms\tremaining: 94.1ms\n",
      "92:\tlearn: 5549257.6850093\ttotal: 81ms\tremaining: 93.2ms\n",
      "93:\tlearn: 5547083.4455724\ttotal: 81.9ms\tremaining: 92.4ms\n",
      "94:\tlearn: 5539518.8237291\ttotal: 82.8ms\tremaining: 91.5ms\n",
      "95:\tlearn: 5536227.0917254\ttotal: 83.6ms\tremaining: 90.6ms\n",
      "96:\tlearn: 5529430.2067972\ttotal: 84.5ms\tremaining: 89.7ms\n",
      "97:\tlearn: 5525480.7003699\ttotal: 85.3ms\tremaining: 88.8ms\n",
      "98:\tlearn: 5522284.4876965\ttotal: 86.3ms\tremaining: 88ms\n",
      "99:\tlearn: 5515874.8924218\ttotal: 87.1ms\tremaining: 87.1ms\n",
      "100:\tlearn: 5511338.3084916\ttotal: 88ms\tremaining: 86.3ms\n",
      "101:\tlearn: 5507783.2606105\ttotal: 89ms\tremaining: 85.5ms\n",
      "102:\tlearn: 5505751.7782115\ttotal: 89.9ms\tremaining: 84.7ms\n",
      "103:\tlearn: 5503477.0001314\ttotal: 90.9ms\tremaining: 83.9ms\n",
      "104:\tlearn: 5500817.3769046\ttotal: 91.8ms\tremaining: 83.1ms\n",
      "105:\tlearn: 5496619.2186939\ttotal: 92.8ms\tremaining: 82.3ms\n",
      "106:\tlearn: 5491927.2723401\ttotal: 93.7ms\tremaining: 81.4ms\n",
      "107:\tlearn: 5489393.4006207\ttotal: 94.5ms\tremaining: 80.5ms\n",
      "108:\tlearn: 5485405.1965862\ttotal: 95.3ms\tremaining: 79.6ms\n",
      "109:\tlearn: 5482598.1914721\ttotal: 96.3ms\tremaining: 78.8ms\n",
      "110:\tlearn: 5479982.6017728\ttotal: 97.3ms\tremaining: 78ms\n",
      "111:\tlearn: 5477740.4653331\ttotal: 98.1ms\tremaining: 77.1ms\n",
      "112:\tlearn: 5472777.7108159\ttotal: 99.1ms\tremaining: 76.3ms\n",
      "113:\tlearn: 5468342.9912200\ttotal: 100ms\tremaining: 75.4ms\n",
      "114:\tlearn: 5463013.9260007\ttotal: 101ms\tremaining: 74.5ms\n",
      "115:\tlearn: 5459192.2924587\ttotal: 102ms\tremaining: 73.8ms\n",
      "116:\tlearn: 5456549.6966733\ttotal: 103ms\tremaining: 72.9ms\n",
      "117:\tlearn: 5454483.7573178\ttotal: 104ms\tremaining: 72.1ms\n",
      "118:\tlearn: 5449954.4225785\ttotal: 105ms\tremaining: 71.2ms\n",
      "119:\tlearn: 5448006.0766170\ttotal: 105ms\tremaining: 70.3ms\n",
      "120:\tlearn: 5444956.2728043\ttotal: 106ms\tremaining: 69.4ms\n",
      "121:\tlearn: 5442609.8312132\ttotal: 107ms\tremaining: 68.6ms\n",
      "122:\tlearn: 5437712.4456672\ttotal: 108ms\tremaining: 67.7ms\n",
      "123:\tlearn: 5434407.2361282\ttotal: 109ms\tremaining: 66.8ms\n",
      "124:\tlearn: 5430101.6412009\ttotal: 110ms\tremaining: 65.9ms\n",
      "125:\tlearn: 5426933.5193820\ttotal: 111ms\tremaining: 65ms\n",
      "126:\tlearn: 5424187.4805436\ttotal: 111ms\tremaining: 64.1ms\n",
      "127:\tlearn: 5422361.2440211\ttotal: 112ms\tremaining: 63.2ms\n",
      "128:\tlearn: 5419702.2860339\ttotal: 113ms\tremaining: 62.3ms\n",
      "129:\tlearn: 5417672.1804519\ttotal: 114ms\tremaining: 61.5ms\n",
      "130:\tlearn: 5415698.6072128\ttotal: 115ms\tremaining: 60.6ms\n",
      "131:\tlearn: 5412027.8135192\ttotal: 116ms\tremaining: 59.7ms\n",
      "132:\tlearn: 5410259.9657417\ttotal: 117ms\tremaining: 58.8ms\n",
      "133:\tlearn: 5408078.8948741\ttotal: 118ms\tremaining: 58ms\n",
      "134:\tlearn: 5405981.1054386\ttotal: 119ms\tremaining: 57.1ms\n",
      "135:\tlearn: 5403395.3566854\ttotal: 120ms\tremaining: 56.3ms\n",
      "136:\tlearn: 5402173.1702035\ttotal: 120ms\tremaining: 55.4ms\n",
      "137:\tlearn: 5401036.6665608\ttotal: 121ms\tremaining: 54.5ms\n",
      "138:\tlearn: 5398727.1632033\ttotal: 122ms\tremaining: 53.6ms\n",
      "139:\tlearn: 5397284.4600513\ttotal: 123ms\tremaining: 52.7ms\n",
      "140:\tlearn: 5395430.4537268\ttotal: 124ms\tremaining: 51.9ms\n",
      "141:\tlearn: 5392785.5212168\ttotal: 125ms\tremaining: 51ms\n",
      "142:\tlearn: 5391022.1080321\ttotal: 126ms\tremaining: 50.1ms\n",
      "143:\tlearn: 5389014.2257188\ttotal: 127ms\tremaining: 49.5ms\n",
      "144:\tlearn: 5386354.5544866\ttotal: 128ms\tremaining: 48.7ms\n",
      "145:\tlearn: 5383336.4154905\ttotal: 129ms\tremaining: 47.8ms\n",
      "146:\tlearn: 5381858.7950640\ttotal: 130ms\tremaining: 46.9ms\n",
      "147:\tlearn: 5378207.1060881\ttotal: 131ms\tremaining: 46ms\n",
      "148:\tlearn: 5373444.4790417\ttotal: 132ms\tremaining: 45.1ms\n",
      "149:\tlearn: 5372344.9715190\ttotal: 133ms\tremaining: 44.2ms\n",
      "150:\tlearn: 5370530.7865979\ttotal: 134ms\tremaining: 43.3ms\n",
      "151:\tlearn: 5367293.3408404\ttotal: 134ms\tremaining: 42.5ms\n",
      "152:\tlearn: 5365615.0449644\ttotal: 135ms\tremaining: 41.6ms\n",
      "153:\tlearn: 5364594.2111025\ttotal: 136ms\tremaining: 40.7ms\n",
      "154:\tlearn: 5362771.2754347\ttotal: 137ms\tremaining: 39.8ms\n",
      "155:\tlearn: 5358569.7923328\ttotal: 138ms\tremaining: 38.9ms\n",
      "156:\tlearn: 5356111.7382009\ttotal: 139ms\tremaining: 38ms\n",
      "157:\tlearn: 5353190.0542853\ttotal: 139ms\tremaining: 37.1ms\n",
      "158:\tlearn: 5350803.6659259\ttotal: 140ms\tremaining: 36.2ms\n",
      "159:\tlearn: 5348632.8966169\ttotal: 141ms\tremaining: 35.3ms\n",
      "160:\tlearn: 5346086.9746692\ttotal: 142ms\tremaining: 34.4ms\n",
      "161:\tlearn: 5345146.2344435\ttotal: 143ms\tremaining: 33.5ms\n",
      "162:\tlearn: 5343271.9353244\ttotal: 144ms\tremaining: 32.6ms\n",
      "163:\tlearn: 5342442.2035281\ttotal: 144ms\tremaining: 31.7ms\n"
     ]
    },
    {
     "name": "stdout",
     "output_type": "stream",
     "text": [
      "164:\tlearn: 5341564.0824425\ttotal: 145ms\tremaining: 30.9ms\n",
      "165:\tlearn: 5339914.4294345\ttotal: 146ms\tremaining: 30ms\n",
      "166:\tlearn: 5338485.6341544\ttotal: 147ms\tremaining: 29.1ms\n",
      "167:\tlearn: 5334407.5116530\ttotal: 148ms\tremaining: 28.2ms\n",
      "168:\tlearn: 5331184.8865726\ttotal: 149ms\tremaining: 27.3ms\n",
      "169:\tlearn: 5328030.0422137\ttotal: 150ms\tremaining: 26.4ms\n",
      "170:\tlearn: 5326823.7104816\ttotal: 151ms\tremaining: 25.5ms\n",
      "171:\tlearn: 5323859.4800122\ttotal: 152ms\tremaining: 24.7ms\n",
      "172:\tlearn: 5323244.5272491\ttotal: 152ms\tremaining: 23.8ms\n",
      "173:\tlearn: 5321117.5954628\ttotal: 153ms\tremaining: 22.9ms\n",
      "174:\tlearn: 5318065.2487007\ttotal: 154ms\tremaining: 22ms\n",
      "175:\tlearn: 5316660.3389228\ttotal: 155ms\tremaining: 21.2ms\n",
      "176:\tlearn: 5314546.7684512\ttotal: 156ms\tremaining: 20.3ms\n",
      "177:\tlearn: 5312111.9673788\ttotal: 157ms\tremaining: 19.4ms\n",
      "178:\tlearn: 5310398.0037904\ttotal: 158ms\tremaining: 18.6ms\n",
      "179:\tlearn: 5307948.9064311\ttotal: 159ms\tremaining: 17.7ms\n",
      "180:\tlearn: 5306268.1791841\ttotal: 160ms\tremaining: 16.8ms\n",
      "181:\tlearn: 5302568.3276631\ttotal: 161ms\tremaining: 15.9ms\n",
      "182:\tlearn: 5301177.1271132\ttotal: 162ms\tremaining: 15.1ms\n",
      "183:\tlearn: 5297215.9055345\ttotal: 163ms\tremaining: 14.2ms\n",
      "184:\tlearn: 5295281.9189103\ttotal: 164ms\tremaining: 13.3ms\n",
      "185:\tlearn: 5293396.4365127\ttotal: 165ms\tremaining: 12.4ms\n",
      "186:\tlearn: 5291533.1124146\ttotal: 166ms\tremaining: 11.5ms\n",
      "187:\tlearn: 5290576.3921355\ttotal: 167ms\tremaining: 10.7ms\n",
      "188:\tlearn: 5287552.3474231\ttotal: 168ms\tremaining: 9.77ms\n",
      "189:\tlearn: 5286226.9283289\ttotal: 169ms\tremaining: 8.89ms\n",
      "190:\tlearn: 5285416.3865274\ttotal: 170ms\tremaining: 8ms\n",
      "191:\tlearn: 5283955.9280922\ttotal: 171ms\tremaining: 7.11ms\n",
      "192:\tlearn: 5282567.7860819\ttotal: 172ms\tremaining: 6.23ms\n",
      "193:\tlearn: 5281514.0503592\ttotal: 173ms\tremaining: 5.34ms\n",
      "194:\tlearn: 5279571.9701875\ttotal: 174ms\tremaining: 4.45ms\n",
      "195:\tlearn: 5276967.1631963\ttotal: 174ms\tremaining: 3.56ms\n",
      "196:\tlearn: 5275295.6480847\ttotal: 175ms\tremaining: 2.67ms\n",
      "197:\tlearn: 5273784.9855834\ttotal: 176ms\tremaining: 1.78ms\n",
      "198:\tlearn: 5272547.6085642\ttotal: 177ms\tremaining: 890us\n",
      "199:\tlearn: 5269088.1095046\ttotal: 178ms\tremaining: 0us\n"
     ]
    }
   ],
   "source": [
    "catb_tuned=CatBoostRegressor(depth=3, iterations=200, learning_rate=0.1).fit(X_train,y_train)"
   ]
  },
  {
   "cell_type": "code",
   "execution_count": 238,
   "metadata": {},
   "outputs": [],
   "source": [
    "y_pred=catb_tuned.predict(X_test)"
   ]
  },
  {
   "cell_type": "code",
   "execution_count": 239,
   "metadata": {},
   "outputs": [
    {
     "data": {
      "text/plain": [
       "6468006.183185609"
      ]
     },
     "execution_count": 239,
     "metadata": {},
     "output_type": "execute_result"
    }
   ],
   "source": [
    "np.sqrt(mean_squared_error(y_test,y_pred))"
   ]
  }
 ],
 "metadata": {
  "kernelspec": {
   "display_name": "Python 3",
   "language": "python",
   "name": "python3"
  },
  "language_info": {
   "codemirror_mode": {
    "name": "ipython",
    "version": 3
   },
   "file_extension": ".py",
   "mimetype": "text/x-python",
   "name": "python",
   "nbconvert_exporter": "python",
   "pygments_lexer": "ipython3",
   "version": "3.8.3"
  }
 },
 "nbformat": 4,
 "nbformat_minor": 4
}
